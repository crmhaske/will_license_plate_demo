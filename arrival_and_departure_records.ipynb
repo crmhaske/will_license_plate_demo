{
 "cells": [
  {
   "cell_type": "markdown",
   "id": "99dea5a5-679d-482b-9727-a73838eef3ed",
   "metadata": {},
   "source": [
    "# Setup"
   ]
  },
  {
   "cell_type": "code",
   "execution_count": 130,
   "id": "460d01e2-db08-4220-a01e-c7481a791eb4",
   "metadata": {},
   "outputs": [],
   "source": [
    "import os, yaml, sqlite3, hashlib, random, time\n",
    "from datetime import datetime, timezone\n",
    "\n",
    "import pandas as pd\n",
    "import numpy as np\n",
    "\n",
    "from utils import extract_license_plate_number\n",
    "\n",
    "# Load and extract configuration variables\n",
    "# ----\n",
    "with open('config.yml', 'r') as f:\n",
    "    config = yaml.safe_load(f)\n",
    "# Path where license plate images of arriving vehicles are saved\n",
    "arrivals_path = config['file_paths']['arrivals']\n",
    "# Path where license plate images of departing vehicles are saved\n",
    "departures_path = config['file_paths']['departures']\n",
    "# Path to sample images, selection of 50 from https://www.kaggle.com/datasets/nickyazdani/license-plate-text-recognition-dataset\n",
    "images_path = config['file_paths']['images']\n",
    "# Path to the sqlite database\n",
    "db_path = os.path.join(config['database']['location'], config['database']['name']+'.db')\n",
    "\n",
    "# Start fresh instead of appending to existing database tables\n",
    "FRESH_START = True\n",
    "# Number of days to generate sample data for\n",
    "N_DAYS = 7\n",
    "# Maximum visit length in hours\n",
    "MAX_VISIT_LEN_HRS = 4"
   ]
  },
  {
   "cell_type": "markdown",
   "id": "bf70452f-4607-438d-a9a5-6bf9a0f41780",
   "metadata": {},
   "source": [
    "## Database & Tables"
   ]
  },
  {
   "cell_type": "code",
   "execution_count": 128,
   "id": "082377c7-dcf3-444d-912b-4219160bbdd3",
   "metadata": {},
   "outputs": [],
   "source": [
    "# Connect to the database and create tables if they do not exist\n",
    "# ----\n",
    "# Note - if the database does not exist it will be created\n",
    "with sqlite3.connect(db_path) as db_conn:\n",
    "    db_cur = db_conn.cursor()  # cursor to execute SQL statements on db_conn\n",
    "    \n",
    "    # Create tables if they do not already exist\n",
    "    ## Arrivals\n",
    "    if FRESH_START:\n",
    "        res = db_cur.execute('drop table arrivals')\n",
    "    res = db_cur.execute(\n",
    "    \"\"\"create table if not exists arrivals(\n",
    "        arrival_record_id string, license_plate_number string, arrival_ts_utc timestamp, arrival_comment string, arrival_created_at_utc timestamp\n",
    "    )\"\"\")\n",
    "    ## Departures\n",
    "    if FRESH_START:\n",
    "        res = db_cur.execute('drop table departures')  # uncomment to delete table and start fresh\n",
    "    res = db_cur.execute(\n",
    "    \"\"\"create table if not exists departures(\n",
    "        arrival_record_id string, license_plate_number string, departure_ts_utc timestamp, departure_comment string, departure_created_at_utc timestamp\n",
    "    )\"\"\")"
   ]
  },
  {
   "cell_type": "markdown",
   "id": "231a0cc6-b3d3-4480-b8d6-3dcb2122ec29",
   "metadata": {},
   "source": [
    "## Generate Sample Data"
   ]
  },
  {
   "cell_type": "code",
   "execution_count": 148,
   "id": "c6bf0d70-f261-4942-991a-e01da393f293",
   "metadata": {},
   "outputs": [],
   "source": [
    "images = os.listdir(images_path)\n",
    "n_daily_visitors = np.random.normal(20, 5, N_DAYS).astype(int)\n",
    "daily_visitors = [np.random.choice(images, v, replace=False) for v in n_daily_visitors]\n",
    "\n",
    "for i in range(N_DAYS):\n",
    "    date = datetime.now().replace(hour=0, minute=0, second=0, microsecond=0) - timedelta(days=i+1)\n",
    "    arrival_times = [\n",
    "        date + timedelta(\n",
    "            hours=random.randint(0,23),\n",
    "            minutes=random.randint(0,59),\n",
    "            seconds=random.randint(0,59)\n",
    "        )\n",
    "        for j in range(len(daily_visitors[i]))\n",
    "    ]\n",
    "    departure_times = [\n",
    "        arrival_times[j] + timedelta(\n",
    "            hours=random.randint(0, MAX_VISIT_LEN_HRS),\n",
    "            minutes=random.randint(0,59),\n",
    "            seconds=random.randint(0,59)\n",
    "        )\n",
    "        for j in range(len(daily_visitors[i]))\n",
    "    ]\n",
    "\n",
    "    for j in range(len(daily_visitors[i])):\n",
    "        car = daily_visitors[i][j]\n",
    "        arrival_creation_time = arrival_times[j]\n",
    "        departure_creation_time = departure_times[j]\n",
    "\n",
    "        base_file_path = os.path.join(images_path, car)\n",
    "        car = os.path.splitext(car)\n",
    "        arrival_file_path = os.path.join(\n",
    "            arrivals_path,\n",
    "            'staging',\n",
    "            f\"{car[0]}_{datetime.strftime(arrival_creation_time, '%Y%m%dT%H%M%S')}\"+car[1]\n",
    "            \n",
    "        )\n",
    "        departure_file_path = os.path.join(\n",
    "            departures_path,\n",
    "            'staging',\n",
    "            f\"{car[0]}_{datetime.strftime(departure_creation_time, '%Y%m%dT%H%M%S')}\"+car[1]\n",
    "        )\n",
    "        os.system(f'cp {base_file_path} {arrival_file_path}')\n",
    "        os.utime(arrival_file_path, (int(time.mktime(arrival_creation_time.timetuple())), int(time.mktime(arrival_creation_time.timetuple()))))\n",
    "        os.system(f'cp {base_file_path} {departure_file_path}')\n",
    "        os.utime(departure_file_path, (int(time.mktime(departure_creation_time.timetuple())), int(time.mktime(departure_creation_time.timetuple()))))"
   ]
  },
  {
   "cell_type": "markdown",
   "id": "99bc1fa3-43cd-4e54-aa56-c5622dcb3309",
   "metadata": {},
   "source": [
    "# Arrivals"
   ]
  },
  {
   "cell_type": "code",
   "execution_count": 150,
   "id": "2c79f40b-bacd-4e33-95a4-a5e879b04aa1",
   "metadata": {},
   "outputs": [
    {
     "name": "stderr",
     "output_type": "stream",
     "text": [
      "Could not find image processor class in the image processor config or the model config. Loading based on pattern matching with the model's feature extractor configuration.\n",
      "Some weights of VisionEncoderDecoderModel were not initialized from the model checkpoint at microsoft/trocr-base-printed and are newly initialized: ['encoder.pooler.dense.weight', 'encoder.pooler.dense.bias']\n",
      "You should probably TRAIN this model on a down-stream task to be able to use it for predictions and inference.\n",
      "Could not find image processor class in the image processor config or the model config. Loading based on pattern matching with the model's feature extractor configuration.\n"
     ]
    },
    {
     "name": "stdout",
     "output_type": "stream",
     "text": [
      "Arrival Record Inserted - OK\n",
      "[('627ffb0901a3d73e68b489c948e66e36', 'RT:7178', '2023-12-29 00:09:50.000000', '28_20231228T190950.jpg', '2023-12-29 22:29:27.483622')]\n"
     ]
    },
    {
     "name": "stderr",
     "output_type": "stream",
     "text": [
      "Some weights of VisionEncoderDecoderModel were not initialized from the model checkpoint at microsoft/trocr-base-printed and are newly initialized: ['encoder.pooler.dense.weight', 'encoder.pooler.dense.bias']\n",
      "You should probably TRAIN this model on a down-stream task to be able to use it for predictions and inference.\n",
      "Could not find image processor class in the image processor config or the model config. Loading based on pattern matching with the model's feature extractor configuration.\n"
     ]
    },
    {
     "name": "stdout",
     "output_type": "stream",
     "text": [
      "Arrival Record Inserted - OK\n",
      "[('414f2a5b344b31bf6c079ad421f26084', '8440 GZ', '2023-12-22 23:39:10.000000', '27_20231222T183910.jpg', '2023-12-29 22:29:34.560475')]\n"
     ]
    },
    {
     "name": "stderr",
     "output_type": "stream",
     "text": [
      "Some weights of VisionEncoderDecoderModel were not initialized from the model checkpoint at microsoft/trocr-base-printed and are newly initialized: ['encoder.pooler.dense.weight', 'encoder.pooler.dense.bias']\n",
      "You should probably TRAIN this model on a down-stream task to be able to use it for predictions and inference.\n",
      "Could not find image processor class in the image processor config or the model config. Loading based on pattern matching with the model's feature extractor configuration.\n"
     ]
    },
    {
     "name": "stdout",
     "output_type": "stream",
     "text": [
      "Arrival Record Inserted - OK\n",
      "[('fa9c17e8d30b712abbb2957856ac56f2', 890598, '2023-12-27 02:43:13.000000', '69_20231226T214313.jpg', '2023-12-29 22:29:41.443708')]\n"
     ]
    },
    {
     "name": "stderr",
     "output_type": "stream",
     "text": [
      "Some weights of VisionEncoderDecoderModel were not initialized from the model checkpoint at microsoft/trocr-base-printed and are newly initialized: ['encoder.pooler.dense.weight', 'encoder.pooler.dense.bias']\n",
      "You should probably TRAIN this model on a down-stream task to be able to use it for predictions and inference.\n",
      "Could not find image processor class in the image processor config or the model config. Loading based on pattern matching with the model's feature extractor configuration.\n"
     ]
    },
    {
     "name": "stdout",
     "output_type": "stream",
     "text": [
      "Arrival Record Inserted - OK\n",
      "[('af0c4d9d23647c4dc5645c54955f8d01', 50590, '2023-12-27 19:16:47.000000', '13_20231227T141647.jpg', '2023-12-29 22:29:48.101196')]\n"
     ]
    },
    {
     "name": "stderr",
     "output_type": "stream",
     "text": [
      "Some weights of VisionEncoderDecoderModel were not initialized from the model checkpoint at microsoft/trocr-base-printed and are newly initialized: ['encoder.pooler.dense.weight', 'encoder.pooler.dense.bias']\n",
      "You should probably TRAIN this model on a down-stream task to be able to use it for predictions and inference.\n",
      "Could not find image processor class in the image processor config or the model config. Loading based on pattern matching with the model's feature extractor configuration.\n"
     ]
    },
    {
     "name": "stdout",
     "output_type": "stream",
     "text": [
      "Arrival Record Inserted - OK\n",
      "[('5f4e061cf52aad019505952d193f5d8e', 'HS 6927', '2023-12-28 10:16:29.000000', '85_20231228T051629.jpg', '2023-12-29 22:29:54.868889')]\n"
     ]
    },
    {
     "name": "stderr",
     "output_type": "stream",
     "text": [
      "Some weights of VisionEncoderDecoderModel were not initialized from the model checkpoint at microsoft/trocr-base-printed and are newly initialized: ['encoder.pooler.dense.weight', 'encoder.pooler.dense.bias']\n",
      "You should probably TRAIN this model on a down-stream task to be able to use it for predictions and inference.\n",
      "Could not find image processor class in the image processor config or the model config. Loading based on pattern matching with the model's feature extractor configuration.\n"
     ]
    },
    {
     "name": "stdout",
     "output_type": "stream",
     "text": [
      "Arrival Record Inserted - OK\n",
      "[('3e1fd0fbba2522e853d16f315866910d', '9425-AD', '2023-12-29 02:26:25.000000', '80_20231228T212625.jpg', '2023-12-29 22:30:01.729114')]\n"
     ]
    },
    {
     "name": "stderr",
     "output_type": "stream",
     "text": [
      "Some weights of VisionEncoderDecoderModel were not initialized from the model checkpoint at microsoft/trocr-base-printed and are newly initialized: ['encoder.pooler.dense.weight', 'encoder.pooler.dense.bias']\n",
      "You should probably TRAIN this model on a down-stream task to be able to use it for predictions and inference.\n",
      "Could not find image processor class in the image processor config or the model config. Loading based on pattern matching with the model's feature extractor configuration.\n"
     ]
    },
    {
     "name": "stdout",
     "output_type": "stream",
     "text": [
      "Arrival Record Inserted - OK\n",
      "[('cc13ef68bda2aee46582d6bdcb3b1a40', 'Y57727', '2023-12-28 10:57:35.000000', '46_20231228T055735.jpg', '2023-12-29 22:30:08.540109')]\n"
     ]
    },
    {
     "name": "stderr",
     "output_type": "stream",
     "text": [
      "Some weights of VisionEncoderDecoderModel were not initialized from the model checkpoint at microsoft/trocr-base-printed and are newly initialized: ['encoder.pooler.dense.weight', 'encoder.pooler.dense.bias']\n",
      "You should probably TRAIN this model on a down-stream task to be able to use it for predictions and inference.\n",
      "Could not find image processor class in the image processor config or the model config. Loading based on pattern matching with the model's feature extractor configuration.\n"
     ]
    },
    {
     "name": "stdout",
     "output_type": "stream",
     "text": [
      "Arrival Record Inserted - OK\n",
      "[('e8a1f2181f8b53ba0631c589f2cb5416', 'L92594', '2023-12-24 07:37:59.000000', '23_20231224T023759.jpg', '2023-12-29 22:30:15.661495')]\n"
     ]
    },
    {
     "name": "stderr",
     "output_type": "stream",
     "text": [
      "Some weights of VisionEncoderDecoderModel were not initialized from the model checkpoint at microsoft/trocr-base-printed and are newly initialized: ['encoder.pooler.dense.weight', 'encoder.pooler.dense.bias']\n",
      "You should probably TRAIN this model on a down-stream task to be able to use it for predictions and inference.\n",
      "Could not find image processor class in the image processor config or the model config. Loading based on pattern matching with the model's feature extractor configuration.\n"
     ]
    },
    {
     "name": "stdout",
     "output_type": "stream",
     "text": [
      "Arrival Record Inserted - OK\n",
      "[('7ab8fee51a650ce1cdfe6f1cafaa3ccf', 60160, '2023-12-25 07:24:03.000000', '82_20231225T022403.jpg', '2023-12-29 22:30:22.308645')]\n"
     ]
    },
    {
     "name": "stderr",
     "output_type": "stream",
     "text": [
      "Some weights of VisionEncoderDecoderModel were not initialized from the model checkpoint at microsoft/trocr-base-printed and are newly initialized: ['encoder.pooler.dense.weight', 'encoder.pooler.dense.bias']\n",
      "You should probably TRAIN this model on a down-stream task to be able to use it for predictions and inference.\n",
      "Could not find image processor class in the image processor config or the model config. Loading based on pattern matching with the model's feature extractor configuration.\n"
     ]
    },
    {
     "name": "stdout",
     "output_type": "stream",
     "text": [
      "Arrival Record Inserted - OK\n",
      "[('d94e9e8f6fcd23d21b7aa69488d7c61e', '7/80 ON', '2023-12-29 01:47:35.000000', '68_20231228T204735.jpg', '2023-12-29 22:30:29.332233')]\n"
     ]
    },
    {
     "name": "stderr",
     "output_type": "stream",
     "text": [
      "Some weights of VisionEncoderDecoderModel were not initialized from the model checkpoint at microsoft/trocr-base-printed and are newly initialized: ['encoder.pooler.dense.weight', 'encoder.pooler.dense.bias']\n",
      "You should probably TRAIN this model on a down-stream task to be able to use it for predictions and inference.\n",
      "Could not find image processor class in the image processor config or the model config. Loading based on pattern matching with the model's feature extractor configuration.\n"
     ]
    },
    {
     "name": "stdout",
     "output_type": "stream",
     "text": [
      "Arrival Record Inserted - OK\n",
      "[('6e45a4572835b7ec4199d05d90d62063', '1920ML', '2023-12-26 20:59:29.000000', '71_20231226T155929.jpg', '2023-12-29 22:30:36.319882')]\n"
     ]
    },
    {
     "name": "stderr",
     "output_type": "stream",
     "text": [
      "Some weights of VisionEncoderDecoderModel were not initialized from the model checkpoint at microsoft/trocr-base-printed and are newly initialized: ['encoder.pooler.dense.weight', 'encoder.pooler.dense.bias']\n",
      "You should probably TRAIN this model on a down-stream task to be able to use it for predictions and inference.\n",
      "Could not find image processor class in the image processor config or the model config. Loading based on pattern matching with the model's feature extractor configuration.\n"
     ]
    },
    {
     "name": "stdout",
     "output_type": "stream",
     "text": [
      "Arrival Record Inserted - OK\n",
      "[('3fcb160aa2b59fdc58c417ec270aacf9', 128192, '2023-12-26 17:38:30.000000', '36_20231226T123830.jpg', '2023-12-29 22:30:43.111964')]\n"
     ]
    },
    {
     "name": "stderr",
     "output_type": "stream",
     "text": [
      "Some weights of VisionEncoderDecoderModel were not initialized from the model checkpoint at microsoft/trocr-base-printed and are newly initialized: ['encoder.pooler.dense.weight', 'encoder.pooler.dense.bias']\n",
      "You should probably TRAIN this model on a down-stream task to be able to use it for predictions and inference.\n",
      "Could not find image processor class in the image processor config or the model config. Loading based on pattern matching with the model's feature extractor configuration.\n"
     ]
    },
    {
     "name": "stdout",
     "output_type": "stream",
     "text": [
      "Arrival Record Inserted - OK\n",
      "[('0447386f17465e00062e7fa102d7ba61', '5214MG', '2023-12-25 02:49:36.000000', '34_20231224T214936.jpg', '2023-12-29 22:30:50.024844')]\n"
     ]
    },
    {
     "name": "stderr",
     "output_type": "stream",
     "text": [
      "Some weights of VisionEncoderDecoderModel were not initialized from the model checkpoint at microsoft/trocr-base-printed and are newly initialized: ['encoder.pooler.dense.weight', 'encoder.pooler.dense.bias']\n",
      "You should probably TRAIN this model on a down-stream task to be able to use it for predictions and inference.\n",
      "Could not find image processor class in the image processor config or the model config. Loading based on pattern matching with the model's feature extractor configuration.\n"
     ]
    },
    {
     "name": "stdout",
     "output_type": "stream",
     "text": [
      "Arrival Record Inserted - OK\n",
      "[('9552be3bc70826efc5e3120afada06e2', 'V9.5246', '2023-12-23 00:17:15.000000', '10_20231222T191715.jpg', '2023-12-29 22:30:57.054893')]\n"
     ]
    },
    {
     "name": "stderr",
     "output_type": "stream",
     "text": [
      "Some weights of VisionEncoderDecoderModel were not initialized from the model checkpoint at microsoft/trocr-base-printed and are newly initialized: ['encoder.pooler.dense.weight', 'encoder.pooler.dense.bias']\n",
      "You should probably TRAIN this model on a down-stream task to be able to use it for predictions and inference.\n",
      "Could not find image processor class in the image processor config or the model config. Loading based on pattern matching with the model's feature extractor configuration.\n"
     ]
    },
    {
     "name": "stdout",
     "output_type": "stream",
     "text": [
      "Arrival Record Inserted - OK\n",
      "[('1ad3c9de0d9abb25e01479e8a835ff4e', 'T85625', '2023-12-27 03:17:30.000000', '61_20231226T221730.jpg', '2023-12-29 22:31:04.167533')]\n"
     ]
    },
    {
     "name": "stderr",
     "output_type": "stream",
     "text": [
      "Some weights of VisionEncoderDecoderModel were not initialized from the model checkpoint at microsoft/trocr-base-printed and are newly initialized: ['encoder.pooler.dense.weight', 'encoder.pooler.dense.bias']\n",
      "You should probably TRAIN this model on a down-stream task to be able to use it for predictions and inference.\n",
      "Could not find image processor class in the image processor config or the model config. Loading based on pattern matching with the model's feature extractor configuration.\n"
     ]
    },
    {
     "name": "stdout",
     "output_type": "stream",
     "text": [
      "Arrival Record Inserted - OK\n",
      "[('8946fbb154f36a04b358be60c6544662', '$6.60', '2023-12-24 20:36:20.000000', '67_20231224T153620.jpg', '2023-12-29 22:31:11.044910')]\n"
     ]
    },
    {
     "name": "stderr",
     "output_type": "stream",
     "text": [
      "Some weights of VisionEncoderDecoderModel were not initialized from the model checkpoint at microsoft/trocr-base-printed and are newly initialized: ['encoder.pooler.dense.weight', 'encoder.pooler.dense.bias']\n",
      "You should probably TRAIN this model on a down-stream task to be able to use it for predictions and inference.\n",
      "Could not find image processor class in the image processor config or the model config. Loading based on pattern matching with the model's feature extractor configuration.\n"
     ]
    },
    {
     "name": "stdout",
     "output_type": "stream",
     "text": [
      "Arrival Record Inserted - OK\n",
      "[('0629b56cb0678ffccd5412e3778a14ca', '6519FL', '2023-12-27 23:07:10.000000', '30_20231227T180710.jpg', '2023-12-29 22:31:17.931428')]\n"
     ]
    },
    {
     "name": "stderr",
     "output_type": "stream",
     "text": [
      "Some weights of VisionEncoderDecoderModel were not initialized from the model checkpoint at microsoft/trocr-base-printed and are newly initialized: ['encoder.pooler.dense.weight', 'encoder.pooler.dense.bias']\n",
      "You should probably TRAIN this model on a down-stream task to be able to use it for predictions and inference.\n",
      "Could not find image processor class in the image processor config or the model config. Loading based on pattern matching with the model's feature extractor configuration.\n"
     ]
    },
    {
     "name": "stdout",
     "output_type": "stream",
     "text": [
      "Arrival Record Inserted - OK\n",
      "[('33637826c72b742bc6f42fd9fe620573', '1920ML', '2023-12-23 15:58:54.000000', '71_20231223T105854.jpg', '2023-12-29 22:31:24.828238')]\n"
     ]
    },
    {
     "name": "stderr",
     "output_type": "stream",
     "text": [
      "Some weights of VisionEncoderDecoderModel were not initialized from the model checkpoint at microsoft/trocr-base-printed and are newly initialized: ['encoder.pooler.dense.weight', 'encoder.pooler.dense.bias']\n",
      "You should probably TRAIN this model on a down-stream task to be able to use it for predictions and inference.\n",
      "Could not find image processor class in the image processor config or the model config. Loading based on pattern matching with the model's feature extractor configuration.\n"
     ]
    },
    {
     "name": "stdout",
     "output_type": "stream",
     "text": [
      "Arrival Record Inserted - OK\n",
      "[('cc5c9dae1adad09f93c31844d543421a', 'NEWS', '2023-12-23 17:26:23.000000', '84_20231223T122623.jpg', '2023-12-29 22:31:31.446088')]\n"
     ]
    },
    {
     "name": "stderr",
     "output_type": "stream",
     "text": [
      "Some weights of VisionEncoderDecoderModel were not initialized from the model checkpoint at microsoft/trocr-base-printed and are newly initialized: ['encoder.pooler.dense.weight', 'encoder.pooler.dense.bias']\n",
      "You should probably TRAIN this model on a down-stream task to be able to use it for predictions and inference.\n",
      "Could not find image processor class in the image processor config or the model config. Loading based on pattern matching with the model's feature extractor configuration.\n"
     ]
    },
    {
     "name": "stdout",
     "output_type": "stream",
     "text": [
      "Arrival Record Inserted - OK\n",
      "[('6073912f73fe3016122c758a91f414f6', 'L92594', '2023-12-22 22:51:17.000000', '23_20231222T175117.jpg', '2023-12-29 22:31:38.501697')]\n"
     ]
    },
    {
     "name": "stderr",
     "output_type": "stream",
     "text": [
      "Some weights of VisionEncoderDecoderModel were not initialized from the model checkpoint at microsoft/trocr-base-printed and are newly initialized: ['encoder.pooler.dense.weight', 'encoder.pooler.dense.bias']\n",
      "You should probably TRAIN this model on a down-stream task to be able to use it for predictions and inference.\n",
      "Could not find image processor class in the image processor config or the model config. Loading based on pattern matching with the model's feature extractor configuration.\n"
     ]
    },
    {
     "name": "stdout",
     "output_type": "stream",
     "text": [
      "Arrival Record Inserted - OK\n",
      "[('942f9cf713d766fabc1179c518b1ffcc', 'MY5459', '2023-12-26 12:30:05.000000', '18_20231226T073005.jpg', '2023-12-29 22:31:45.309441')]\n"
     ]
    },
    {
     "name": "stderr",
     "output_type": "stream",
     "text": [
      "Some weights of VisionEncoderDecoderModel were not initialized from the model checkpoint at microsoft/trocr-base-printed and are newly initialized: ['encoder.pooler.dense.weight', 'encoder.pooler.dense.bias']\n",
      "You should probably TRAIN this model on a down-stream task to be able to use it for predictions and inference.\n",
      "Could not find image processor class in the image processor config or the model config. Loading based on pattern matching with the model's feature extractor configuration.\n"
     ]
    },
    {
     "name": "stdout",
     "output_type": "stream",
     "text": [
      "Arrival Record Inserted - OK\n",
      "[('cb3bde2c9bdeaf0050c4dd99ead9341b', 'U2 8367', '2023-12-27 05:24:28.000000', '83_20231227T002428.jpg', '2023-12-29 22:31:52.474468')]\n"
     ]
    },
    {
     "name": "stderr",
     "output_type": "stream",
     "text": [
      "Some weights of VisionEncoderDecoderModel were not initialized from the model checkpoint at microsoft/trocr-base-printed and are newly initialized: ['encoder.pooler.dense.weight', 'encoder.pooler.dense.bias']\n",
      "You should probably TRAIN this model on a down-stream task to be able to use it for predictions and inference.\n",
      "Could not find image processor class in the image processor config or the model config. Loading based on pattern matching with the model's feature extractor configuration.\n"
     ]
    },
    {
     "name": "stdout",
     "output_type": "stream",
     "text": [
      "Arrival Record Inserted - OK\n",
      "[('c7d696f7282f86a0055b6d588fcf8572', 'RZ 0047', '2023-12-28 04:41:16.000000', '1_20231227T234116.jpg', '2023-12-29 22:31:59.361367')]\n"
     ]
    },
    {
     "name": "stderr",
     "output_type": "stream",
     "text": [
      "Some weights of VisionEncoderDecoderModel were not initialized from the model checkpoint at microsoft/trocr-base-printed and are newly initialized: ['encoder.pooler.dense.weight', 'encoder.pooler.dense.bias']\n",
      "You should probably TRAIN this model on a down-stream task to be able to use it for predictions and inference.\n",
      "Could not find image processor class in the image processor config or the model config. Loading based on pattern matching with the model's feature extractor configuration.\n"
     ]
    },
    {
     "name": "stdout",
     "output_type": "stream",
     "text": [
      "Arrival Record Inserted - OK\n",
      "[('76b075d3f13be304d12c15c28716c0e9', 565481, '2023-12-28 06:09:59.000000', '9_20231228T010959.jpg', '2023-12-29 22:32:06.176741')]\n"
     ]
    },
    {
     "name": "stderr",
     "output_type": "stream",
     "text": [
      "Some weights of VisionEncoderDecoderModel were not initialized from the model checkpoint at microsoft/trocr-base-printed and are newly initialized: ['encoder.pooler.dense.weight', 'encoder.pooler.dense.bias']\n",
      "You should probably TRAIN this model on a down-stream task to be able to use it for predictions and inference.\n",
      "Could not find image processor class in the image processor config or the model config. Loading based on pattern matching with the model's feature extractor configuration.\n"
     ]
    },
    {
     "name": "stdout",
     "output_type": "stream",
     "text": [
      "Arrival Record Inserted - OK\n",
      "[('fb7ae134f171158df4540bc410b1ff22', 'YS 4710', '2023-12-23 23:55:34.000000', '40_20231223T185534.jpg', '2023-12-29 22:32:13.105865')]\n"
     ]
    },
    {
     "name": "stderr",
     "output_type": "stream",
     "text": [
      "Some weights of VisionEncoderDecoderModel were not initialized from the model checkpoint at microsoft/trocr-base-printed and are newly initialized: ['encoder.pooler.dense.weight', 'encoder.pooler.dense.bias']\n",
      "You should probably TRAIN this model on a down-stream task to be able to use it for predictions and inference.\n",
      "Could not find image processor class in the image processor config or the model config. Loading based on pattern matching with the model's feature extractor configuration.\n"
     ]
    },
    {
     "name": "stdout",
     "output_type": "stream",
     "text": [
      "Arrival Record Inserted - OK\n",
      "[('fae279cffdfa52cfea6d4a2f92f60359', '$6.60', '2023-12-23 22:25:13.000000', '67_20231223T172513.jpg', '2023-12-29 22:32:20.138792')]\n"
     ]
    },
    {
     "name": "stderr",
     "output_type": "stream",
     "text": [
      "Some weights of VisionEncoderDecoderModel were not initialized from the model checkpoint at microsoft/trocr-base-printed and are newly initialized: ['encoder.pooler.dense.weight', 'encoder.pooler.dense.bias']\n",
      "You should probably TRAIN this model on a down-stream task to be able to use it for predictions and inference.\n",
      "Could not find image processor class in the image processor config or the model config. Loading based on pattern matching with the model's feature extractor configuration.\n"
     ]
    },
    {
     "name": "stdout",
     "output_type": "stream",
     "text": [
      "Arrival Record Inserted - OK\n",
      "[('bcac95279ec903ecf9384dbad0f17c83', 'U2 8367', '2023-12-22 08:28:57.000000', '83_20231222T032857.jpg', '2023-12-29 22:32:27.229485')]\n"
     ]
    },
    {
     "name": "stderr",
     "output_type": "stream",
     "text": [
      "Some weights of VisionEncoderDecoderModel were not initialized from the model checkpoint at microsoft/trocr-base-printed and are newly initialized: ['encoder.pooler.dense.weight', 'encoder.pooler.dense.bias']\n",
      "You should probably TRAIN this model on a down-stream task to be able to use it for predictions and inference.\n",
      "Could not find image processor class in the image processor config or the model config. Loading based on pattern matching with the model's feature extractor configuration.\n"
     ]
    },
    {
     "name": "stdout",
     "output_type": "stream",
     "text": [
      "Arrival Record Inserted - OK\n",
      "[('81bf1ca96cea87691862f4fd3c9ee3cd', 'A8 1904', '2023-12-23 03:54:05.000000', '70_20231222T225405.jpg', '2023-12-29 22:32:34.222066')]\n"
     ]
    },
    {
     "name": "stderr",
     "output_type": "stream",
     "text": [
      "Some weights of VisionEncoderDecoderModel were not initialized from the model checkpoint at microsoft/trocr-base-printed and are newly initialized: ['encoder.pooler.dense.weight', 'encoder.pooler.dense.bias']\n",
      "You should probably TRAIN this model on a down-stream task to be able to use it for predictions and inference.\n",
      "Could not find image processor class in the image processor config or the model config. Loading based on pattern matching with the model's feature extractor configuration.\n"
     ]
    },
    {
     "name": "stdout",
     "output_type": "stream",
     "text": [
      "Arrival Record Inserted - OK\n",
      "[('bdaa57a84bc9d350ef7c1a5027772d96', 'U2 8367', '2023-12-29 00:59:39.000000', '83_20231228T195939.jpg', '2023-12-29 22:32:41.314067')]\n"
     ]
    },
    {
     "name": "stderr",
     "output_type": "stream",
     "text": [
      "Some weights of VisionEncoderDecoderModel were not initialized from the model checkpoint at microsoft/trocr-base-printed and are newly initialized: ['encoder.pooler.dense.weight', 'encoder.pooler.dense.bias']\n",
      "You should probably TRAIN this model on a down-stream task to be able to use it for predictions and inference.\n",
      "Could not find image processor class in the image processor config or the model config. Loading based on pattern matching with the model's feature extractor configuration.\n"
     ]
    },
    {
     "name": "stdout",
     "output_type": "stream",
     "text": [
      "Arrival Record Inserted - OK\n",
      "[('339ed0691ac1ce0677cae00524cddfaf', '4378BW', '2023-12-28 20:08:30.000000', '54_20231228T150830.jpg', '2023-12-29 22:32:48.161662')]\n"
     ]
    },
    {
     "name": "stderr",
     "output_type": "stream",
     "text": [
      "Some weights of VisionEncoderDecoderModel were not initialized from the model checkpoint at microsoft/trocr-base-printed and are newly initialized: ['encoder.pooler.dense.weight', 'encoder.pooler.dense.bias']\n",
      "You should probably TRAIN this model on a down-stream task to be able to use it for predictions and inference.\n",
      "Could not find image processor class in the image processor config or the model config. Loading based on pattern matching with the model's feature extractor configuration.\n"
     ]
    },
    {
     "name": "stdout",
     "output_type": "stream",
     "text": [
      "Arrival Record Inserted - OK\n",
      "[('cb7de755451dc4929581054b4035bfc5', '396TF', '2023-12-26 06:53:58.000000', '60_20231226T015358.jpg', '2023-12-29 22:32:55.023297')]\n"
     ]
    },
    {
     "name": "stderr",
     "output_type": "stream",
     "text": [
      "Some weights of VisionEncoderDecoderModel were not initialized from the model checkpoint at microsoft/trocr-base-printed and are newly initialized: ['encoder.pooler.dense.weight', 'encoder.pooler.dense.bias']\n",
      "You should probably TRAIN this model on a down-stream task to be able to use it for predictions and inference.\n",
      "Could not find image processor class in the image processor config or the model config. Loading based on pattern matching with the model's feature extractor configuration.\n"
     ]
    },
    {
     "name": "stdout",
     "output_type": "stream",
     "text": [
      "Arrival Record Inserted - OK\n",
      "[('90cf5f752a8eaacba309eb3324bbdd4d', 'FZ7861', '2023-12-24 19:41:13.000000', '24_20231224T144113.jpg', '2023-12-29 22:33:02.127810')]\n"
     ]
    },
    {
     "name": "stderr",
     "output_type": "stream",
     "text": [
      "Some weights of VisionEncoderDecoderModel were not initialized from the model checkpoint at microsoft/trocr-base-printed and are newly initialized: ['encoder.pooler.dense.weight', 'encoder.pooler.dense.bias']\n",
      "You should probably TRAIN this model on a down-stream task to be able to use it for predictions and inference.\n",
      "Could not find image processor class in the image processor config or the model config. Loading based on pattern matching with the model's feature extractor configuration.\n"
     ]
    },
    {
     "name": "stdout",
     "output_type": "stream",
     "text": [
      "Arrival Record Inserted - OK\n",
      "[('01f3d552c155fe8b9ac8be46c458741e', 'PJ867A', '2023-12-26 04:07:53.000000', '38_20231225T230753.jpg', '2023-12-29 22:33:09.261122')]\n"
     ]
    },
    {
     "name": "stderr",
     "output_type": "stream",
     "text": [
      "Some weights of VisionEncoderDecoderModel were not initialized from the model checkpoint at microsoft/trocr-base-printed and are newly initialized: ['encoder.pooler.dense.weight', 'encoder.pooler.dense.bias']\n",
      "You should probably TRAIN this model on a down-stream task to be able to use it for predictions and inference.\n",
      "Could not find image processor class in the image processor config or the model config. Loading based on pattern matching with the model's feature extractor configuration.\n"
     ]
    },
    {
     "name": "stdout",
     "output_type": "stream",
     "text": [
      "Arrival Record Inserted - OK\n",
      "[('5f33d366ead79e4d7740fbfd80efc657', 'MASENT,', '2023-12-28 22:10:39.000000', '21_20231228T171039.jpg', '2023-12-29 22:33:16.083796')]\n"
     ]
    },
    {
     "name": "stderr",
     "output_type": "stream",
     "text": [
      "Some weights of VisionEncoderDecoderModel were not initialized from the model checkpoint at microsoft/trocr-base-printed and are newly initialized: ['encoder.pooler.dense.weight', 'encoder.pooler.dense.bias']\n",
      "You should probably TRAIN this model on a down-stream task to be able to use it for predictions and inference.\n",
      "Could not find image processor class in the image processor config or the model config. Loading based on pattern matching with the model's feature extractor configuration.\n"
     ]
    },
    {
     "name": "stdout",
     "output_type": "stream",
     "text": [
      "Arrival Record Inserted - OK\n",
      "[('01a809c546ed033810f88a4d6bc12da0', '7842KD', '2023-12-27 21:00:56.000000', '33_20231227T160056.jpg', '2023-12-29 22:33:23.142634')]\n"
     ]
    },
    {
     "name": "stderr",
     "output_type": "stream",
     "text": [
      "Some weights of VisionEncoderDecoderModel were not initialized from the model checkpoint at microsoft/trocr-base-printed and are newly initialized: ['encoder.pooler.dense.weight', 'encoder.pooler.dense.bias']\n",
      "You should probably TRAIN this model on a down-stream task to be able to use it for predictions and inference.\n",
      "Could not find image processor class in the image processor config or the model config. Loading based on pattern matching with the model's feature extractor configuration.\n"
     ]
    },
    {
     "name": "stdout",
     "output_type": "stream",
     "text": [
      "Arrival Record Inserted - OK\n",
      "[('8516ae69b932ce49e4826d2f92d27026', '8440 GZ', '2023-12-27 10:35:58.000000', '27_20231227T053558.jpg', '2023-12-29 22:33:30.128170')]\n"
     ]
    },
    {
     "name": "stderr",
     "output_type": "stream",
     "text": [
      "Some weights of VisionEncoderDecoderModel were not initialized from the model checkpoint at microsoft/trocr-base-printed and are newly initialized: ['encoder.pooler.dense.weight', 'encoder.pooler.dense.bias']\n",
      "You should probably TRAIN this model on a down-stream task to be able to use it for predictions and inference.\n",
      "Could not find image processor class in the image processor config or the model config. Loading based on pattern matching with the model's feature extractor configuration.\n"
     ]
    },
    {
     "name": "stdout",
     "output_type": "stream",
     "text": [
      "Arrival Record Inserted - OK\n",
      "[('a859f37ae8c7811b598840552851904b', 'RT:7178', '2023-12-26 04:23:32.000000', '28_20231225T232332.jpg', '2023-12-29 22:33:37.200723')]\n"
     ]
    },
    {
     "name": "stderr",
     "output_type": "stream",
     "text": [
      "Some weights of VisionEncoderDecoderModel were not initialized from the model checkpoint at microsoft/trocr-base-printed and are newly initialized: ['encoder.pooler.dense.weight', 'encoder.pooler.dense.bias']\n",
      "You should probably TRAIN this model on a down-stream task to be able to use it for predictions and inference.\n",
      "Could not find image processor class in the image processor config or the model config. Loading based on pattern matching with the model's feature extractor configuration.\n"
     ]
    },
    {
     "name": "stdout",
     "output_type": "stream",
     "text": [
      "Arrival Record Inserted - OK\n",
      "[('f241738fd523f634c02a6c62f1f7c04e', 128192, '2023-12-28 11:31:00.000000', '36_20231228T063100.jpg', '2023-12-29 22:33:43.945616')]\n"
     ]
    },
    {
     "name": "stderr",
     "output_type": "stream",
     "text": [
      "Some weights of VisionEncoderDecoderModel were not initialized from the model checkpoint at microsoft/trocr-base-printed and are newly initialized: ['encoder.pooler.dense.weight', 'encoder.pooler.dense.bias']\n",
      "You should probably TRAIN this model on a down-stream task to be able to use it for predictions and inference.\n",
      "Could not find image processor class in the image processor config or the model config. Loading based on pattern matching with the model's feature extractor configuration.\n"
     ]
    },
    {
     "name": "stdout",
     "output_type": "stream",
     "text": [
      "Arrival Record Inserted - OK\n",
      "[('3609806f9c73aaf305ee23829e556d08', 'Y57727', '2023-12-26 11:48:00.000000', '46_20231226T064800.jpg', '2023-12-29 22:33:50.925028')]\n"
     ]
    },
    {
     "name": "stderr",
     "output_type": "stream",
     "text": [
      "Some weights of VisionEncoderDecoderModel were not initialized from the model checkpoint at microsoft/trocr-base-printed and are newly initialized: ['encoder.pooler.dense.weight', 'encoder.pooler.dense.bias']\n",
      "You should probably TRAIN this model on a down-stream task to be able to use it for predictions and inference.\n",
      "Could not find image processor class in the image processor config or the model config. Loading based on pattern matching with the model's feature extractor configuration.\n"
     ]
    },
    {
     "name": "stdout",
     "output_type": "stream",
     "text": [
      "Arrival Record Inserted - OK\n",
      "[('f6fe018b9b7aa788c30c22c5dd477266', 'FZ7861', '2023-12-25 11:45:44.000000', '24_20231225T064544.jpg', '2023-12-29 22:33:57.889198')]\n"
     ]
    },
    {
     "name": "stderr",
     "output_type": "stream",
     "text": [
      "Some weights of VisionEncoderDecoderModel were not initialized from the model checkpoint at microsoft/trocr-base-printed and are newly initialized: ['encoder.pooler.dense.weight', 'encoder.pooler.dense.bias']\n",
      "You should probably TRAIN this model on a down-stream task to be able to use it for predictions and inference.\n",
      "Could not find image processor class in the image processor config or the model config. Loading based on pattern matching with the model's feature extractor configuration.\n"
     ]
    },
    {
     "name": "stdout",
     "output_type": "stream",
     "text": [
      "Arrival Record Inserted - OK\n",
      "[('e92e8366e45d4913a0f7027115b60f35', 'MG.9429', '2023-12-28 07:41:40.000000', '11_20231228T024140.jpg', '2023-12-29 22:34:04.850481')]\n"
     ]
    },
    {
     "name": "stderr",
     "output_type": "stream",
     "text": [
      "Some weights of VisionEncoderDecoderModel were not initialized from the model checkpoint at microsoft/trocr-base-printed and are newly initialized: ['encoder.pooler.dense.weight', 'encoder.pooler.dense.bias']\n",
      "You should probably TRAIN this model on a down-stream task to be able to use it for predictions and inference.\n",
      "Could not find image processor class in the image processor config or the model config. Loading based on pattern matching with the model's feature extractor configuration.\n"
     ]
    },
    {
     "name": "stdout",
     "output_type": "stream",
     "text": [
      "Arrival Record Inserted - OK\n",
      "[('a809e6b70563ff0cc3260e61b49092e8', '5214MG', '2023-12-28 20:01:31.000000', '34_20231228T150131.jpg', '2023-12-29 22:34:11.907805')]\n"
     ]
    },
    {
     "name": "stderr",
     "output_type": "stream",
     "text": [
      "Some weights of VisionEncoderDecoderModel were not initialized from the model checkpoint at microsoft/trocr-base-printed and are newly initialized: ['encoder.pooler.dense.weight', 'encoder.pooler.dense.bias']\n",
      "You should probably TRAIN this model on a down-stream task to be able to use it for predictions and inference.\n",
      "Could not find image processor class in the image processor config or the model config. Loading based on pattern matching with the model's feature extractor configuration.\n"
     ]
    },
    {
     "name": "stdout",
     "output_type": "stream",
     "text": [
      "Arrival Record Inserted - OK\n",
      "[('51e4ba0d212794000ed321658800b0fb', 'BELES', '2023-12-28 18:38:46.000000', '19_20231228T133846.jpg', '2023-12-29 22:34:18.742844')]\n"
     ]
    },
    {
     "name": "stderr",
     "output_type": "stream",
     "text": [
      "Some weights of VisionEncoderDecoderModel were not initialized from the model checkpoint at microsoft/trocr-base-printed and are newly initialized: ['encoder.pooler.dense.weight', 'encoder.pooler.dense.bias']\n",
      "You should probably TRAIN this model on a down-stream task to be able to use it for predictions and inference.\n",
      "Could not find image processor class in the image processor config or the model config. Loading based on pattern matching with the model's feature extractor configuration.\n"
     ]
    },
    {
     "name": "stdout",
     "output_type": "stream",
     "text": [
      "Arrival Record Inserted - OK\n",
      "[('0b55e29917deab1833a0d912ac23a74b', 'MASENT,', '2023-12-27 11:02:21.000000', '21_20231227T060221.jpg', '2023-12-29 22:34:25.606276')]\n"
     ]
    },
    {
     "name": "stderr",
     "output_type": "stream",
     "text": [
      "Some weights of VisionEncoderDecoderModel were not initialized from the model checkpoint at microsoft/trocr-base-printed and are newly initialized: ['encoder.pooler.dense.weight', 'encoder.pooler.dense.bias']\n",
      "You should probably TRAIN this model on a down-stream task to be able to use it for predictions and inference.\n",
      "Could not find image processor class in the image processor config or the model config. Loading based on pattern matching with the model's feature extractor configuration.\n"
     ]
    },
    {
     "name": "stdout",
     "output_type": "stream",
     "text": [
      "Arrival Record Inserted - OK\n",
      "[('2a392c365565eafb8a00c1cceb02381f', 'HS 6927', '2023-12-23 11:52:40.000000', '85_20231223T065240.jpg', '2023-12-29 22:34:32.529391')]\n"
     ]
    },
    {
     "name": "stderr",
     "output_type": "stream",
     "text": [
      "Some weights of VisionEncoderDecoderModel were not initialized from the model checkpoint at microsoft/trocr-base-printed and are newly initialized: ['encoder.pooler.dense.weight', 'encoder.pooler.dense.bias']\n",
      "You should probably TRAIN this model on a down-stream task to be able to use it for predictions and inference.\n",
      "Could not find image processor class in the image processor config or the model config. Loading based on pattern matching with the model's feature extractor configuration.\n"
     ]
    },
    {
     "name": "stdout",
     "output_type": "stream",
     "text": [
      "Arrival Record Inserted - OK\n",
      "[('4aaf4189e839293d07931871f42aa3d9', '4378BW', '2023-12-23 18:04:29.000000', '54_20231223T130429.jpg', '2023-12-29 22:34:39.502910')]\n"
     ]
    },
    {
     "name": "stderr",
     "output_type": "stream",
     "text": [
      "Some weights of VisionEncoderDecoderModel were not initialized from the model checkpoint at microsoft/trocr-base-printed and are newly initialized: ['encoder.pooler.dense.weight', 'encoder.pooler.dense.bias']\n",
      "You should probably TRAIN this model on a down-stream task to be able to use it for predictions and inference.\n",
      "Could not find image processor class in the image processor config or the model config. Loading based on pattern matching with the model's feature extractor configuration.\n"
     ]
    },
    {
     "name": "stdout",
     "output_type": "stream",
     "text": [
      "Arrival Record Inserted - OK\n",
      "[('cf24ea14b78bf51e9745ca977049ff82', 60160, '2023-12-29 00:28:21.000000', '82_20231228T192821.jpg', '2023-12-29 22:34:46.400251')]\n"
     ]
    },
    {
     "name": "stderr",
     "output_type": "stream",
     "text": [
      "Some weights of VisionEncoderDecoderModel were not initialized from the model checkpoint at microsoft/trocr-base-printed and are newly initialized: ['encoder.pooler.dense.weight', 'encoder.pooler.dense.bias']\n",
      "You should probably TRAIN this model on a down-stream task to be able to use it for predictions and inference.\n",
      "Could not find image processor class in the image processor config or the model config. Loading based on pattern matching with the model's feature extractor configuration.\n"
     ]
    },
    {
     "name": "stdout",
     "output_type": "stream",
     "text": [
      "Arrival Record Inserted - OK\n",
      "[('d53c3f0e45c81f82c1908659d2c5c8d2', 'NEWS', '2023-12-26 13:41:31.000000', '84_20231226T084131.jpg', '2023-12-29 22:34:53.158048')]\n"
     ]
    },
    {
     "name": "stderr",
     "output_type": "stream",
     "text": [
      "Some weights of VisionEncoderDecoderModel were not initialized from the model checkpoint at microsoft/trocr-base-printed and are newly initialized: ['encoder.pooler.dense.weight', 'encoder.pooler.dense.bias']\n",
      "You should probably TRAIN this model on a down-stream task to be able to use it for predictions and inference.\n",
      "Could not find image processor class in the image processor config or the model config. Loading based on pattern matching with the model's feature extractor configuration.\n"
     ]
    },
    {
     "name": "stdout",
     "output_type": "stream",
     "text": [
      "Arrival Record Inserted - OK\n",
      "[('ecbea589bc4ff1e4d42e4f8b1c9ab776', 'NEWS', '2023-12-24 23:16:39.000000', '84_20231224T181639.jpg', '2023-12-29 22:34:59.815192')]\n"
     ]
    },
    {
     "name": "stderr",
     "output_type": "stream",
     "text": [
      "Some weights of VisionEncoderDecoderModel were not initialized from the model checkpoint at microsoft/trocr-base-printed and are newly initialized: ['encoder.pooler.dense.weight', 'encoder.pooler.dense.bias']\n",
      "You should probably TRAIN this model on a down-stream task to be able to use it for predictions and inference.\n",
      "Could not find image processor class in the image processor config or the model config. Loading based on pattern matching with the model's feature extractor configuration.\n"
     ]
    },
    {
     "name": "stdout",
     "output_type": "stream",
     "text": [
      "Arrival Record Inserted - OK\n",
      "[('5ba052778acaff397520012db8dde9b5', 565481, '2023-12-24 02:45:19.000000', '9_20231223T214519.jpg', '2023-12-29 22:35:06.606643')]\n"
     ]
    },
    {
     "name": "stderr",
     "output_type": "stream",
     "text": [
      "Some weights of VisionEncoderDecoderModel were not initialized from the model checkpoint at microsoft/trocr-base-printed and are newly initialized: ['encoder.pooler.dense.weight', 'encoder.pooler.dense.bias']\n",
      "You should probably TRAIN this model on a down-stream task to be able to use it for predictions and inference.\n",
      "Could not find image processor class in the image processor config or the model config. Loading based on pattern matching with the model's feature extractor configuration.\n"
     ]
    },
    {
     "name": "stdout",
     "output_type": "stream",
     "text": [
      "Arrival Record Inserted - OK\n",
      "[('2e55a75d119ffcc7ea0b4dff227c926f', 'L92594', '2023-12-28 18:57:26.000000', '23_20231228T135726.jpg', '2023-12-29 22:35:13.527382')]\n"
     ]
    },
    {
     "name": "stderr",
     "output_type": "stream",
     "text": [
      "Some weights of VisionEncoderDecoderModel were not initialized from the model checkpoint at microsoft/trocr-base-printed and are newly initialized: ['encoder.pooler.dense.weight', 'encoder.pooler.dense.bias']\n",
      "You should probably TRAIN this model on a down-stream task to be able to use it for predictions and inference.\n",
      "Could not find image processor class in the image processor config or the model config. Loading based on pattern matching with the model's feature extractor configuration.\n"
     ]
    },
    {
     "name": "stdout",
     "output_type": "stream",
     "text": [
      "Arrival Record Inserted - OK\n",
      "[('0b334a0d2da4399b6660e8e76459f32b', 60160, '2023-12-23 02:44:54.000000', '82_20231222T214454.jpg', '2023-12-29 22:35:20.247242')]\n"
     ]
    },
    {
     "name": "stderr",
     "output_type": "stream",
     "text": [
      "Some weights of VisionEncoderDecoderModel were not initialized from the model checkpoint at microsoft/trocr-base-printed and are newly initialized: ['encoder.pooler.dense.weight', 'encoder.pooler.dense.bias']\n",
      "You should probably TRAIN this model on a down-stream task to be able to use it for predictions and inference.\n",
      "Could not find image processor class in the image processor config or the model config. Loading based on pattern matching with the model's feature extractor configuration.\n"
     ]
    },
    {
     "name": "stdout",
     "output_type": "stream",
     "text": [
      "Arrival Record Inserted - OK\n",
      "[('90f6c917035e888c99662e94a9288bc9', '$6.60', '2023-12-27 04:09:19.000000', '67_20231226T230919.jpg', '2023-12-29 22:35:27.299743')]\n"
     ]
    },
    {
     "name": "stderr",
     "output_type": "stream",
     "text": [
      "Some weights of VisionEncoderDecoderModel were not initialized from the model checkpoint at microsoft/trocr-base-printed and are newly initialized: ['encoder.pooler.dense.weight', 'encoder.pooler.dense.bias']\n",
      "You should probably TRAIN this model on a down-stream task to be able to use it for predictions and inference.\n",
      "Could not find image processor class in the image processor config or the model config. Loading based on pattern matching with the model's feature extractor configuration.\n"
     ]
    },
    {
     "name": "stdout",
     "output_type": "stream",
     "text": [
      "Arrival Record Inserted - OK\n",
      "[('c94ff4e7c938d0cffa902f789faa500b', 0.77, '2023-12-28 21:05:30.000000', '75_20231228T160530.jpg', '2023-12-29 22:35:34.043438')]\n"
     ]
    },
    {
     "name": "stderr",
     "output_type": "stream",
     "text": [
      "Some weights of VisionEncoderDecoderModel were not initialized from the model checkpoint at microsoft/trocr-base-printed and are newly initialized: ['encoder.pooler.dense.weight', 'encoder.pooler.dense.bias']\n",
      "You should probably TRAIN this model on a down-stream task to be able to use it for predictions and inference.\n",
      "Could not find image processor class in the image processor config or the model config. Loading based on pattern matching with the model's feature extractor configuration.\n"
     ]
    },
    {
     "name": "stdout",
     "output_type": "stream",
     "text": [
      "Arrival Record Inserted - OK\n",
      "[('4ac7fb987d907f344589c50063cd0320', 'NR 7965', '2023-12-25 04:23:36.000000', '5_20231224T232336.jpg', '2023-12-29 22:35:40.838846')]\n"
     ]
    },
    {
     "name": "stderr",
     "output_type": "stream",
     "text": [
      "Some weights of VisionEncoderDecoderModel were not initialized from the model checkpoint at microsoft/trocr-base-printed and are newly initialized: ['encoder.pooler.dense.weight', 'encoder.pooler.dense.bias']\n",
      "You should probably TRAIN this model on a down-stream task to be able to use it for predictions and inference.\n",
      "Could not find image processor class in the image processor config or the model config. Loading based on pattern matching with the model's feature extractor configuration.\n"
     ]
    },
    {
     "name": "stdout",
     "output_type": "stream",
     "text": [
      "Arrival Record Inserted - OK\n",
      "[('a00e93380d3b31b23dd37ed6a06cf1fc', 128192, '2023-12-22 11:48:16.000000', '36_20231222T064816.jpg', '2023-12-29 22:35:47.700530')]\n"
     ]
    },
    {
     "name": "stderr",
     "output_type": "stream",
     "text": [
      "Some weights of VisionEncoderDecoderModel were not initialized from the model checkpoint at microsoft/trocr-base-printed and are newly initialized: ['encoder.pooler.dense.weight', 'encoder.pooler.dense.bias']\n",
      "You should probably TRAIN this model on a down-stream task to be able to use it for predictions and inference.\n",
      "Could not find image processor class in the image processor config or the model config. Loading based on pattern matching with the model's feature extractor configuration.\n"
     ]
    },
    {
     "name": "stdout",
     "output_type": "stream",
     "text": [
      "Arrival Record Inserted - OK\n",
      "[('fdd8425ebf4576d780ffaf4d20dfcca1', 'MG.9429', '2023-12-24 04:44:41.000000', '11_20231223T234441.jpg', '2023-12-29 22:35:54.643125')]\n"
     ]
    },
    {
     "name": "stderr",
     "output_type": "stream",
     "text": [
      "Some weights of VisionEncoderDecoderModel were not initialized from the model checkpoint at microsoft/trocr-base-printed and are newly initialized: ['encoder.pooler.dense.weight', 'encoder.pooler.dense.bias']\n",
      "You should probably TRAIN this model on a down-stream task to be able to use it for predictions and inference.\n",
      "Could not find image processor class in the image processor config or the model config. Loading based on pattern matching with the model's feature extractor configuration.\n"
     ]
    },
    {
     "name": "stdout",
     "output_type": "stream",
     "text": [
      "Arrival Record Inserted - OK\n",
      "[('ca2b172971b04fad7303e23b41b11ae3', '5214MG', '2023-12-23 20:01:00.000000', '34_20231223T150100.jpg', '2023-12-29 22:36:01.591472')]\n"
     ]
    },
    {
     "name": "stderr",
     "output_type": "stream",
     "text": [
      "Some weights of VisionEncoderDecoderModel were not initialized from the model checkpoint at microsoft/trocr-base-printed and are newly initialized: ['encoder.pooler.dense.weight', 'encoder.pooler.dense.bias']\n",
      "You should probably TRAIN this model on a down-stream task to be able to use it for predictions and inference.\n",
      "Could not find image processor class in the image processor config or the model config. Loading based on pattern matching with the model's feature extractor configuration.\n"
     ]
    },
    {
     "name": "stdout",
     "output_type": "stream",
     "text": [
      "Arrival Record Inserted - OK\n",
      "[('2d064d3e2dfd11c9b3df97eff349e65e', 'BELES', '2023-12-23 05:02:59.000000', '19_20231223T000259.jpg', '2023-12-29 22:36:08.423321')]\n"
     ]
    },
    {
     "name": "stderr",
     "output_type": "stream",
     "text": [
      "Some weights of VisionEncoderDecoderModel were not initialized from the model checkpoint at microsoft/trocr-base-printed and are newly initialized: ['encoder.pooler.dense.weight', 'encoder.pooler.dense.bias']\n",
      "You should probably TRAIN this model on a down-stream task to be able to use it for predictions and inference.\n",
      "Could not find image processor class in the image processor config or the model config. Loading based on pattern matching with the model's feature extractor configuration.\n"
     ]
    },
    {
     "name": "stdout",
     "output_type": "stream",
     "text": [
      "Arrival Record Inserted - OK\n",
      "[('cfef844957a4c6b48b171a30d71396ca', 'FZ7861', '2023-12-27 12:44:45.000000', '24_20231227T074445.jpg', '2023-12-29 22:36:15.312961')]\n"
     ]
    },
    {
     "name": "stderr",
     "output_type": "stream",
     "text": [
      "Some weights of VisionEncoderDecoderModel were not initialized from the model checkpoint at microsoft/trocr-base-printed and are newly initialized: ['encoder.pooler.dense.weight', 'encoder.pooler.dense.bias']\n",
      "You should probably TRAIN this model on a down-stream task to be able to use it for predictions and inference.\n",
      "Could not find image processor class in the image processor config or the model config. Loading based on pattern matching with the model's feature extractor configuration.\n"
     ]
    },
    {
     "name": "stdout",
     "output_type": "stream",
     "text": [
      "Arrival Record Inserted - OK\n",
      "[('2684b0dbdb2f39253fb4e39babbfad38', 50590, '2023-12-23 21:18:20.000000', '13_20231223T161820.jpg', '2023-12-29 22:36:22.087043')]\n"
     ]
    },
    {
     "name": "stderr",
     "output_type": "stream",
     "text": [
      "Some weights of VisionEncoderDecoderModel were not initialized from the model checkpoint at microsoft/trocr-base-printed and are newly initialized: ['encoder.pooler.dense.weight', 'encoder.pooler.dense.bias']\n",
      "You should probably TRAIN this model on a down-stream task to be able to use it for predictions and inference.\n",
      "Could not find image processor class in the image processor config or the model config. Loading based on pattern matching with the model's feature extractor configuration.\n"
     ]
    },
    {
     "name": "stdout",
     "output_type": "stream",
     "text": [
      "Arrival Record Inserted - OK\n",
      "[('77efffe0fc4c1edb7511b8992dc0547d', '867ZJA', '2023-12-28 05:11:31.000000', '25_20231228T001131.jpg', '2023-12-29 22:36:29.121748')]\n"
     ]
    },
    {
     "name": "stderr",
     "output_type": "stream",
     "text": [
      "Some weights of VisionEncoderDecoderModel were not initialized from the model checkpoint at microsoft/trocr-base-printed and are newly initialized: ['encoder.pooler.dense.weight', 'encoder.pooler.dense.bias']\n",
      "You should probably TRAIN this model on a down-stream task to be able to use it for predictions and inference.\n",
      "Could not find image processor class in the image processor config or the model config. Loading based on pattern matching with the model's feature extractor configuration.\n"
     ]
    },
    {
     "name": "stdout",
     "output_type": "stream",
     "text": [
      "Arrival Record Inserted - OK\n",
      "[('f365421c8c0bde51f4bd587246197288', 890598, '2023-12-25 00:22:41.000000', '69_20231224T192241.jpg', '2023-12-29 22:36:35.922485')]\n"
     ]
    },
    {
     "name": "stderr",
     "output_type": "stream",
     "text": [
      "Some weights of VisionEncoderDecoderModel were not initialized from the model checkpoint at microsoft/trocr-base-printed and are newly initialized: ['encoder.pooler.dense.weight', 'encoder.pooler.dense.bias']\n",
      "You should probably TRAIN this model on a down-stream task to be able to use it for predictions and inference.\n",
      "Could not find image processor class in the image processor config or the model config. Loading based on pattern matching with the model's feature extractor configuration.\n"
     ]
    },
    {
     "name": "stdout",
     "output_type": "stream",
     "text": [
      "Arrival Record Inserted - OK\n",
      "[('1a17796f2ee239585649d6b402be63cd', 'BELES', '2023-12-25 03:58:30.000000', '19_20231224T225830.jpg', '2023-12-29 22:36:42.804897')]\n"
     ]
    },
    {
     "name": "stderr",
     "output_type": "stream",
     "text": [
      "Some weights of VisionEncoderDecoderModel were not initialized from the model checkpoint at microsoft/trocr-base-printed and are newly initialized: ['encoder.pooler.dense.weight', 'encoder.pooler.dense.bias']\n",
      "You should probably TRAIN this model on a down-stream task to be able to use it for predictions and inference.\n",
      "Could not find image processor class in the image processor config or the model config. Loading based on pattern matching with the model's feature extractor configuration.\n"
     ]
    },
    {
     "name": "stdout",
     "output_type": "stream",
     "text": [
      "Arrival Record Inserted - OK\n",
      "[('1c54db427817a8b95fb8bb42ef267ace', '9425-AD', '2023-12-26 15:28:17.000000', '80_20231226T102817.jpg', '2023-12-29 22:36:49.884721')]\n"
     ]
    },
    {
     "name": "stderr",
     "output_type": "stream",
     "text": [
      "Some weights of VisionEncoderDecoderModel were not initialized from the model checkpoint at microsoft/trocr-base-printed and are newly initialized: ['encoder.pooler.dense.weight', 'encoder.pooler.dense.bias']\n",
      "You should probably TRAIN this model on a down-stream task to be able to use it for predictions and inference.\n",
      "Could not find image processor class in the image processor config or the model config. Loading based on pattern matching with the model's feature extractor configuration.\n"
     ]
    },
    {
     "name": "stdout",
     "output_type": "stream",
     "text": [
      "Arrival Record Inserted - OK\n",
      "[('aafa2ace44e6a324830850aefbb63652', 'HS 6927', '2023-12-26 10:14:54.000000', '85_20231226T051454.jpg', '2023-12-29 22:36:56.761153')]\n"
     ]
    },
    {
     "name": "stderr",
     "output_type": "stream",
     "text": [
      "Some weights of VisionEncoderDecoderModel were not initialized from the model checkpoint at microsoft/trocr-base-printed and are newly initialized: ['encoder.pooler.dense.weight', 'encoder.pooler.dense.bias']\n",
      "You should probably TRAIN this model on a down-stream task to be able to use it for predictions and inference.\n",
      "Could not find image processor class in the image processor config or the model config. Loading based on pattern matching with the model's feature extractor configuration.\n"
     ]
    },
    {
     "name": "stdout",
     "output_type": "stream",
     "text": [
      "Arrival Record Inserted - OK\n",
      "[('59ce02fa6c6c29f11b67584f38c20e0f', '867ZJA', '2023-12-23 18:06:41.000000', '25_20231223T130641.jpg', '2023-12-29 22:37:03.725245')]\n"
     ]
    },
    {
     "name": "stderr",
     "output_type": "stream",
     "text": [
      "Some weights of VisionEncoderDecoderModel were not initialized from the model checkpoint at microsoft/trocr-base-printed and are newly initialized: ['encoder.pooler.dense.weight', 'encoder.pooler.dense.bias']\n",
      "You should probably TRAIN this model on a down-stream task to be able to use it for predictions and inference.\n",
      "Could not find image processor class in the image processor config or the model config. Loading based on pattern matching with the model's feature extractor configuration.\n"
     ]
    },
    {
     "name": "stdout",
     "output_type": "stream",
     "text": [
      "Arrival Record Inserted - OK\n",
      "[('2e9010fd9b7b4727e9b5c867aed42e3d', 'MASENT,', '2023-12-22 05:10:31.000000', '21_20231222T001031.jpg', '2023-12-29 22:37:10.623353')]\n"
     ]
    },
    {
     "name": "stderr",
     "output_type": "stream",
     "text": [
      "Some weights of VisionEncoderDecoderModel were not initialized from the model checkpoint at microsoft/trocr-base-printed and are newly initialized: ['encoder.pooler.dense.weight', 'encoder.pooler.dense.bias']\n",
      "You should probably TRAIN this model on a down-stream task to be able to use it for predictions and inference.\n",
      "Could not find image processor class in the image processor config or the model config. Loading based on pattern matching with the model's feature extractor configuration.\n"
     ]
    },
    {
     "name": "stdout",
     "output_type": "stream",
     "text": [
      "Arrival Record Inserted - OK\n",
      "[('2e5e1d55e0ae6b0012b5fafd37b7289e', 'GINGER BAKER', '2023-12-24 03:11:13.000000', '6_20231223T221113.jpg', '2023-12-29 22:37:17.952870')]\n"
     ]
    },
    {
     "name": "stderr",
     "output_type": "stream",
     "text": [
      "Some weights of VisionEncoderDecoderModel were not initialized from the model checkpoint at microsoft/trocr-base-printed and are newly initialized: ['encoder.pooler.dense.weight', 'encoder.pooler.dense.bias']\n",
      "You should probably TRAIN this model on a down-stream task to be able to use it for predictions and inference.\n",
      "Could not find image processor class in the image processor config or the model config. Loading based on pattern matching with the model's feature extractor configuration.\n"
     ]
    },
    {
     "name": "stdout",
     "output_type": "stream",
     "text": [
      "Arrival Record Inserted - OK\n",
      "[('255397723c32f980b0bab8c65ff45df2', '7842KD', '2023-12-24 03:39:58.000000', '33_20231223T223958.jpg', '2023-12-29 22:37:25.055530')]\n"
     ]
    },
    {
     "name": "stderr",
     "output_type": "stream",
     "text": [
      "Some weights of VisionEncoderDecoderModel were not initialized from the model checkpoint at microsoft/trocr-base-printed and are newly initialized: ['encoder.pooler.dense.weight', 'encoder.pooler.dense.bias']\n",
      "You should probably TRAIN this model on a down-stream task to be able to use it for predictions and inference.\n",
      "Could not find image processor class in the image processor config or the model config. Loading based on pattern matching with the model's feature extractor configuration.\n"
     ]
    },
    {
     "name": "stdout",
     "output_type": "stream",
     "text": [
      "Arrival Record Inserted - OK\n",
      "[('df3f99208cb21e45fe2a3e18de1e2f1b', 'MASENT,', '2023-12-23 07:13:57.000000', '21_20231223T021357.jpg', '2023-12-29 22:37:31.973862')]\n"
     ]
    },
    {
     "name": "stderr",
     "output_type": "stream",
     "text": [
      "Some weights of VisionEncoderDecoderModel were not initialized from the model checkpoint at microsoft/trocr-base-printed and are newly initialized: ['encoder.pooler.dense.weight', 'encoder.pooler.dense.bias']\n",
      "You should probably TRAIN this model on a down-stream task to be able to use it for predictions and inference.\n",
      "Could not find image processor class in the image processor config or the model config. Loading based on pattern matching with the model's feature extractor configuration.\n"
     ]
    },
    {
     "name": "stdout",
     "output_type": "stream",
     "text": [
      "Arrival Record Inserted - OK\n",
      "[('0ea48fc3158b2e626526ef064ec57f2a', '8893XA', '2023-12-27 10:53:18.000000', '73_20231227T055318.jpg', '2023-12-29 22:37:38.877292')]\n"
     ]
    },
    {
     "name": "stderr",
     "output_type": "stream",
     "text": [
      "Some weights of VisionEncoderDecoderModel were not initialized from the model checkpoint at microsoft/trocr-base-printed and are newly initialized: ['encoder.pooler.dense.weight', 'encoder.pooler.dense.bias']\n",
      "You should probably TRAIN this model on a down-stream task to be able to use it for predictions and inference.\n",
      "Could not find image processor class in the image processor config or the model config. Loading based on pattern matching with the model's feature extractor configuration.\n"
     ]
    },
    {
     "name": "stdout",
     "output_type": "stream",
     "text": [
      "Arrival Record Inserted - OK\n",
      "[('dae1bf1bcc2cc65284f7a7087d13d931', 565481, '2023-12-22 15:44:48.000000', '9_20231222T104448.jpg', '2023-12-29 22:37:45.544670')]\n"
     ]
    },
    {
     "name": "stderr",
     "output_type": "stream",
     "text": [
      "Some weights of VisionEncoderDecoderModel were not initialized from the model checkpoint at microsoft/trocr-base-printed and are newly initialized: ['encoder.pooler.dense.weight', 'encoder.pooler.dense.bias']\n",
      "You should probably TRAIN this model on a down-stream task to be able to use it for predictions and inference.\n",
      "Could not find image processor class in the image processor config or the model config. Loading based on pattern matching with the model's feature extractor configuration.\n"
     ]
    },
    {
     "name": "stdout",
     "output_type": "stream",
     "text": [
      "Arrival Record Inserted - OK\n",
      "[('a7bd28a03d65a03b1f4744b58c006185', 'DISCOUNT', '2023-12-27 04:15:25.000000', '12_20231226T231525.jpg', '2023-12-29 22:37:52.445317')]\n"
     ]
    },
    {
     "name": "stderr",
     "output_type": "stream",
     "text": [
      "Some weights of VisionEncoderDecoderModel were not initialized from the model checkpoint at microsoft/trocr-base-printed and are newly initialized: ['encoder.pooler.dense.weight', 'encoder.pooler.dense.bias']\n",
      "You should probably TRAIN this model on a down-stream task to be able to use it for predictions and inference.\n",
      "Could not find image processor class in the image processor config or the model config. Loading based on pattern matching with the model's feature extractor configuration.\n"
     ]
    },
    {
     "name": "stdout",
     "output_type": "stream",
     "text": [
      "Arrival Record Inserted - OK\n",
      "[('75c5380d7076a80e709378e0f4f2e957', 'UBIAN', '2023-12-26 12:17:03.000000', '37_20231226T071703.jpg', '2023-12-29 22:37:59.462040')]\n"
     ]
    },
    {
     "name": "stderr",
     "output_type": "stream",
     "text": [
      "Some weights of VisionEncoderDecoderModel were not initialized from the model checkpoint at microsoft/trocr-base-printed and are newly initialized: ['encoder.pooler.dense.weight', 'encoder.pooler.dense.bias']\n",
      "You should probably TRAIN this model on a down-stream task to be able to use it for predictions and inference.\n",
      "Could not find image processor class in the image processor config or the model config. Loading based on pattern matching with the model's feature extractor configuration.\n"
     ]
    },
    {
     "name": "stdout",
     "output_type": "stream",
     "text": [
      "Arrival Record Inserted - OK\n",
      "[('04e0541ed7efe5c36489de8e40804992', '4214MP', '2023-12-25 04:48:51.000000', '50_20231224T234851.jpg', '2023-12-29 22:38:06.426530')]\n"
     ]
    },
    {
     "name": "stderr",
     "output_type": "stream",
     "text": [
      "Some weights of VisionEncoderDecoderModel were not initialized from the model checkpoint at microsoft/trocr-base-printed and are newly initialized: ['encoder.pooler.dense.weight', 'encoder.pooler.dense.bias']\n",
      "You should probably TRAIN this model on a down-stream task to be able to use it for predictions and inference.\n",
      "Could not find image processor class in the image processor config or the model config. Loading based on pattern matching with the model's feature extractor configuration.\n"
     ]
    },
    {
     "name": "stdout",
     "output_type": "stream",
     "text": [
      "Arrival Record Inserted - OK\n",
      "[('8db659c9481b6d35117aaa4c601a62c0', 'GINGER BAKER', '2023-12-28 19:31:04.000000', '6_20231228T143104.jpg', '2023-12-29 22:38:13.650659')]\n"
     ]
    },
    {
     "name": "stderr",
     "output_type": "stream",
     "text": [
      "Some weights of VisionEncoderDecoderModel were not initialized from the model checkpoint at microsoft/trocr-base-printed and are newly initialized: ['encoder.pooler.dense.weight', 'encoder.pooler.dense.bias']\n",
      "You should probably TRAIN this model on a down-stream task to be able to use it for predictions and inference.\n",
      "Could not find image processor class in the image processor config or the model config. Loading based on pattern matching with the model's feature extractor configuration.\n"
     ]
    },
    {
     "name": "stdout",
     "output_type": "stream",
     "text": [
      "Arrival Record Inserted - OK\n",
      "[('6c63650e8f1617a95206cf015b122cf8', 'FZ7861', '2023-12-28 08:09:02.000000', '24_20231228T030902.jpg', '2023-12-29 22:38:20.723531')]\n"
     ]
    },
    {
     "name": "stderr",
     "output_type": "stream",
     "text": [
      "Some weights of VisionEncoderDecoderModel were not initialized from the model checkpoint at microsoft/trocr-base-printed and are newly initialized: ['encoder.pooler.dense.weight', 'encoder.pooler.dense.bias']\n",
      "You should probably TRAIN this model on a down-stream task to be able to use it for predictions and inference.\n",
      "Could not find image processor class in the image processor config or the model config. Loading based on pattern matching with the model's feature extractor configuration.\n"
     ]
    },
    {
     "name": "stdout",
     "output_type": "stream",
     "text": [
      "Arrival Record Inserted - OK\n",
      "[('a2f6d6094e6f024b291705e471934116', 'Y57727', '2023-12-24 13:08:58.000000', '46_20231224T080858.jpg', '2023-12-29 22:38:27.504914')]\n"
     ]
    },
    {
     "name": "stderr",
     "output_type": "stream",
     "text": [
      "Some weights of VisionEncoderDecoderModel were not initialized from the model checkpoint at microsoft/trocr-base-printed and are newly initialized: ['encoder.pooler.dense.weight', 'encoder.pooler.dense.bias']\n",
      "You should probably TRAIN this model on a down-stream task to be able to use it for predictions and inference.\n",
      "Could not find image processor class in the image processor config or the model config. Loading based on pattern matching with the model's feature extractor configuration.\n"
     ]
    },
    {
     "name": "stdout",
     "output_type": "stream",
     "text": [
      "Arrival Record Inserted - OK\n",
      "[('31798779b1bb40518d0598f5a99e55f6', 'A8 1904', '2023-12-24 14:09:22.000000', '70_20231224T090922.jpg', '2023-12-29 22:38:34.437619')]\n"
     ]
    },
    {
     "name": "stderr",
     "output_type": "stream",
     "text": [
      "Some weights of VisionEncoderDecoderModel were not initialized from the model checkpoint at microsoft/trocr-base-printed and are newly initialized: ['encoder.pooler.dense.weight', 'encoder.pooler.dense.bias']\n",
      "You should probably TRAIN this model on a down-stream task to be able to use it for predictions and inference.\n",
      "Could not find image processor class in the image processor config or the model config. Loading based on pattern matching with the model's feature extractor configuration.\n"
     ]
    },
    {
     "name": "stdout",
     "output_type": "stream",
     "text": [
      "Arrival Record Inserted - OK\n",
      "[('ca38565e30851fbe0ed0f7e06d636d42', 'BELES', '2023-12-22 23:59:58.000000', '19_20231222T185958.jpg', '2023-12-29 22:38:41.322715')]\n"
     ]
    },
    {
     "name": "stderr",
     "output_type": "stream",
     "text": [
      "Some weights of VisionEncoderDecoderModel were not initialized from the model checkpoint at microsoft/trocr-base-printed and are newly initialized: ['encoder.pooler.dense.weight', 'encoder.pooler.dense.bias']\n",
      "You should probably TRAIN this model on a down-stream task to be able to use it for predictions and inference.\n",
      "Could not find image processor class in the image processor config or the model config. Loading based on pattern matching with the model's feature extractor configuration.\n"
     ]
    },
    {
     "name": "stdout",
     "output_type": "stream",
     "text": [
      "Arrival Record Inserted - OK\n",
      "[('614f79b98ee9f3315f00cf4b737088fa', 'RC.0038', '2023-12-26 08:30:57.000000', '66_20231226T033057.jpg', '2023-12-29 22:38:48.329851')]\n"
     ]
    },
    {
     "name": "stderr",
     "output_type": "stream",
     "text": [
      "Some weights of VisionEncoderDecoderModel were not initialized from the model checkpoint at microsoft/trocr-base-printed and are newly initialized: ['encoder.pooler.dense.weight', 'encoder.pooler.dense.bias']\n",
      "You should probably TRAIN this model on a down-stream task to be able to use it for predictions and inference.\n",
      "Could not find image processor class in the image processor config or the model config. Loading based on pattern matching with the model's feature extractor configuration.\n"
     ]
    },
    {
     "name": "stdout",
     "output_type": "stream",
     "text": [
      "Arrival Record Inserted - OK\n",
      "[('83a1ea58f4c5c82123c72f5f9ec3d6a5', 928, '2023-12-23 07:54:46.000000', '76_20231223T025446.jpg', '2023-12-29 22:38:55.507867')]\n"
     ]
    },
    {
     "name": "stderr",
     "output_type": "stream",
     "text": [
      "Some weights of VisionEncoderDecoderModel were not initialized from the model checkpoint at microsoft/trocr-base-printed and are newly initialized: ['encoder.pooler.dense.weight', 'encoder.pooler.dense.bias']\n",
      "You should probably TRAIN this model on a down-stream task to be able to use it for predictions and inference.\n",
      "Could not find image processor class in the image processor config or the model config. Loading based on pattern matching with the model's feature extractor configuration.\n"
     ]
    },
    {
     "name": "stdout",
     "output_type": "stream",
     "text": [
      "Arrival Record Inserted - OK\n",
      "[('654ba7d48b1371a5c38d9daef8ac4df1', 37557, '2023-12-28 22:50:40.000000', '72_20231228T175040.jpg', '2023-12-29 22:39:02.250082')]\n"
     ]
    },
    {
     "name": "stderr",
     "output_type": "stream",
     "text": [
      "Some weights of VisionEncoderDecoderModel were not initialized from the model checkpoint at microsoft/trocr-base-printed and are newly initialized: ['encoder.pooler.dense.weight', 'encoder.pooler.dense.bias']\n",
      "You should probably TRAIN this model on a down-stream task to be able to use it for predictions and inference.\n",
      "Could not find image processor class in the image processor config or the model config. Loading based on pattern matching with the model's feature extractor configuration.\n"
     ]
    },
    {
     "name": "stdout",
     "output_type": "stream",
     "text": [
      "Arrival Record Inserted - OK\n",
      "[('06a7a9425086b413076d3574d3bacb2e', 'YS 4710', '2023-12-28 11:03:18.000000', '40_20231228T060318.jpg', '2023-12-29 22:39:09.190306')]\n"
     ]
    },
    {
     "name": "stderr",
     "output_type": "stream",
     "text": [
      "Some weights of VisionEncoderDecoderModel were not initialized from the model checkpoint at microsoft/trocr-base-printed and are newly initialized: ['encoder.pooler.dense.weight', 'encoder.pooler.dense.bias']\n",
      "You should probably TRAIN this model on a down-stream task to be able to use it for predictions and inference.\n",
      "Could not find image processor class in the image processor config or the model config. Loading based on pattern matching with the model's feature extractor configuration.\n"
     ]
    },
    {
     "name": "stdout",
     "output_type": "stream",
     "text": [
      "Arrival Record Inserted - OK\n",
      "[('50e18063ac57d2e3c2ccd5c5871a451b', 'U2 8367', '2023-12-23 13:52:26.000000', '83_20231223T085226.jpg', '2023-12-29 22:39:16.316287')]\n"
     ]
    },
    {
     "name": "stderr",
     "output_type": "stream",
     "text": [
      "Some weights of VisionEncoderDecoderModel were not initialized from the model checkpoint at microsoft/trocr-base-printed and are newly initialized: ['encoder.pooler.dense.weight', 'encoder.pooler.dense.bias']\n",
      "You should probably TRAIN this model on a down-stream task to be able to use it for predictions and inference.\n",
      "Could not find image processor class in the image processor config or the model config. Loading based on pattern matching with the model's feature extractor configuration.\n"
     ]
    },
    {
     "name": "stdout",
     "output_type": "stream",
     "text": [
      "Arrival Record Inserted - OK\n",
      "[('f57cb981b19d6fd222084599be285285', 'TAX', '2023-12-26 07:44:32.000000', '47_20231226T024432.jpg', '2023-12-29 22:39:23.095405')]\n"
     ]
    },
    {
     "name": "stderr",
     "output_type": "stream",
     "text": [
      "Some weights of VisionEncoderDecoderModel were not initialized from the model checkpoint at microsoft/trocr-base-printed and are newly initialized: ['encoder.pooler.dense.weight', 'encoder.pooler.dense.bias']\n",
      "You should probably TRAIN this model on a down-stream task to be able to use it for predictions and inference.\n",
      "Could not find image processor class in the image processor config or the model config. Loading based on pattern matching with the model's feature extractor configuration.\n"
     ]
    },
    {
     "name": "stdout",
     "output_type": "stream",
     "text": [
      "Arrival Record Inserted - OK\n",
      "[('3fd5e2a3b51907fbbc24c77e1cce0f33', 'MY5459', '2023-12-25 06:18:04.000000', '18_20231225T011804.jpg', '2023-12-29 22:39:29.895832')]\n"
     ]
    },
    {
     "name": "stderr",
     "output_type": "stream",
     "text": [
      "Some weights of VisionEncoderDecoderModel were not initialized from the model checkpoint at microsoft/trocr-base-printed and are newly initialized: ['encoder.pooler.dense.weight', 'encoder.pooler.dense.bias']\n",
      "You should probably TRAIN this model on a down-stream task to be able to use it for predictions and inference.\n",
      "Could not find image processor class in the image processor config or the model config. Loading based on pattern matching with the model's feature extractor configuration.\n"
     ]
    },
    {
     "name": "stdout",
     "output_type": "stream",
     "text": [
      "Arrival Record Inserted - OK\n",
      "[('340de56c212cf4c8a545d57994296e59', 60160, '2023-12-24 03:19:24.000000', '82_20231223T221924.jpg', '2023-12-29 22:39:36.652677')]\n"
     ]
    },
    {
     "name": "stderr",
     "output_type": "stream",
     "text": [
      "Some weights of VisionEncoderDecoderModel were not initialized from the model checkpoint at microsoft/trocr-base-printed and are newly initialized: ['encoder.pooler.dense.weight', 'encoder.pooler.dense.bias']\n",
      "You should probably TRAIN this model on a down-stream task to be able to use it for predictions and inference.\n",
      "Could not find image processor class in the image processor config or the model config. Loading based on pattern matching with the model's feature extractor configuration.\n"
     ]
    },
    {
     "name": "stdout",
     "output_type": "stream",
     "text": [
      "Arrival Record Inserted - OK\n",
      "[('ab95728d2a356b20646486ce70a61eb9', 'DISCOUNT', '2023-12-23 16:24:31.000000', '12_20231223T112431.jpg', '2023-12-29 22:39:43.539298')]\n"
     ]
    },
    {
     "name": "stderr",
     "output_type": "stream",
     "text": [
      "Some weights of VisionEncoderDecoderModel were not initialized from the model checkpoint at microsoft/trocr-base-printed and are newly initialized: ['encoder.pooler.dense.weight', 'encoder.pooler.dense.bias']\n",
      "You should probably TRAIN this model on a down-stream task to be able to use it for predictions and inference.\n",
      "Could not find image processor class in the image processor config or the model config. Loading based on pattern matching with the model's feature extractor configuration.\n"
     ]
    },
    {
     "name": "stdout",
     "output_type": "stream",
     "text": [
      "Arrival Record Inserted - OK\n",
      "[('a23be2e20f8727239ef9f2e13d8a63a9', 'PJ867A', '2023-12-27 07:22:35.000000', '38_20231227T022235.jpg', '2023-12-29 22:39:50.691402')]\n"
     ]
    },
    {
     "name": "stderr",
     "output_type": "stream",
     "text": [
      "Some weights of VisionEncoderDecoderModel were not initialized from the model checkpoint at microsoft/trocr-base-printed and are newly initialized: ['encoder.pooler.dense.weight', 'encoder.pooler.dense.bias']\n",
      "You should probably TRAIN this model on a down-stream task to be able to use it for predictions and inference.\n",
      "Could not find image processor class in the image processor config or the model config. Loading based on pattern matching with the model's feature extractor configuration.\n"
     ]
    },
    {
     "name": "stdout",
     "output_type": "stream",
     "text": [
      "Arrival Record Inserted - OK\n",
      "[('b9e64b059d6becb6ce7a89546722982e', 'FZ7861', '2023-12-22 21:17:37.000000', '24_20231222T161737.jpg', '2023-12-29 22:39:57.745334')]\n"
     ]
    },
    {
     "name": "stderr",
     "output_type": "stream",
     "text": [
      "Some weights of VisionEncoderDecoderModel were not initialized from the model checkpoint at microsoft/trocr-base-printed and are newly initialized: ['encoder.pooler.dense.weight', 'encoder.pooler.dense.bias']\n",
      "You should probably TRAIN this model on a down-stream task to be able to use it for predictions and inference.\n",
      "Could not find image processor class in the image processor config or the model config. Loading based on pattern matching with the model's feature extractor configuration.\n"
     ]
    },
    {
     "name": "stdout",
     "output_type": "stream",
     "text": [
      "Arrival Record Inserted - OK\n",
      "[('71b92b1f632161085232596014b42ad2', 'MY5459', '2023-12-24 00:05:20.000000', '18_20231223T190520.jpg', '2023-12-29 22:40:04.643150')]\n"
     ]
    },
    {
     "name": "stderr",
     "output_type": "stream",
     "text": [
      "Some weights of VisionEncoderDecoderModel were not initialized from the model checkpoint at microsoft/trocr-base-printed and are newly initialized: ['encoder.pooler.dense.weight', 'encoder.pooler.dense.bias']\n",
      "You should probably TRAIN this model on a down-stream task to be able to use it for predictions and inference.\n",
      "Could not find image processor class in the image processor config or the model config. Loading based on pattern matching with the model's feature extractor configuration.\n"
     ]
    },
    {
     "name": "stdout",
     "output_type": "stream",
     "text": [
      "Arrival Record Inserted - OK\n",
      "[('ee0f70c951da6cfc608fd4103c28dede', 37557, '2023-12-22 20:01:14.000000', '72_20231222T150114.jpg', '2023-12-29 22:40:11.346228')]\n"
     ]
    },
    {
     "name": "stderr",
     "output_type": "stream",
     "text": [
      "Some weights of VisionEncoderDecoderModel were not initialized from the model checkpoint at microsoft/trocr-base-printed and are newly initialized: ['encoder.pooler.dense.weight', 'encoder.pooler.dense.bias']\n",
      "You should probably TRAIN this model on a down-stream task to be able to use it for predictions and inference.\n",
      "Could not find image processor class in the image processor config or the model config. Loading based on pattern matching with the model's feature extractor configuration.\n"
     ]
    },
    {
     "name": "stdout",
     "output_type": "stream",
     "text": [
      "Arrival Record Inserted - OK\n",
      "[('f5406fa6abe6ef79c2a923799a8a63b0', 0.77, '2023-12-26 11:01:31.000000', '75_20231226T060131.jpg', '2023-12-29 22:40:18.091213')]\n"
     ]
    },
    {
     "name": "stderr",
     "output_type": "stream",
     "text": [
      "Some weights of VisionEncoderDecoderModel were not initialized from the model checkpoint at microsoft/trocr-base-printed and are newly initialized: ['encoder.pooler.dense.weight', 'encoder.pooler.dense.bias']\n",
      "You should probably TRAIN this model on a down-stream task to be able to use it for predictions and inference.\n",
      "Could not find image processor class in the image processor config or the model config. Loading based on pattern matching with the model's feature extractor configuration.\n"
     ]
    },
    {
     "name": "stdout",
     "output_type": "stream",
     "text": [
      "Arrival Record Inserted - OK\n",
      "[('fefe387cdcbc40eff286f259de13d53f', 'DISIGN', '2023-12-22 08:41:28.000000', '2_20231222T034128.jpg', '2023-12-29 22:40:24.934981')]\n"
     ]
    },
    {
     "name": "stderr",
     "output_type": "stream",
     "text": [
      "Some weights of VisionEncoderDecoderModel were not initialized from the model checkpoint at microsoft/trocr-base-printed and are newly initialized: ['encoder.pooler.dense.weight', 'encoder.pooler.dense.bias']\n",
      "You should probably TRAIN this model on a down-stream task to be able to use it for predictions and inference.\n",
      "Could not find image processor class in the image processor config or the model config. Loading based on pattern matching with the model's feature extractor configuration.\n"
     ]
    },
    {
     "name": "stdout",
     "output_type": "stream",
     "text": [
      "Arrival Record Inserted - OK\n",
      "[('7b4c4bbadfc7149897387635ba1255f2', '7842KD', '2023-12-23 00:52:01.000000', '33_20231222T195201.jpg', '2023-12-29 22:40:31.872791')]\n"
     ]
    },
    {
     "name": "stderr",
     "output_type": "stream",
     "text": [
      "Some weights of VisionEncoderDecoderModel were not initialized from the model checkpoint at microsoft/trocr-base-printed and are newly initialized: ['encoder.pooler.dense.weight', 'encoder.pooler.dense.bias']\n",
      "You should probably TRAIN this model on a down-stream task to be able to use it for predictions and inference.\n",
      "Could not find image processor class in the image processor config or the model config. Loading based on pattern matching with the model's feature extractor configuration.\n"
     ]
    },
    {
     "name": "stdout",
     "output_type": "stream",
     "text": [
      "Arrival Record Inserted - OK\n",
      "[('9d6e8bfdfb72dba87a64303ddfc864a8', 'T85625', '2023-12-23 07:18:58.000000', '61_20231223T021858.jpg', '2023-12-29 22:40:38.701640')]\n"
     ]
    },
    {
     "name": "stderr",
     "output_type": "stream",
     "text": [
      "Some weights of VisionEncoderDecoderModel were not initialized from the model checkpoint at microsoft/trocr-base-printed and are newly initialized: ['encoder.pooler.dense.weight', 'encoder.pooler.dense.bias']\n",
      "You should probably TRAIN this model on a down-stream task to be able to use it for predictions and inference.\n",
      "Could not find image processor class in the image processor config or the model config. Loading based on pattern matching with the model's feature extractor configuration.\n"
     ]
    },
    {
     "name": "stdout",
     "output_type": "stream",
     "text": [
      "Arrival Record Inserted - OK\n",
      "[('63c9afd42f3a3a6d474a3f890414a105', 37557, '2023-12-26 21:06:50.000000', '72_20231226T160650.jpg', '2023-12-29 22:40:45.445374')]\n"
     ]
    },
    {
     "name": "stderr",
     "output_type": "stream",
     "text": [
      "Some weights of VisionEncoderDecoderModel were not initialized from the model checkpoint at microsoft/trocr-base-printed and are newly initialized: ['encoder.pooler.dense.weight', 'encoder.pooler.dense.bias']\n",
      "You should probably TRAIN this model on a down-stream task to be able to use it for predictions and inference.\n",
      "Could not find image processor class in the image processor config or the model config. Loading based on pattern matching with the model's feature extractor configuration.\n"
     ]
    },
    {
     "name": "stdout",
     "output_type": "stream",
     "text": [
      "Arrival Record Inserted - OK\n",
      "[('22847f6ff7edd6142559b8c496874ab6', 'GINGER BAKER', '2023-12-27 11:22:32.000000', '6_20231227T062232.jpg', '2023-12-29 22:40:52.619056')]\n"
     ]
    },
    {
     "name": "stderr",
     "output_type": "stream",
     "text": [
      "Some weights of VisionEncoderDecoderModel were not initialized from the model checkpoint at microsoft/trocr-base-printed and are newly initialized: ['encoder.pooler.dense.weight', 'encoder.pooler.dense.bias']\n",
      "You should probably TRAIN this model on a down-stream task to be able to use it for predictions and inference.\n",
      "Could not find image processor class in the image processor config or the model config. Loading based on pattern matching with the model's feature extractor configuration.\n"
     ]
    },
    {
     "name": "stdout",
     "output_type": "stream",
     "text": [
      "Arrival Record Inserted - OK\n",
      "[('e6383e68d7f40ea112f18395cbc12c20', 'Y57727', '2023-12-22 10:51:04.000000', '46_20231222T055104.jpg', '2023-12-29 22:40:59.461548')]\n"
     ]
    },
    {
     "name": "stderr",
     "output_type": "stream",
     "text": [
      "Some weights of VisionEncoderDecoderModel were not initialized from the model checkpoint at microsoft/trocr-base-printed and are newly initialized: ['encoder.pooler.dense.weight', 'encoder.pooler.dense.bias']\n",
      "You should probably TRAIN this model on a down-stream task to be able to use it for predictions and inference.\n",
      "Could not find image processor class in the image processor config or the model config. Loading based on pattern matching with the model's feature extractor configuration.\n"
     ]
    },
    {
     "name": "stdout",
     "output_type": "stream",
     "text": [
      "Arrival Record Inserted - OK\n",
      "[('77b9584dda76506a05f43e742963afb7', '4214MP', '2023-12-26 11:49:34.000000', '50_20231226T064934.jpg', '2023-12-29 22:41:06.268452')]\n"
     ]
    },
    {
     "name": "stderr",
     "output_type": "stream",
     "text": [
      "Some weights of VisionEncoderDecoderModel were not initialized from the model checkpoint at microsoft/trocr-base-printed and are newly initialized: ['encoder.pooler.dense.weight', 'encoder.pooler.dense.bias']\n",
      "You should probably TRAIN this model on a down-stream task to be able to use it for predictions and inference.\n",
      "Could not find image processor class in the image processor config or the model config. Loading based on pattern matching with the model's feature extractor configuration.\n"
     ]
    },
    {
     "name": "stdout",
     "output_type": "stream",
     "text": [
      "Arrival Record Inserted - OK\n",
      "[('ff0944583d9f51ea9aad28e7559d59ac', 'T85625', '2023-12-28 00:56:29.000000', '61_20231227T195629.jpg', '2023-12-29 22:41:13.157937')]\n"
     ]
    },
    {
     "name": "stderr",
     "output_type": "stream",
     "text": [
      "Some weights of VisionEncoderDecoderModel were not initialized from the model checkpoint at microsoft/trocr-base-printed and are newly initialized: ['encoder.pooler.dense.weight', 'encoder.pooler.dense.bias']\n",
      "You should probably TRAIN this model on a down-stream task to be able to use it for predictions and inference.\n",
      "Could not find image processor class in the image processor config or the model config. Loading based on pattern matching with the model's feature extractor configuration.\n"
     ]
    },
    {
     "name": "stdout",
     "output_type": "stream",
     "text": [
      "Arrival Record Inserted - OK\n",
      "[('dda394a99a5abf32c813867f0eef2124', 'GINGER BAKER', '2023-12-25 07:31:53.000000', '6_20231225T023153.jpg', '2023-12-29 22:41:20.494096')]\n"
     ]
    },
    {
     "name": "stderr",
     "output_type": "stream",
     "text": [
      "Some weights of VisionEncoderDecoderModel were not initialized from the model checkpoint at microsoft/trocr-base-printed and are newly initialized: ['encoder.pooler.dense.weight', 'encoder.pooler.dense.bias']\n",
      "You should probably TRAIN this model on a down-stream task to be able to use it for predictions and inference.\n",
      "Could not find image processor class in the image processor config or the model config. Loading based on pattern matching with the model's feature extractor configuration.\n"
     ]
    },
    {
     "name": "stdout",
     "output_type": "stream",
     "text": [
      "Arrival Record Inserted - OK\n",
      "[('da6c728b5223d1d9695413361551b9c8', 'MG.9429', '2023-12-26 23:58:44.000000', '11_20231226T185844.jpg', '2023-12-29 22:41:27.373557')]\n"
     ]
    },
    {
     "name": "stderr",
     "output_type": "stream",
     "text": [
      "Some weights of VisionEncoderDecoderModel were not initialized from the model checkpoint at microsoft/trocr-base-printed and are newly initialized: ['encoder.pooler.dense.weight', 'encoder.pooler.dense.bias']\n",
      "You should probably TRAIN this model on a down-stream task to be able to use it for predictions and inference.\n",
      "Could not find image processor class in the image processor config or the model config. Loading based on pattern matching with the model's feature extractor configuration.\n"
     ]
    },
    {
     "name": "stdout",
     "output_type": "stream",
     "text": [
      "Arrival Record Inserted - OK\n",
      "[('a4b3cf0d30c0f1f6a09e0f805cc60df7', 'MY5459', '2023-12-29 00:57:43.000000', '18_20231228T195743.jpg', '2023-12-29 22:41:34.275734')]\n"
     ]
    },
    {
     "name": "stderr",
     "output_type": "stream",
     "text": [
      "Some weights of VisionEncoderDecoderModel were not initialized from the model checkpoint at microsoft/trocr-base-printed and are newly initialized: ['encoder.pooler.dense.weight', 'encoder.pooler.dense.bias']\n",
      "You should probably TRAIN this model on a down-stream task to be able to use it for predictions and inference.\n",
      "Could not find image processor class in the image processor config or the model config. Loading based on pattern matching with the model's feature extractor configuration.\n"
     ]
    },
    {
     "name": "stdout",
     "output_type": "stream",
     "text": [
      "Arrival Record Inserted - OK\n",
      "[('57c02a02ec7f4ce38103bf1cd7f0d861', 'FZ7861', '2023-12-26 09:20:55.000000', '24_20231226T042055.jpg', '2023-12-29 22:41:41.145480')]\n"
     ]
    },
    {
     "name": "stderr",
     "output_type": "stream",
     "text": [
      "Some weights of VisionEncoderDecoderModel were not initialized from the model checkpoint at microsoft/trocr-base-printed and are newly initialized: ['encoder.pooler.dense.weight', 'encoder.pooler.dense.bias']\n",
      "You should probably TRAIN this model on a down-stream task to be able to use it for predictions and inference.\n",
      "Could not find image processor class in the image processor config or the model config. Loading based on pattern matching with the model's feature extractor configuration.\n"
     ]
    },
    {
     "name": "stdout",
     "output_type": "stream",
     "text": [
      "Arrival Record Inserted - OK\n",
      "[('bb2c3d3301f2f192ff58a434449c4019', 'CO', '2023-12-23 11:58:34.000000', '74_20231223T065834.jpg', '2023-12-29 22:41:47.794709')]\n"
     ]
    },
    {
     "name": "stderr",
     "output_type": "stream",
     "text": [
      "Some weights of VisionEncoderDecoderModel were not initialized from the model checkpoint at microsoft/trocr-base-printed and are newly initialized: ['encoder.pooler.dense.weight', 'encoder.pooler.dense.bias']\n",
      "You should probably TRAIN this model on a down-stream task to be able to use it for predictions and inference.\n",
      "Could not find image processor class in the image processor config or the model config. Loading based on pattern matching with the model's feature extractor configuration.\n"
     ]
    },
    {
     "name": "stdout",
     "output_type": "stream",
     "text": [
      "Arrival Record Inserted - OK\n",
      "[('3ef240f5a577db0a22aef3fffd169274', '396TF', '2023-12-22 18:47:20.000000', '60_20231222T134720.jpg', '2023-12-29 22:41:54.621588')]\n"
     ]
    },
    {
     "name": "stderr",
     "output_type": "stream",
     "text": [
      "Some weights of VisionEncoderDecoderModel were not initialized from the model checkpoint at microsoft/trocr-base-printed and are newly initialized: ['encoder.pooler.dense.weight', 'encoder.pooler.dense.bias']\n",
      "You should probably TRAIN this model on a down-stream task to be able to use it for predictions and inference.\n"
     ]
    },
    {
     "name": "stdout",
     "output_type": "stream",
     "text": [
      "Arrival Record Inserted - OK\n",
      "[('47773807bb7274520caaedea5bf4ccd9', '7.50HQ', '2023-12-24 16:46:04.000000', '79_20231224T114604.jpg', '2023-12-29 22:42:01.476050')]\n"
     ]
    },
    {
     "name": "stderr",
     "output_type": "stream",
     "text": [
      "Could not find image processor class in the image processor config or the model config. Loading based on pattern matching with the model's feature extractor configuration.\n",
      "Some weights of VisionEncoderDecoderModel were not initialized from the model checkpoint at microsoft/trocr-base-printed and are newly initialized: ['encoder.pooler.dense.weight', 'encoder.pooler.dense.bias']\n",
      "You should probably TRAIN this model on a down-stream task to be able to use it for predictions and inference.\n",
      "Could not find image processor class in the image processor config or the model config. Loading based on pattern matching with the model's feature extractor configuration.\n"
     ]
    },
    {
     "name": "stdout",
     "output_type": "stream",
     "text": [
      "Arrival Record Inserted - OK\n",
      "[('a30f1300b70c411cbf7c4a44665a738a', 'DISIGN', '2023-12-23 18:18:52.000000', '2_20231223T131852.jpg', '2023-12-29 22:42:08.510613')]\n"
     ]
    },
    {
     "name": "stderr",
     "output_type": "stream",
     "text": [
      "Some weights of VisionEncoderDecoderModel were not initialized from the model checkpoint at microsoft/trocr-base-printed and are newly initialized: ['encoder.pooler.dense.weight', 'encoder.pooler.dense.bias']\n",
      "You should probably TRAIN this model on a down-stream task to be able to use it for predictions and inference.\n",
      "Could not find image processor class in the image processor config or the model config. Loading based on pattern matching with the model's feature extractor configuration.\n"
     ]
    },
    {
     "name": "stdout",
     "output_type": "stream",
     "text": [
      "Arrival Record Inserted - OK\n",
      "[('ce38cf4ea9cbfa0535cf76c5ffdd36b3', 'YS 4710', '2023-12-28 00:37:08.000000', '40_20231227T193708.jpg', '2023-12-29 22:42:15.473323')]\n"
     ]
    },
    {
     "name": "stderr",
     "output_type": "stream",
     "text": [
      "Some weights of VisionEncoderDecoderModel were not initialized from the model checkpoint at microsoft/trocr-base-printed and are newly initialized: ['encoder.pooler.dense.weight', 'encoder.pooler.dense.bias']\n",
      "You should probably TRAIN this model on a down-stream task to be able to use it for predictions and inference.\n",
      "Could not find image processor class in the image processor config or the model config. Loading based on pattern matching with the model's feature extractor configuration.\n"
     ]
    },
    {
     "name": "stdout",
     "output_type": "stream",
     "text": [
      "Arrival Record Inserted - OK\n",
      "[('3c6681bdc6c8dd7b291dc7e3c345525f', 'GINGER BAKER', '2023-12-25 00:15:00.000000', '6_20231224T191500.jpg', '2023-12-29 22:42:22.755850')]\n"
     ]
    },
    {
     "name": "stderr",
     "output_type": "stream",
     "text": [
      "Some weights of VisionEncoderDecoderModel were not initialized from the model checkpoint at microsoft/trocr-base-printed and are newly initialized: ['encoder.pooler.dense.weight', 'encoder.pooler.dense.bias']\n",
      "You should probably TRAIN this model on a down-stream task to be able to use it for predictions and inference.\n",
      "Could not find image processor class in the image processor config or the model config. Loading based on pattern matching with the model's feature extractor configuration.\n"
     ]
    },
    {
     "name": "stdout",
     "output_type": "stream",
     "text": [
      "Arrival Record Inserted - OK\n",
      "[('3f1fec3e41554f23c46367cf82b9e3ec', 'RZ 0047', '2023-12-23 10:33:47.000000', '1_20231223T053347.jpg', '2023-12-29 22:42:29.740906')]\n"
     ]
    },
    {
     "name": "stderr",
     "output_type": "stream",
     "text": [
      "Some weights of VisionEncoderDecoderModel were not initialized from the model checkpoint at microsoft/trocr-base-printed and are newly initialized: ['encoder.pooler.dense.weight', 'encoder.pooler.dense.bias']\n",
      "You should probably TRAIN this model on a down-stream task to be able to use it for predictions and inference.\n",
      "Could not find image processor class in the image processor config or the model config. Loading based on pattern matching with the model's feature extractor configuration.\n"
     ]
    },
    {
     "name": "stdout",
     "output_type": "stream",
     "text": [
      "Arrival Record Inserted - OK\n",
      "[('c54753d6df17a4739fffa9a49228905c', 'SR', '2023-12-27 06:13:42.000000', '8_20231227T011342.jpg', '2023-12-29 22:42:36.356488')]\n"
     ]
    },
    {
     "name": "stderr",
     "output_type": "stream",
     "text": [
      "Some weights of VisionEncoderDecoderModel were not initialized from the model checkpoint at microsoft/trocr-base-printed and are newly initialized: ['encoder.pooler.dense.weight', 'encoder.pooler.dense.bias']\n",
      "You should probably TRAIN this model on a down-stream task to be able to use it for predictions and inference.\n",
      "Could not find image processor class in the image processor config or the model config. Loading based on pattern matching with the model's feature extractor configuration.\n"
     ]
    },
    {
     "name": "stdout",
     "output_type": "stream",
     "text": [
      "Arrival Record Inserted - OK\n",
      "[('4aebc97d5f15b9387294c65d8faff04a', '7842KD', '2023-12-26 19:04:33.000000', '33_20231226T140433.jpg', '2023-12-29 22:42:43.437879')]\n"
     ]
    },
    {
     "name": "stderr",
     "output_type": "stream",
     "text": [
      "Some weights of VisionEncoderDecoderModel were not initialized from the model checkpoint at microsoft/trocr-base-printed and are newly initialized: ['encoder.pooler.dense.weight', 'encoder.pooler.dense.bias']\n",
      "You should probably TRAIN this model on a down-stream task to be able to use it for predictions and inference.\n",
      "Could not find image processor class in the image processor config or the model config. Loading based on pattern matching with the model's feature extractor configuration.\n"
     ]
    },
    {
     "name": "stdout",
     "output_type": "stream",
     "text": [
      "Arrival Record Inserted - OK\n",
      "[('ed80cbde1ac71692ca7f74f8f5fb5e1b', 'MY5459', '2023-12-22 14:37:44.000000', '18_20231222T093744.jpg', '2023-12-29 22:42:50.343130')]\n"
     ]
    },
    {
     "name": "stderr",
     "output_type": "stream",
     "text": [
      "Some weights of VisionEncoderDecoderModel were not initialized from the model checkpoint at microsoft/trocr-base-printed and are newly initialized: ['encoder.pooler.dense.weight', 'encoder.pooler.dense.bias']\n",
      "You should probably TRAIN this model on a down-stream task to be able to use it for predictions and inference.\n",
      "Could not find image processor class in the image processor config or the model config. Loading based on pattern matching with the model's feature extractor configuration.\n"
     ]
    },
    {
     "name": "stdout",
     "output_type": "stream",
     "text": [
      "Arrival Record Inserted - OK\n",
      "[('606d4f438cbf4e0dd4e9aee28e27244d', '6519FL', '2023-12-28 10:14:51.000000', '30_20231228T051451.jpg', '2023-12-29 22:42:57.080440')]\n"
     ]
    },
    {
     "name": "stderr",
     "output_type": "stream",
     "text": [
      "Some weights of VisionEncoderDecoderModel were not initialized from the model checkpoint at microsoft/trocr-base-printed and are newly initialized: ['encoder.pooler.dense.weight', 'encoder.pooler.dense.bias']\n",
      "You should probably TRAIN this model on a down-stream task to be able to use it for predictions and inference.\n",
      "Could not find image processor class in the image processor config or the model config. Loading based on pattern matching with the model's feature extractor configuration.\n"
     ]
    },
    {
     "name": "stdout",
     "output_type": "stream",
     "text": [
      "Arrival Record Inserted - OK\n",
      "[('e2927f4ac4f05971f7e8f5d8090a339d', 'A8 1904', '2023-12-28 21:19:39.000000', '70_20231228T161939.jpg', '2023-12-29 22:43:04.560414')]\n"
     ]
    },
    {
     "name": "stderr",
     "output_type": "stream",
     "text": [
      "Some weights of VisionEncoderDecoderModel were not initialized from the model checkpoint at microsoft/trocr-base-printed and are newly initialized: ['encoder.pooler.dense.weight', 'encoder.pooler.dense.bias']\n",
      "You should probably TRAIN this model on a down-stream task to be able to use it for predictions and inference.\n",
      "Could not find image processor class in the image processor config or the model config. Loading based on pattern matching with the model's feature extractor configuration.\n"
     ]
    },
    {
     "name": "stdout",
     "output_type": "stream",
     "text": [
      "Arrival Record Inserted - OK\n",
      "[('d656046d49784421d4a7372ab41d7e83', '5214MG', '2023-12-22 08:44:43.000000', '34_20231222T034443.jpg', '2023-12-29 22:43:11.387657')]\n"
     ]
    },
    {
     "name": "stderr",
     "output_type": "stream",
     "text": [
      "Some weights of VisionEncoderDecoderModel were not initialized from the model checkpoint at microsoft/trocr-base-printed and are newly initialized: ['encoder.pooler.dense.weight', 'encoder.pooler.dense.bias']\n",
      "You should probably TRAIN this model on a down-stream task to be able to use it for predictions and inference.\n",
      "Could not find image processor class in the image processor config or the model config. Loading based on pattern matching with the model's feature extractor configuration.\n"
     ]
    },
    {
     "name": "stdout",
     "output_type": "stream",
     "text": [
      "Arrival Record Inserted - OK\n",
      "[('aa758989e0cba03200879a6c52f93764', 'NR 7965', '2023-12-25 15:18:05.000000', '5_20231225T101805.jpg', '2023-12-29 22:43:18.272509')]\n"
     ]
    },
    {
     "name": "stderr",
     "output_type": "stream",
     "text": [
      "Some weights of VisionEncoderDecoderModel were not initialized from the model checkpoint at microsoft/trocr-base-printed and are newly initialized: ['encoder.pooler.dense.weight', 'encoder.pooler.dense.bias']\n",
      "You should probably TRAIN this model on a down-stream task to be able to use it for predictions and inference.\n",
      "Could not find image processor class in the image processor config or the model config. Loading based on pattern matching with the model's feature extractor configuration.\n"
     ]
    },
    {
     "name": "stdout",
     "output_type": "stream",
     "text": [
      "Arrival Record Inserted - OK\n",
      "[('cc38d1d4d53d411331aa2ee2cdebb119', 'NR 7965', '2023-12-23 15:04:43.000000', '5_20231223T100443.jpg', '2023-12-29 22:43:25.085236')]\n"
     ]
    },
    {
     "name": "stderr",
     "output_type": "stream",
     "text": [
      "Some weights of VisionEncoderDecoderModel were not initialized from the model checkpoint at microsoft/trocr-base-printed and are newly initialized: ['encoder.pooler.dense.weight', 'encoder.pooler.dense.bias']\n",
      "You should probably TRAIN this model on a down-stream task to be able to use it for predictions and inference.\n"
     ]
    },
    {
     "name": "stdout",
     "output_type": "stream",
     "text": [
      "Arrival Record Inserted - OK\n",
      "[('85a10fb659f294580511dfba6296f872', 'DISIGN', '2023-12-25 10:04:40.000000', '2_20231225T050440.jpg', '2023-12-29 22:43:31.884201')]\n"
     ]
    },
    {
     "name": "stderr",
     "output_type": "stream",
     "text": [
      "Could not find image processor class in the image processor config or the model config. Loading based on pattern matching with the model's feature extractor configuration.\n",
      "Some weights of VisionEncoderDecoderModel were not initialized from the model checkpoint at microsoft/trocr-base-printed and are newly initialized: ['encoder.pooler.dense.weight', 'encoder.pooler.dense.bias']\n",
      "You should probably TRAIN this model on a down-stream task to be able to use it for predictions and inference.\n",
      "Could not find image processor class in the image processor config or the model config. Loading based on pattern matching with the model's feature extractor configuration.\n"
     ]
    },
    {
     "name": "stdout",
     "output_type": "stream",
     "text": [
      "Arrival Record Inserted - OK\n",
      "[('6332ea3d906acf67598b70a7a138c05f', '9125SM', '2023-12-22 16:53:04.000000', '63_20231222T115304.jpg', '2023-12-29 22:43:39.093742')]\n"
     ]
    },
    {
     "name": "stderr",
     "output_type": "stream",
     "text": [
      "Some weights of VisionEncoderDecoderModel were not initialized from the model checkpoint at microsoft/trocr-base-printed and are newly initialized: ['encoder.pooler.dense.weight', 'encoder.pooler.dense.bias']\n",
      "You should probably TRAIN this model on a down-stream task to be able to use it for predictions and inference.\n",
      "Could not find image processor class in the image processor config or the model config. Loading based on pattern matching with the model's feature extractor configuration.\n"
     ]
    },
    {
     "name": "stdout",
     "output_type": "stream",
     "text": [
      "Arrival Record Inserted - OK\n",
      "[('95d43d11d0e2a782daf4417ee04b3c2e', 'RZ 0047', '2023-12-22 08:54:44.000000', '1_20231222T035444.jpg', '2023-12-29 22:43:46.138494')]\n"
     ]
    },
    {
     "name": "stderr",
     "output_type": "stream",
     "text": [
      "Some weights of VisionEncoderDecoderModel were not initialized from the model checkpoint at microsoft/trocr-base-printed and are newly initialized: ['encoder.pooler.dense.weight', 'encoder.pooler.dense.bias']\n",
      "You should probably TRAIN this model on a down-stream task to be able to use it for predictions and inference.\n",
      "Could not find image processor class in the image processor config or the model config. Loading based on pattern matching with the model's feature extractor configuration.\n"
     ]
    },
    {
     "name": "stdout",
     "output_type": "stream",
     "text": [
      "Arrival Record Inserted - OK\n",
      "[('f6abbefe84a09e05a3b35869db80347f', 'L92594', '2023-12-26 03:32:31.000000', '23_20231225T223231.jpg', '2023-12-29 22:43:53.090008')]\n"
     ]
    },
    {
     "name": "stderr",
     "output_type": "stream",
     "text": [
      "Some weights of VisionEncoderDecoderModel were not initialized from the model checkpoint at microsoft/trocr-base-printed and are newly initialized: ['encoder.pooler.dense.weight', 'encoder.pooler.dense.bias']\n",
      "You should probably TRAIN this model on a down-stream task to be able to use it for predictions and inference.\n",
      "Could not find image processor class in the image processor config or the model config. Loading based on pattern matching with the model's feature extractor configuration.\n"
     ]
    },
    {
     "name": "stdout",
     "output_type": "stream",
     "text": [
      "Arrival Record Inserted - OK\n",
      "[('6d3dd229d86686ef32ee383e3963c99f', 565481, '2023-12-26 18:23:36.000000', '9_20231226T132336.jpg', '2023-12-29 22:43:59.916891')]\n"
     ]
    },
    {
     "name": "stderr",
     "output_type": "stream",
     "text": [
      "Some weights of VisionEncoderDecoderModel were not initialized from the model checkpoint at microsoft/trocr-base-printed and are newly initialized: ['encoder.pooler.dense.weight', 'encoder.pooler.dense.bias']\n",
      "You should probably TRAIN this model on a down-stream task to be able to use it for predictions and inference.\n",
      "Could not find image processor class in the image processor config or the model config. Loading based on pattern matching with the model's feature extractor configuration.\n"
     ]
    },
    {
     "name": "stdout",
     "output_type": "stream",
     "text": [
      "Arrival Record Inserted - OK\n",
      "[('6154532a8f4765e4aced4a4a73ba2344', 'PJ867A', '2023-12-24 20:44:42.000000', '38_20231224T154442.jpg', '2023-12-29 22:44:07.114471')]\n"
     ]
    },
    {
     "name": "stderr",
     "output_type": "stream",
     "text": [
      "Some weights of VisionEncoderDecoderModel were not initialized from the model checkpoint at microsoft/trocr-base-printed and are newly initialized: ['encoder.pooler.dense.weight', 'encoder.pooler.dense.bias']\n",
      "You should probably TRAIN this model on a down-stream task to be able to use it for predictions and inference.\n",
      "Could not find image processor class in the image processor config or the model config. Loading based on pattern matching with the model's feature extractor configuration.\n"
     ]
    },
    {
     "name": "stdout",
     "output_type": "stream",
     "text": [
      "Arrival Record Inserted - OK\n",
      "[('7561033d0ef57244c54784323e89f4e1', 'CO', '2023-12-28 17:05:52.000000', '74_20231228T120552.jpg', '2023-12-29 22:44:13.685133')]\n"
     ]
    },
    {
     "name": "stderr",
     "output_type": "stream",
     "text": [
      "Some weights of VisionEncoderDecoderModel were not initialized from the model checkpoint at microsoft/trocr-base-printed and are newly initialized: ['encoder.pooler.dense.weight', 'encoder.pooler.dense.bias']\n",
      "You should probably TRAIN this model on a down-stream task to be able to use it for predictions and inference.\n",
      "Could not find image processor class in the image processor config or the model config. Loading based on pattern matching with the model's feature extractor configuration.\n"
     ]
    },
    {
     "name": "stdout",
     "output_type": "stream",
     "text": [
      "Arrival Record Inserted - OK\n",
      "[('b243fc75efee5494aa3640f900621639', 'RT:7178', '2023-12-27 01:00:54.000000', '28_20231226T200054.jpg', '2023-12-29 22:44:20.613150')]\n"
     ]
    },
    {
     "name": "stderr",
     "output_type": "stream",
     "text": [
      "Some weights of VisionEncoderDecoderModel were not initialized from the model checkpoint at microsoft/trocr-base-printed and are newly initialized: ['encoder.pooler.dense.weight', 'encoder.pooler.dense.bias']\n",
      "You should probably TRAIN this model on a down-stream task to be able to use it for predictions and inference.\n",
      "Could not find image processor class in the image processor config or the model config. Loading based on pattern matching with the model's feature extractor configuration.\n"
     ]
    },
    {
     "name": "stdout",
     "output_type": "stream",
     "text": [
      "Arrival Record Inserted - OK\n",
      "[('5efd4a5f3c10134fdd4ea8a2b5873b60', 0.77, '2023-12-25 20:43:58.000000', '75_20231225T154358.jpg', '2023-12-29 22:44:27.293472')]\n"
     ]
    },
    {
     "name": "stderr",
     "output_type": "stream",
     "text": [
      "Some weights of VisionEncoderDecoderModel were not initialized from the model checkpoint at microsoft/trocr-base-printed and are newly initialized: ['encoder.pooler.dense.weight', 'encoder.pooler.dense.bias']\n",
      "You should probably TRAIN this model on a down-stream task to be able to use it for predictions and inference.\n",
      "Could not find image processor class in the image processor config or the model config. Loading based on pattern matching with the model's feature extractor configuration.\n"
     ]
    },
    {
     "name": "stdout",
     "output_type": "stream",
     "text": [
      "Arrival Record Inserted - OK\n",
      "[('81cbc7a9212d284269bda661691b71a1', '4214MP', '2023-12-28 10:36:49.000000', '50_20231228T053649.jpg', '2023-12-29 22:44:34.331221')]\n"
     ]
    },
    {
     "name": "stderr",
     "output_type": "stream",
     "text": [
      "Some weights of VisionEncoderDecoderModel were not initialized from the model checkpoint at microsoft/trocr-base-printed and are newly initialized: ['encoder.pooler.dense.weight', 'encoder.pooler.dense.bias']\n",
      "You should probably TRAIN this model on a down-stream task to be able to use it for predictions and inference.\n",
      "Could not find image processor class in the image processor config or the model config. Loading based on pattern matching with the model's feature extractor configuration.\n"
     ]
    },
    {
     "name": "stdout",
     "output_type": "stream",
     "text": [
      "Arrival Record Inserted - OK\n",
      "[('b82f3a685b7c8ebebea1856cc30bdf1f', 50590, '2023-12-22 18:09:20.000000', '13_20231222T130920.jpg', '2023-12-29 22:44:41.124139')]\n"
     ]
    },
    {
     "name": "stderr",
     "output_type": "stream",
     "text": [
      "Some weights of VisionEncoderDecoderModel were not initialized from the model checkpoint at microsoft/trocr-base-printed and are newly initialized: ['encoder.pooler.dense.weight', 'encoder.pooler.dense.bias']\n",
      "You should probably TRAIN this model on a down-stream task to be able to use it for predictions and inference.\n",
      "Could not find image processor class in the image processor config or the model config. Loading based on pattern matching with the model's feature extractor configuration.\n"
     ]
    },
    {
     "name": "stdout",
     "output_type": "stream",
     "text": [
      "Arrival Record Inserted - OK\n",
      "[('fb3af797960d4f9403d88e0f3b27911f', 'TAX', '2023-12-23 04:59:45.000000', '47_20231222T235945.jpg', '2023-12-29 22:44:47.794058')]\n"
     ]
    },
    {
     "name": "stderr",
     "output_type": "stream",
     "text": [
      "Some weights of VisionEncoderDecoderModel were not initialized from the model checkpoint at microsoft/trocr-base-printed and are newly initialized: ['encoder.pooler.dense.weight', 'encoder.pooler.dense.bias']\n",
      "You should probably TRAIN this model on a down-stream task to be able to use it for predictions and inference.\n",
      "Could not find image processor class in the image processor config or the model config. Loading based on pattern matching with the model's feature extractor configuration.\n"
     ]
    },
    {
     "name": "stdout",
     "output_type": "stream",
     "text": [
      "Arrival Record Inserted - OK\n",
      "[('d3074f093033e31cb7cff04ec5db28ee', '867ZJA', '2023-12-22 14:53:59.000000', '25_20231222T095359.jpg', '2023-12-29 22:44:54.837484')]\n"
     ]
    },
    {
     "name": "stderr",
     "output_type": "stream",
     "text": [
      "Some weights of VisionEncoderDecoderModel were not initialized from the model checkpoint at microsoft/trocr-base-printed and are newly initialized: ['encoder.pooler.dense.weight', 'encoder.pooler.dense.bias']\n",
      "You should probably TRAIN this model on a down-stream task to be able to use it for predictions and inference.\n",
      "Could not find image processor class in the image processor config or the model config. Loading based on pattern matching with the model's feature extractor configuration.\n"
     ]
    },
    {
     "name": "stdout",
     "output_type": "stream",
     "text": [
      "Arrival Record Inserted - OK\n",
      "[('0509b3eb87bd0ef6adcb7548c6ee7b07', '5807AF', '2023-12-27 21:14:26.000000', '26_20231227T161426.jpg', '2023-12-29 22:45:01.666834')]\n"
     ]
    },
    {
     "name": "stderr",
     "output_type": "stream",
     "text": [
      "Some weights of VisionEncoderDecoderModel were not initialized from the model checkpoint at microsoft/trocr-base-printed and are newly initialized: ['encoder.pooler.dense.weight', 'encoder.pooler.dense.bias']\n",
      "You should probably TRAIN this model on a down-stream task to be able to use it for predictions and inference.\n",
      "Could not find image processor class in the image processor config or the model config. Loading based on pattern matching with the model's feature extractor configuration.\n"
     ]
    },
    {
     "name": "stdout",
     "output_type": "stream",
     "text": [
      "Arrival Record Inserted - OK\n",
      "[('cdd8ea26f7a60bde3a9de21f49de5daf', '8440 GZ', '2023-12-24 12:48:11.000000', '27_20231224T074811.jpg', '2023-12-29 22:45:08.596639')]\n"
     ]
    },
    {
     "name": "stderr",
     "output_type": "stream",
     "text": [
      "Some weights of VisionEncoderDecoderModel were not initialized from the model checkpoint at microsoft/trocr-base-printed and are newly initialized: ['encoder.pooler.dense.weight', 'encoder.pooler.dense.bias']\n",
      "You should probably TRAIN this model on a down-stream task to be able to use it for predictions and inference.\n"
     ]
    },
    {
     "name": "stdout",
     "output_type": "stream",
     "text": [
      "Arrival Record Inserted - OK\n",
      "[('c58735d35da3b32355b5a342ca00ae8f', 565481, '2023-12-27 15:49:53.000000', '9_20231227T104953.jpg', '2023-12-29 22:45:15.288557')]\n"
     ]
    }
   ],
   "source": [
    "# License plate images from new arrivals written to staging sub-folder\n",
    "new_arrivals = os.listdir(os.path.join(arrivals_path, 'staging'))\n",
    "# If there are new arrivals in the staging folder, add them to the database\n",
    "if len(new_arrivals) > 0:\n",
    "    # TO DO - add batch processing option for scalable backfilling\n",
    "    for arrival_image in new_arrivals:\n",
    "        # ignore non-JPG files\n",
    "        if arrival_image.endswith('.jpg'):\n",
    "            # Extract license plate number from image using PyTorch model\n",
    "            image_path = os.path.join(arrivals_path, 'staging', arrival_image)\n",
    "            license_plate_number = extract_license_plate_number(image_path)\n",
    "            # Get arrival timestamp - assumed equal to the last modified timestamp of the image file\n",
    "            arrival_ts_utc = datetime.strftime(datetime.fromtimestamp(os.path.getmtime(image_path), timezone.utc), '%Y-%m-%d %H:%M:%S.%f')\n",
    "            # Get timestamp the arrival record was created at (now)\n",
    "            arrival_created_at_utc = datetime.strftime(datetime.utcnow(), '%Y-%m-%d %H:%M:%S.%f')\n",
    "            # Create arrival record ID by hasing the combination of the license plate number and the arrival timestamp\n",
    "            arrival_record_id = hashlib.md5(f'{license_plate_number};{arrival_ts_utc}'.encode('utf-8')).hexdigest()\n",
    "\n",
    "            with sqlite3.connect(db_path) as db_conn:\n",
    "                # Write the record to the arrivals database\n",
    "                db_cur = db_conn.cursor()\n",
    "                res = db_cur.execute(\n",
    "                f\"\"\"\n",
    "                insert into arrivals (arrival_record_id, license_plate_number, arrival_ts_utc, arrival_comment, arrival_created_at_utc)\n",
    "                values('{arrival_record_id}', '{license_plate_number}', '{arrival_ts_utc}', '{arrival_image}', '{arrival_created_at_utc}')\n",
    "                \"\"\"\n",
    "                )\n",
    "                # Check whether write process was successful\n",
    "                res = db_cur.execute(f\"select * from arrivals where arrival_record_id = '{arrival_record_id}'\").fetchall()\n",
    "                if len(res) > 0:\n",
    "                    print('Arrival Record Inserted - OK')\n",
    "                    print(res)\n",
    "                    # If successful, move processed image from staging to production\n",
    "                    os.rename(\n",
    "                        os.path.join(arrivals_path, 'staging', arrival_image),\n",
    "                        os.path.join(arrivals_path, 'production', arrival_image)\n",
    "                    )\n",
    "                else:\n",
    "                    print('Arrival Record Inserted - FAIL')\n",
    "                    print(arrival_image)"
   ]
  },
  {
   "cell_type": "markdown",
   "id": "0fd5a6be-8058-4ba2-91e6-39efe0121199",
   "metadata": {},
   "source": [
    "# Departures"
   ]
  },
  {
   "cell_type": "code",
   "execution_count": 151,
   "id": "9d1c613c-d3e1-4b95-8c94-e9503804f8ed",
   "metadata": {},
   "outputs": [
    {
     "name": "stderr",
     "output_type": "stream",
     "text": [
      "Could not find image processor class in the image processor config or the model config. Loading based on pattern matching with the model's feature extractor configuration.\n",
      "Some weights of VisionEncoderDecoderModel were not initialized from the model checkpoint at microsoft/trocr-base-printed and are newly initialized: ['encoder.pooler.dense.weight', 'encoder.pooler.dense.bias']\n",
      "You should probably TRAIN this model on a down-stream task to be able to use it for predictions and inference.\n",
      "Could not find image processor class in the image processor config or the model config. Loading based on pattern matching with the model's feature extractor configuration.\n"
     ]
    },
    {
     "name": "stdout",
     "output_type": "stream",
     "text": [
      "Departure Record Inserted - OK\n",
      "[('3f1fec3e41554f23c46367cf82b9e3ec', 'RZ 0047', '2023-12-23 15:10:27.000000', '1_20231223T101027.jpg', '2023-12-29 22:45:22.175727')]\n"
     ]
    },
    {
     "name": "stderr",
     "output_type": "stream",
     "text": [
      "Some weights of VisionEncoderDecoderModel were not initialized from the model checkpoint at microsoft/trocr-base-printed and are newly initialized: ['encoder.pooler.dense.weight', 'encoder.pooler.dense.bias']\n",
      "You should probably TRAIN this model on a down-stream task to be able to use it for predictions and inference.\n"
     ]
    },
    {
     "name": "stdout",
     "output_type": "stream",
     "text": [
      "Departure Record Inserted - OK\n",
      "[('942f9cf713d766fabc1179c518b1ffcc', 'MY5459', '2023-12-26 16:15:33.000000', '18_20231226T111533.jpg', '2023-12-29 22:45:29.130276')]\n"
     ]
    },
    {
     "name": "stderr",
     "output_type": "stream",
     "text": [
      "Could not find image processor class in the image processor config or the model config. Loading based on pattern matching with the model's feature extractor configuration.\n",
      "Some weights of VisionEncoderDecoderModel were not initialized from the model checkpoint at microsoft/trocr-base-printed and are newly initialized: ['encoder.pooler.dense.weight', 'encoder.pooler.dense.bias']\n",
      "You should probably TRAIN this model on a down-stream task to be able to use it for predictions and inference.\n",
      "Could not find image processor class in the image processor config or the model config. Loading based on pattern matching with the model's feature extractor configuration.\n"
     ]
    },
    {
     "name": "stdout",
     "output_type": "stream",
     "text": [
      "Departure Record Inserted - OK\n",
      "[('cdd8ea26f7a60bde3a9de21f49de5daf', '8440 GZ', '2023-12-24 16:24:09.000000', '27_20231224T112409.jpg', '2023-12-29 22:45:36.623730')]\n"
     ]
    },
    {
     "name": "stderr",
     "output_type": "stream",
     "text": [
      "Some weights of VisionEncoderDecoderModel were not initialized from the model checkpoint at microsoft/trocr-base-printed and are newly initialized: ['encoder.pooler.dense.weight', 'encoder.pooler.dense.bias']\n",
      "You should probably TRAIN this model on a down-stream task to be able to use it for predictions and inference.\n",
      "Could not find image processor class in the image processor config or the model config. Loading based on pattern matching with the model's feature extractor configuration.\n"
     ]
    },
    {
     "name": "stdout",
     "output_type": "stream",
     "text": [
      "Departure Record Inserted - OK\n",
      "[('57c02a02ec7f4ce38103bf1cd7f0d861', 'FZ7861', '2023-12-26 14:09:07.000000', '24_20231226T090907.jpg', '2023-12-29 22:45:43.725921')]\n"
     ]
    },
    {
     "name": "stderr",
     "output_type": "stream",
     "text": [
      "Some weights of VisionEncoderDecoderModel were not initialized from the model checkpoint at microsoft/trocr-base-printed and are newly initialized: ['encoder.pooler.dense.weight', 'encoder.pooler.dense.bias']\n",
      "You should probably TRAIN this model on a down-stream task to be able to use it for predictions and inference.\n",
      "Could not find image processor class in the image processor config or the model config. Loading based on pattern matching with the model's feature extractor configuration.\n"
     ]
    },
    {
     "name": "stdout",
     "output_type": "stream",
     "text": [
      "Departure Record Inserted - OK\n",
      "[('e8a1f2181f8b53ba0631c589f2cb5416', 'L92594', '2023-12-24 11:46:05.000000', '23_20231224T064605.jpg', '2023-12-29 22:45:50.700000')]\n"
     ]
    },
    {
     "name": "stderr",
     "output_type": "stream",
     "text": [
      "Some weights of VisionEncoderDecoderModel were not initialized from the model checkpoint at microsoft/trocr-base-printed and are newly initialized: ['encoder.pooler.dense.weight', 'encoder.pooler.dense.bias']\n",
      "You should probably TRAIN this model on a down-stream task to be able to use it for predictions and inference.\n",
      "Could not find image processor class in the image processor config or the model config. Loading based on pattern matching with the model's feature extractor configuration.\n"
     ]
    },
    {
     "name": "stdout",
     "output_type": "stream",
     "text": [
      "Departure Record Inserted - OK\n",
      "[('c54753d6df17a4739fffa9a49228905c', 'SR', '2023-12-27 07:41:32.000000', '8_20231227T024132.jpg', '2023-12-29 22:45:57.318826')]\n"
     ]
    },
    {
     "name": "stderr",
     "output_type": "stream",
     "text": [
      "Some weights of VisionEncoderDecoderModel were not initialized from the model checkpoint at microsoft/trocr-base-printed and are newly initialized: ['encoder.pooler.dense.weight', 'encoder.pooler.dense.bias']\n",
      "You should probably TRAIN this model on a down-stream task to be able to use it for predictions and inference.\n",
      "Could not find image processor class in the image processor config or the model config. Loading based on pattern matching with the model's feature extractor configuration.\n"
     ]
    },
    {
     "name": "stdout",
     "output_type": "stream",
     "text": [
      "Departure Record Inserted - OK\n",
      "[('77efffe0fc4c1edb7511b8992dc0547d', '867ZJA', '2023-12-28 06:59:00.000000', '25_20231228T015900.jpg', '2023-12-29 22:46:04.349960')]\n"
     ]
    },
    {
     "name": "stderr",
     "output_type": "stream",
     "text": [
      "Some weights of VisionEncoderDecoderModel were not initialized from the model checkpoint at microsoft/trocr-base-printed and are newly initialized: ['encoder.pooler.dense.weight', 'encoder.pooler.dense.bias']\n",
      "You should probably TRAIN this model on a down-stream task to be able to use it for predictions and inference.\n",
      "Could not find image processor class in the image processor config or the model config. Loading based on pattern matching with the model's feature extractor configuration.\n"
     ]
    },
    {
     "name": "stdout",
     "output_type": "stream",
     "text": [
      "Departure Record Inserted - OK\n",
      "[('4ac7fb987d907f344589c50063cd0320', 'NR 7965', '2023-12-25 07:17:15.000000', '5_20231225T021715.jpg', '2023-12-29 22:46:11.238541')]\n"
     ]
    },
    {
     "name": "stderr",
     "output_type": "stream",
     "text": [
      "Some weights of VisionEncoderDecoderModel were not initialized from the model checkpoint at microsoft/trocr-base-printed and are newly initialized: ['encoder.pooler.dense.weight', 'encoder.pooler.dense.bias']\n",
      "You should probably TRAIN this model on a down-stream task to be able to use it for predictions and inference.\n",
      "Could not find image processor class in the image processor config or the model config. Loading based on pattern matching with the model's feature extractor configuration.\n"
     ]
    },
    {
     "name": "stdout",
     "output_type": "stream",
     "text": [
      "Departure Record Inserted - OK\n",
      "[('2e55a75d119ffcc7ea0b4dff227c926f', 'L92594', '2023-12-28 19:29:00.000000', '23_20231228T142900.jpg', '2023-12-29 22:46:18.297631')]\n"
     ]
    },
    {
     "name": "stderr",
     "output_type": "stream",
     "text": [
      "Some weights of VisionEncoderDecoderModel were not initialized from the model checkpoint at microsoft/trocr-base-printed and are newly initialized: ['encoder.pooler.dense.weight', 'encoder.pooler.dense.bias']\n",
      "You should probably TRAIN this model on a down-stream task to be able to use it for predictions and inference.\n",
      "Could not find image processor class in the image processor config or the model config. Loading based on pattern matching with the model's feature extractor configuration.\n"
     ]
    },
    {
     "name": "stdout",
     "output_type": "stream",
     "text": [
      "Departure Record Inserted - OK\n",
      "[('33637826c72b742bc6f42fd9fe620573', '1920ML', '2023-12-23 17:36:48.000000', '71_20231223T123648.jpg', '2023-12-29 22:46:25.266581')]\n"
     ]
    },
    {
     "name": "stderr",
     "output_type": "stream",
     "text": [
      "Some weights of VisionEncoderDecoderModel were not initialized from the model checkpoint at microsoft/trocr-base-printed and are newly initialized: ['encoder.pooler.dense.weight', 'encoder.pooler.dense.bias']\n",
      "You should probably TRAIN this model on a down-stream task to be able to use it for predictions and inference.\n",
      "Could not find image processor class in the image processor config or the model config. Loading based on pattern matching with the model's feature extractor configuration.\n"
     ]
    },
    {
     "name": "stdout",
     "output_type": "stream",
     "text": [
      "Departure Record Inserted - OK\n",
      "[('1c54db427817a8b95fb8bb42ef267ace', '9425-AD', '2023-12-26 17:33:14.000000', '80_20231226T123314.jpg', '2023-12-29 22:46:32.340332')]\n"
     ]
    },
    {
     "name": "stderr",
     "output_type": "stream",
     "text": [
      "Some weights of VisionEncoderDecoderModel were not initialized from the model checkpoint at microsoft/trocr-base-printed and are newly initialized: ['encoder.pooler.dense.weight', 'encoder.pooler.dense.bias']\n",
      "You should probably TRAIN this model on a down-stream task to be able to use it for predictions and inference.\n",
      "Could not find image processor class in the image processor config or the model config. Loading based on pattern matching with the model's feature extractor configuration.\n"
     ]
    },
    {
     "name": "stdout",
     "output_type": "stream",
     "text": [
      "Departure Record Inserted - OK\n",
      "[('7b4c4bbadfc7149897387635ba1255f2', '7842KD', '2023-12-23 02:47:22.000000', '33_20231222T214722.jpg', '2023-12-29 22:46:39.438177')]\n"
     ]
    },
    {
     "name": "stderr",
     "output_type": "stream",
     "text": [
      "Some weights of VisionEncoderDecoderModel were not initialized from the model checkpoint at microsoft/trocr-base-printed and are newly initialized: ['encoder.pooler.dense.weight', 'encoder.pooler.dense.bias']\n",
      "You should probably TRAIN this model on a down-stream task to be able to use it for predictions and inference.\n",
      "Could not find image processor class in the image processor config or the model config. Loading based on pattern matching with the model's feature extractor configuration.\n"
     ]
    },
    {
     "name": "stdout",
     "output_type": "stream",
     "text": [
      "Departure Record Inserted - OK\n",
      "[('414f2a5b344b31bf6c079ad421f26084', '8440 GZ', '2023-12-23 02:02:45.000000', '27_20231222T210245.jpg', '2023-12-29 22:46:46.373224')]\n"
     ]
    },
    {
     "name": "stderr",
     "output_type": "stream",
     "text": [
      "Some weights of VisionEncoderDecoderModel were not initialized from the model checkpoint at microsoft/trocr-base-printed and are newly initialized: ['encoder.pooler.dense.weight', 'encoder.pooler.dense.bias']\n",
      "You should probably TRAIN this model on a down-stream task to be able to use it for predictions and inference.\n",
      "Could not find image processor class in the image processor config or the model config. Loading based on pattern matching with the model's feature extractor configuration.\n"
     ]
    },
    {
     "name": "stdout",
     "output_type": "stream",
     "text": [
      "Departure Record Inserted - OK\n",
      "[('f6abbefe84a09e05a3b35869db80347f', 'L92594', '2023-12-26 07:46:45.000000', '23_20231226T024645.jpg', '2023-12-29 22:46:53.319670')]\n"
     ]
    },
    {
     "name": "stderr",
     "output_type": "stream",
     "text": [
      "Some weights of VisionEncoderDecoderModel were not initialized from the model checkpoint at microsoft/trocr-base-printed and are newly initialized: ['encoder.pooler.dense.weight', 'encoder.pooler.dense.bias']\n",
      "You should probably TRAIN this model on a down-stream task to be able to use it for predictions and inference.\n",
      "Could not find image processor class in the image processor config or the model config. Loading based on pattern matching with the model's feature extractor configuration.\n"
     ]
    },
    {
     "name": "stdout",
     "output_type": "stream",
     "text": [
      "Departure Record Inserted - OK\n",
      "[('01a809c546ed033810f88a4d6bc12da0', '7842KD', '2023-12-28 00:27:06.000000', '33_20231227T192706.jpg', '2023-12-29 22:47:00.292192')]\n"
     ]
    },
    {
     "name": "stderr",
     "output_type": "stream",
     "text": [
      "Some weights of VisionEncoderDecoderModel were not initialized from the model checkpoint at microsoft/trocr-base-printed and are newly initialized: ['encoder.pooler.dense.weight', 'encoder.pooler.dense.bias']\n",
      "You should probably TRAIN this model on a down-stream task to be able to use it for predictions and inference.\n",
      "Could not find image processor class in the image processor config or the model config. Loading based on pattern matching with the model's feature extractor configuration.\n"
     ]
    },
    {
     "name": "stdout",
     "output_type": "stream",
     "text": [
      "Departure Record Inserted - OK\n",
      "[('af0c4d9d23647c4dc5645c54955f8d01', 50590, '2023-12-27 23:27:52.000000', '13_20231227T182752.jpg', '2023-12-29 22:47:06.974438')]\n"
     ]
    },
    {
     "name": "stderr",
     "output_type": "stream",
     "text": [
      "Some weights of VisionEncoderDecoderModel were not initialized from the model checkpoint at microsoft/trocr-base-printed and are newly initialized: ['encoder.pooler.dense.weight', 'encoder.pooler.dense.bias']\n",
      "You should probably TRAIN this model on a down-stream task to be able to use it for predictions and inference.\n",
      "Could not find image processor class in the image processor config or the model config. Loading based on pattern matching with the model's feature extractor configuration.\n"
     ]
    },
    {
     "name": "stdout",
     "output_type": "stream",
     "text": [
      "Departure Record Inserted - OK\n",
      "[('c58735d35da3b32355b5a342ca00ae8f', 565481, '2023-12-27 19:59:28.000000', '9_20231227T145928.jpg', '2023-12-29 22:47:13.784335')]\n"
     ]
    },
    {
     "name": "stderr",
     "output_type": "stream",
     "text": [
      "Some weights of VisionEncoderDecoderModel were not initialized from the model checkpoint at microsoft/trocr-base-printed and are newly initialized: ['encoder.pooler.dense.weight', 'encoder.pooler.dense.bias']\n",
      "You should probably TRAIN this model on a down-stream task to be able to use it for predictions and inference.\n",
      "Could not find image processor class in the image processor config or the model config. Loading based on pattern matching with the model's feature extractor configuration.\n"
     ]
    },
    {
     "name": "stdout",
     "output_type": "stream",
     "text": [
      "Departure Record Inserted - OK\n",
      "[('cc5c9dae1adad09f93c31844d543421a', 'NEWS', '2023-12-23 22:17:27.000000', '84_20231223T171727.jpg', '2023-12-29 22:47:20.412109')]\n"
     ]
    },
    {
     "name": "stderr",
     "output_type": "stream",
     "text": [
      "Some weights of VisionEncoderDecoderModel were not initialized from the model checkpoint at microsoft/trocr-base-printed and are newly initialized: ['encoder.pooler.dense.weight', 'encoder.pooler.dense.bias']\n",
      "You should probably TRAIN this model on a down-stream task to be able to use it for predictions and inference.\n",
      "Could not find image processor class in the image processor config or the model config. Loading based on pattern matching with the model's feature extractor configuration.\n"
     ]
    },
    {
     "name": "stdout",
     "output_type": "stream",
     "text": [
      "Departure Record Inserted - OK\n",
      "[('5efd4a5f3c10134fdd4ea8a2b5873b60', 0.77, '2023-12-25 20:45:50.000000', '75_20231225T154550.jpg', '2023-12-29 22:47:27.105940')]\n"
     ]
    },
    {
     "name": "stderr",
     "output_type": "stream",
     "text": [
      "Some weights of VisionEncoderDecoderModel were not initialized from the model checkpoint at microsoft/trocr-base-printed and are newly initialized: ['encoder.pooler.dense.weight', 'encoder.pooler.dense.bias']\n",
      "You should probably TRAIN this model on a down-stream task to be able to use it for predictions and inference.\n",
      "Could not find image processor class in the image processor config or the model config. Loading based on pattern matching with the model's feature extractor configuration.\n"
     ]
    },
    {
     "name": "stdout",
     "output_type": "stream",
     "text": [
      "Departure Record Inserted - OK\n",
      "[('e2927f4ac4f05971f7e8f5d8090a339d', 'A8 1904', '2023-12-29 00:42:01.000000', '70_20231228T194201.jpg', '2023-12-29 22:47:33.984204')]\n"
     ]
    },
    {
     "name": "stderr",
     "output_type": "stream",
     "text": [
      "Some weights of VisionEncoderDecoderModel were not initialized from the model checkpoint at microsoft/trocr-base-printed and are newly initialized: ['encoder.pooler.dense.weight', 'encoder.pooler.dense.bias']\n",
      "You should probably TRAIN this model on a down-stream task to be able to use it for predictions and inference.\n",
      "Could not find image processor class in the image processor config or the model config. Loading based on pattern matching with the model's feature extractor configuration.\n"
     ]
    },
    {
     "name": "stdout",
     "output_type": "stream",
     "text": [
      "Departure Record Inserted - OK\n",
      "[('a7bd28a03d65a03b1f4744b58c006185', 'DISCOUNT', '2023-12-27 05:26:31.000000', '12_20231227T002631.jpg', '2023-12-29 22:47:40.887756')]\n"
     ]
    },
    {
     "name": "stderr",
     "output_type": "stream",
     "text": [
      "Some weights of VisionEncoderDecoderModel were not initialized from the model checkpoint at microsoft/trocr-base-printed and are newly initialized: ['encoder.pooler.dense.weight', 'encoder.pooler.dense.bias']\n",
      "You should probably TRAIN this model on a down-stream task to be able to use it for predictions and inference.\n",
      "Could not find image processor class in the image processor config or the model config. Loading based on pattern matching with the model's feature extractor configuration.\n"
     ]
    },
    {
     "name": "stdout",
     "output_type": "stream",
     "text": [
      "Departure Record Inserted - OK\n",
      "[('83a1ea58f4c5c82123c72f5f9ec3d6a5', 928, '2023-12-23 09:36:33.000000', '76_20231223T043633.jpg', '2023-12-29 22:47:47.764924')]\n"
     ]
    },
    {
     "name": "stderr",
     "output_type": "stream",
     "text": [
      "Some weights of VisionEncoderDecoderModel were not initialized from the model checkpoint at microsoft/trocr-base-printed and are newly initialized: ['encoder.pooler.dense.weight', 'encoder.pooler.dense.bias']\n",
      "You should probably TRAIN this model on a down-stream task to be able to use it for predictions and inference.\n",
      "Could not find image processor class in the image processor config or the model config. Loading based on pattern matching with the model's feature extractor configuration.\n"
     ]
    },
    {
     "name": "stdout",
     "output_type": "stream",
     "text": [
      "Departure Record Inserted - OK\n",
      "[('6e45a4572835b7ec4199d05d90d62063', '1920ML', '2023-12-27 01:09:42.000000', '71_20231226T200942.jpg', '2023-12-29 22:47:54.636828')]\n"
     ]
    },
    {
     "name": "stderr",
     "output_type": "stream",
     "text": [
      "Some weights of VisionEncoderDecoderModel were not initialized from the model checkpoint at microsoft/trocr-base-printed and are newly initialized: ['encoder.pooler.dense.weight', 'encoder.pooler.dense.bias']\n",
      "You should probably TRAIN this model on a down-stream task to be able to use it for predictions and inference.\n",
      "Could not find image processor class in the image processor config or the model config. Loading based on pattern matching with the model's feature extractor configuration.\n"
     ]
    },
    {
     "name": "stdout",
     "output_type": "stream",
     "text": [
      "Departure Record Inserted - OK\n",
      "[('fb7ae134f171158df4540bc410b1ff22', 'YS 4710', '2023-12-24 00:09:33.000000', '40_20231223T190933.jpg', '2023-12-29 22:48:01.578761')]\n"
     ]
    },
    {
     "name": "stderr",
     "output_type": "stream",
     "text": [
      "Some weights of VisionEncoderDecoderModel were not initialized from the model checkpoint at microsoft/trocr-base-printed and are newly initialized: ['encoder.pooler.dense.weight', 'encoder.pooler.dense.bias']\n",
      "You should probably TRAIN this model on a down-stream task to be able to use it for predictions and inference.\n",
      "Could not find image processor class in the image processor config or the model config. Loading based on pattern matching with the model's feature extractor configuration.\n"
     ]
    },
    {
     "name": "stdout",
     "output_type": "stream",
     "text": [
      "Departure Record Inserted - OK\n",
      "[('d94e9e8f6fcd23d21b7aa69488d7c61e', '7/80 ON', '2023-12-29 05:41:21.000000', '68_20231229T004121.jpg', '2023-12-29 22:48:08.636531')]\n"
     ]
    },
    {
     "name": "stderr",
     "output_type": "stream",
     "text": [
      "Some weights of VisionEncoderDecoderModel were not initialized from the model checkpoint at microsoft/trocr-base-printed and are newly initialized: ['encoder.pooler.dense.weight', 'encoder.pooler.dense.bias']\n",
      "You should probably TRAIN this model on a down-stream task to be able to use it for predictions and inference.\n",
      "Could not find image processor class in the image processor config or the model config. Loading based on pattern matching with the model's feature extractor configuration.\n"
     ]
    },
    {
     "name": "stdout",
     "output_type": "stream",
     "text": [
      "Departure Record Inserted - OK\n",
      "[('a2f6d6094e6f024b291705e471934116', 'Y57727', '2023-12-24 17:50:52.000000', '46_20231224T125052.jpg', '2023-12-29 22:48:15.494893')]\n"
     ]
    },
    {
     "name": "stderr",
     "output_type": "stream",
     "text": [
      "Some weights of VisionEncoderDecoderModel were not initialized from the model checkpoint at microsoft/trocr-base-printed and are newly initialized: ['encoder.pooler.dense.weight', 'encoder.pooler.dense.bias']\n",
      "You should probably TRAIN this model on a down-stream task to be able to use it for predictions and inference.\n",
      "Could not find image processor class in the image processor config or the model config. Loading based on pattern matching with the model's feature extractor configuration.\n"
     ]
    },
    {
     "name": "stdout",
     "output_type": "stream",
     "text": [
      "Departure Record Inserted - OK\n",
      "[('04e0541ed7efe5c36489de8e40804992', '4214MP', '2023-12-25 09:42:49.000000', '50_20231225T044249.jpg', '2023-12-29 22:48:22.350974')]\n"
     ]
    },
    {
     "name": "stderr",
     "output_type": "stream",
     "text": [
      "Some weights of VisionEncoderDecoderModel were not initialized from the model checkpoint at microsoft/trocr-base-printed and are newly initialized: ['encoder.pooler.dense.weight', 'encoder.pooler.dense.bias']\n",
      "You should probably TRAIN this model on a down-stream task to be able to use it for predictions and inference.\n",
      "Could not find image processor class in the image processor config or the model config. Loading based on pattern matching with the model's feature extractor configuration.\n"
     ]
    },
    {
     "name": "stdout",
     "output_type": "stream",
     "text": [
      "Departure Record Inserted - OK\n",
      "[('47773807bb7274520caaedea5bf4ccd9', '7.50HQ', '2023-12-24 20:36:34.000000', '79_20231224T153634.jpg', '2023-12-29 22:48:29.393955')]\n"
     ]
    },
    {
     "name": "stderr",
     "output_type": "stream",
     "text": [
      "Some weights of VisionEncoderDecoderModel were not initialized from the model checkpoint at microsoft/trocr-base-printed and are newly initialized: ['encoder.pooler.dense.weight', 'encoder.pooler.dense.bias']\n",
      "You should probably TRAIN this model on a down-stream task to be able to use it for predictions and inference.\n",
      "Could not find image processor class in the image processor config or the model config. Loading based on pattern matching with the model's feature extractor configuration.\n"
     ]
    },
    {
     "name": "stdout",
     "output_type": "stream",
     "text": [
      "Departure Record Inserted - OK\n",
      "[('1a17796f2ee239585649d6b402be63cd', 'BELES', '2023-12-25 05:39:36.000000', '19_20231225T003936.jpg', '2023-12-29 22:48:36.268649')]\n"
     ]
    },
    {
     "name": "stderr",
     "output_type": "stream",
     "text": [
      "Some weights of VisionEncoderDecoderModel were not initialized from the model checkpoint at microsoft/trocr-base-printed and are newly initialized: ['encoder.pooler.dense.weight', 'encoder.pooler.dense.bias']\n",
      "You should probably TRAIN this model on a down-stream task to be able to use it for predictions and inference.\n",
      "Could not find image processor class in the image processor config or the model config. Loading based on pattern matching with the model's feature extractor configuration.\n"
     ]
    },
    {
     "name": "stdout",
     "output_type": "stream",
     "text": [
      "Departure Record Inserted - OK\n",
      "[('d53c3f0e45c81f82c1908659d2c5c8d2', 'NEWS', '2023-12-26 18:15:05.000000', '84_20231226T131505.jpg', '2023-12-29 22:48:42.874007')]\n"
     ]
    },
    {
     "name": "stderr",
     "output_type": "stream",
     "text": [
      "Some weights of VisionEncoderDecoderModel were not initialized from the model checkpoint at microsoft/trocr-base-printed and are newly initialized: ['encoder.pooler.dense.weight', 'encoder.pooler.dense.bias']\n",
      "You should probably TRAIN this model on a down-stream task to be able to use it for predictions and inference.\n",
      "Could not find image processor class in the image processor config or the model config. Loading based on pattern matching with the model's feature extractor configuration.\n"
     ]
    },
    {
     "name": "stdout",
     "output_type": "stream",
     "text": [
      "Departure Record Inserted - OK\n",
      "[('255397723c32f980b0bab8c65ff45df2', '7842KD', '2023-12-24 05:02:45.000000', '33_20231224T000245.jpg', '2023-12-29 22:48:49.804133')]\n"
     ]
    },
    {
     "name": "stderr",
     "output_type": "stream",
     "text": [
      "Some weights of VisionEncoderDecoderModel were not initialized from the model checkpoint at microsoft/trocr-base-printed and are newly initialized: ['encoder.pooler.dense.weight', 'encoder.pooler.dense.bias']\n",
      "You should probably TRAIN this model on a down-stream task to be able to use it for predictions and inference.\n",
      "Could not find image processor class in the image processor config or the model config. Loading based on pattern matching with the model's feature extractor configuration.\n"
     ]
    },
    {
     "name": "stdout",
     "output_type": "stream",
     "text": [
      "Departure Record Inserted - OK\n",
      "[('6154532a8f4765e4aced4a4a73ba2344', 'PJ867A', '2023-12-24 20:53:53.000000', '38_20231224T155353.jpg', '2023-12-29 22:48:56.934573')]\n"
     ]
    },
    {
     "name": "stderr",
     "output_type": "stream",
     "text": [
      "Some weights of VisionEncoderDecoderModel were not initialized from the model checkpoint at microsoft/trocr-base-printed and are newly initialized: ['encoder.pooler.dense.weight', 'encoder.pooler.dense.bias']\n",
      "You should probably TRAIN this model on a down-stream task to be able to use it for predictions and inference.\n",
      "Could not find image processor class in the image processor config or the model config. Loading based on pattern matching with the model's feature extractor configuration.\n"
     ]
    },
    {
     "name": "stdout",
     "output_type": "stream",
     "text": [
      "Departure Record Inserted - OK\n",
      "[('95d43d11d0e2a782daf4417ee04b3c2e', 'RZ 0047', '2023-12-22 09:30:42.000000', '1_20231222T043042.jpg', '2023-12-29 22:49:03.907595')]\n"
     ]
    },
    {
     "name": "stderr",
     "output_type": "stream",
     "text": [
      "Some weights of VisionEncoderDecoderModel were not initialized from the model checkpoint at microsoft/trocr-base-printed and are newly initialized: ['encoder.pooler.dense.weight', 'encoder.pooler.dense.bias']\n",
      "You should probably TRAIN this model on a down-stream task to be able to use it for predictions and inference.\n",
      "Could not find image processor class in the image processor config or the model config. Loading based on pattern matching with the model's feature extractor configuration.\n"
     ]
    },
    {
     "name": "stdout",
     "output_type": "stream",
     "text": [
      "Departure Record Inserted - OK\n",
      "[('a4b3cf0d30c0f1f6a09e0f805cc60df7', 'MY5459', '2023-12-29 02:33:56.000000', '18_20231228T213356.jpg', '2023-12-29 22:49:10.795479')]\n"
     ]
    },
    {
     "name": "stderr",
     "output_type": "stream",
     "text": [
      "Some weights of VisionEncoderDecoderModel were not initialized from the model checkpoint at microsoft/trocr-base-printed and are newly initialized: ['encoder.pooler.dense.weight', 'encoder.pooler.dense.bias']\n",
      "You should probably TRAIN this model on a down-stream task to be able to use it for predictions and inference.\n",
      "Could not find image processor class in the image processor config or the model config. Loading based on pattern matching with the model's feature extractor configuration.\n"
     ]
    },
    {
     "name": "stdout",
     "output_type": "stream",
     "text": [
      "Departure Record Inserted - OK\n",
      "[('bcac95279ec903ecf9384dbad0f17c83', 'U2 8367', '2023-12-22 12:20:57.000000', '83_20231222T072057.jpg', '2023-12-29 22:49:17.811343')]\n"
     ]
    },
    {
     "name": "stderr",
     "output_type": "stream",
     "text": [
      "Some weights of VisionEncoderDecoderModel were not initialized from the model checkpoint at microsoft/trocr-base-printed and are newly initialized: ['encoder.pooler.dense.weight', 'encoder.pooler.dense.bias']\n",
      "You should probably TRAIN this model on a down-stream task to be able to use it for predictions and inference.\n",
      "Could not find image processor class in the image processor config or the model config. Loading based on pattern matching with the model's feature extractor configuration.\n"
     ]
    },
    {
     "name": "stdout",
     "output_type": "stream",
     "text": [
      "Departure Record Inserted - OK\n",
      "[('e6383e68d7f40ea112f18395cbc12c20', 'Y57727', '2023-12-22 13:20:18.000000', '46_20231222T082018.jpg', '2023-12-29 22:49:24.705102')]\n"
     ]
    },
    {
     "name": "stderr",
     "output_type": "stream",
     "text": [
      "Some weights of VisionEncoderDecoderModel were not initialized from the model checkpoint at microsoft/trocr-base-printed and are newly initialized: ['encoder.pooler.dense.weight', 'encoder.pooler.dense.bias']\n",
      "You should probably TRAIN this model on a down-stream task to be able to use it for predictions and inference.\n",
      "Could not find image processor class in the image processor config or the model config. Loading based on pattern matching with the model's feature extractor configuration.\n"
     ]
    },
    {
     "name": "stdout",
     "output_type": "stream",
     "text": [
      "Departure Record Inserted - OK\n",
      "[('cb3bde2c9bdeaf0050c4dd99ead9341b', 'U2 8367', '2023-12-27 09:18:19.000000', '83_20231227T041819.jpg', '2023-12-29 22:49:31.691820')]\n"
     ]
    },
    {
     "name": "stderr",
     "output_type": "stream",
     "text": [
      "Some weights of VisionEncoderDecoderModel were not initialized from the model checkpoint at microsoft/trocr-base-printed and are newly initialized: ['encoder.pooler.dense.weight', 'encoder.pooler.dense.bias']\n",
      "You should probably TRAIN this model on a down-stream task to be able to use it for predictions and inference.\n",
      "Could not find image processor class in the image processor config or the model config. Loading based on pattern matching with the model's feature extractor configuration.\n"
     ]
    },
    {
     "name": "stdout",
     "output_type": "stream",
     "text": [
      "Departure Record Inserted - OK\n",
      "[('606d4f438cbf4e0dd4e9aee28e27244d', '6519FL', '2023-12-28 14:32:08.000000', '30_20231228T093208.jpg', '2023-12-29 22:49:38.461395')]\n"
     ]
    },
    {
     "name": "stderr",
     "output_type": "stream",
     "text": [
      "Some weights of VisionEncoderDecoderModel were not initialized from the model checkpoint at microsoft/trocr-base-printed and are newly initialized: ['encoder.pooler.dense.weight', 'encoder.pooler.dense.bias']\n",
      "You should probably TRAIN this model on a down-stream task to be able to use it for predictions and inference.\n",
      "Could not find image processor class in the image processor config or the model config. Loading based on pattern matching with the model's feature extractor configuration.\n"
     ]
    },
    {
     "name": "stdout",
     "output_type": "stream",
     "text": [
      "Departure Record Inserted - OK\n",
      "[('a30f1300b70c411cbf7c4a44665a738a', 'DISIGN', '2023-12-23 21:40:27.000000', '2_20231223T164027.jpg', '2023-12-29 22:49:45.238933')]\n"
     ]
    },
    {
     "name": "stderr",
     "output_type": "stream",
     "text": [
      "Some weights of VisionEncoderDecoderModel were not initialized from the model checkpoint at microsoft/trocr-base-printed and are newly initialized: ['encoder.pooler.dense.weight', 'encoder.pooler.dense.bias']\n",
      "You should probably TRAIN this model on a down-stream task to be able to use it for predictions and inference.\n",
      "Could not find image processor class in the image processor config or the model config. Loading based on pattern matching with the model's feature extractor configuration.\n"
     ]
    },
    {
     "name": "stdout",
     "output_type": "stream",
     "text": [
      "Departure Record Inserted - OK\n",
      "[('6332ea3d906acf67598b70a7a138c05f', '9125SM', '2023-12-22 21:26:45.000000', '63_20231222T162645.jpg', '2023-12-29 22:49:52.202388')]\n"
     ]
    },
    {
     "name": "stderr",
     "output_type": "stream",
     "text": [
      "Some weights of VisionEncoderDecoderModel were not initialized from the model checkpoint at microsoft/trocr-base-printed and are newly initialized: ['encoder.pooler.dense.weight', 'encoder.pooler.dense.bias']\n",
      "You should probably TRAIN this model on a down-stream task to be able to use it for predictions and inference.\n",
      "Could not find image processor class in the image processor config or the model config. Loading based on pattern matching with the model's feature extractor configuration.\n"
     ]
    },
    {
     "name": "stdout",
     "output_type": "stream",
     "text": [
      "Departure Record Inserted - OK\n",
      "[('2d064d3e2dfd11c9b3df97eff349e65e', 'BELES', '2023-12-23 08:20:11.000000', '19_20231223T032011.jpg', '2023-12-29 22:49:59.049198')]\n"
     ]
    },
    {
     "name": "stderr",
     "output_type": "stream",
     "text": [
      "Some weights of VisionEncoderDecoderModel were not initialized from the model checkpoint at microsoft/trocr-base-printed and are newly initialized: ['encoder.pooler.dense.weight', 'encoder.pooler.dense.bias']\n",
      "You should probably TRAIN this model on a down-stream task to be able to use it for predictions and inference.\n",
      "Could not find image processor class in the image processor config or the model config. Loading based on pattern matching with the model's feature extractor configuration.\n"
     ]
    },
    {
     "name": "stdout",
     "output_type": "stream",
     "text": [
      "Departure Record Inserted - OK\n",
      "[('cfef844957a4c6b48b171a30d71396ca', 'FZ7861', '2023-12-27 16:15:56.000000', '24_20231227T111556.jpg', '2023-12-29 22:50:06.001824')]\n"
     ]
    },
    {
     "name": "stderr",
     "output_type": "stream",
     "text": [
      "Some weights of VisionEncoderDecoderModel were not initialized from the model checkpoint at microsoft/trocr-base-printed and are newly initialized: ['encoder.pooler.dense.weight', 'encoder.pooler.dense.bias']\n",
      "You should probably TRAIN this model on a down-stream task to be able to use it for predictions and inference.\n",
      "Could not find image processor class in the image processor config or the model config. Loading based on pattern matching with the model's feature extractor configuration.\n"
     ]
    },
    {
     "name": "stdout",
     "output_type": "stream",
     "text": [
      "Departure Record Inserted - OK\n",
      "[('ff0944583d9f51ea9aad28e7559d59ac', 'T85625', '2023-12-28 02:32:15.000000', '61_20231227T213215.jpg', '2023-12-29 22:50:12.941004')]\n"
     ]
    },
    {
     "name": "stderr",
     "output_type": "stream",
     "text": [
      "Some weights of VisionEncoderDecoderModel were not initialized from the model checkpoint at microsoft/trocr-base-printed and are newly initialized: ['encoder.pooler.dense.weight', 'encoder.pooler.dense.bias']\n",
      "You should probably TRAIN this model on a down-stream task to be able to use it for predictions and inference.\n",
      "Could not find image processor class in the image processor config or the model config. Loading based on pattern matching with the model's feature extractor configuration.\n"
     ]
    },
    {
     "name": "stdout",
     "output_type": "stream",
     "text": [
      "Departure Record Inserted - OK\n",
      "[('59ce02fa6c6c29f11b67584f38c20e0f', '867ZJA', '2023-12-23 18:46:21.000000', '25_20231223T134621.jpg', '2023-12-29 22:50:19.917741')]\n"
     ]
    },
    {
     "name": "stderr",
     "output_type": "stream",
     "text": [
      "Some weights of VisionEncoderDecoderModel were not initialized from the model checkpoint at microsoft/trocr-base-printed and are newly initialized: ['encoder.pooler.dense.weight', 'encoder.pooler.dense.bias']\n",
      "You should probably TRAIN this model on a down-stream task to be able to use it for predictions and inference.\n",
      "Could not find image processor class in the image processor config or the model config. Loading based on pattern matching with the model's feature extractor configuration.\n"
     ]
    },
    {
     "name": "stdout",
     "output_type": "stream",
     "text": [
      "Departure Record Inserted - OK\n",
      "[('a809e6b70563ff0cc3260e61b49092e8', '5214MG', '2023-12-28 21:59:42.000000', '34_20231228T165942.jpg', '2023-12-29 22:50:26.780270')]\n"
     ]
    },
    {
     "name": "stderr",
     "output_type": "stream",
     "text": [
      "Some weights of VisionEncoderDecoderModel were not initialized from the model checkpoint at microsoft/trocr-base-printed and are newly initialized: ['encoder.pooler.dense.weight', 'encoder.pooler.dense.bias']\n",
      "You should probably TRAIN this model on a down-stream task to be able to use it for predictions and inference.\n",
      "Could not find image processor class in the image processor config or the model config. Loading based on pattern matching with the model's feature extractor configuration.\n"
     ]
    },
    {
     "name": "stdout",
     "output_type": "stream",
     "text": [
      "Departure Record Inserted - OK\n",
      "[('d3074f093033e31cb7cff04ec5db28ee', '867ZJA', '2023-12-22 18:06:01.000000', '25_20231222T130601.jpg', '2023-12-29 22:50:33.909837')]\n"
     ]
    },
    {
     "name": "stderr",
     "output_type": "stream",
     "text": [
      "Some weights of VisionEncoderDecoderModel were not initialized from the model checkpoint at microsoft/trocr-base-printed and are newly initialized: ['encoder.pooler.dense.weight', 'encoder.pooler.dense.bias']\n",
      "You should probably TRAIN this model on a down-stream task to be able to use it for predictions and inference.\n",
      "Could not find image processor class in the image processor config or the model config. Loading based on pattern matching with the model's feature extractor configuration.\n"
     ]
    },
    {
     "name": "stdout",
     "output_type": "stream",
     "text": [
      "Departure Record Inserted - OK\n",
      "[('6073912f73fe3016122c758a91f414f6', 'L92594', '2023-12-23 03:42:31.000000', '23_20231222T224231.jpg', '2023-12-29 22:50:40.933765')]\n"
     ]
    },
    {
     "name": "stderr",
     "output_type": "stream",
     "text": [
      "Some weights of VisionEncoderDecoderModel were not initialized from the model checkpoint at microsoft/trocr-base-printed and are newly initialized: ['encoder.pooler.dense.weight', 'encoder.pooler.dense.bias']\n",
      "You should probably TRAIN this model on a down-stream task to be able to use it for predictions and inference.\n",
      "Could not find image processor class in the image processor config or the model config. Loading based on pattern matching with the model's feature extractor configuration.\n"
     ]
    },
    {
     "name": "stdout",
     "output_type": "stream",
     "text": [
      "Departure Record Inserted - OK\n",
      "[('b243fc75efee5494aa3640f900621639', 'RT:7178', '2023-12-27 01:47:12.000000', '28_20231226T204712.jpg', '2023-12-29 22:50:47.896287')]\n"
     ]
    },
    {
     "name": "stderr",
     "output_type": "stream",
     "text": [
      "Some weights of VisionEncoderDecoderModel were not initialized from the model checkpoint at microsoft/trocr-base-printed and are newly initialized: ['encoder.pooler.dense.weight', 'encoder.pooler.dense.bias']\n",
      "You should probably TRAIN this model on a down-stream task to be able to use it for predictions and inference.\n",
      "Could not find image processor class in the image processor config or the model config. Loading based on pattern matching with the model's feature extractor configuration.\n"
     ]
    },
    {
     "name": "stdout",
     "output_type": "stream",
     "text": [
      "Departure Record Inserted - OK\n",
      "[('cb7de755451dc4929581054b4035bfc5', '396TF', '2023-12-26 07:43:34.000000', '60_20231226T024334.jpg', '2023-12-29 22:50:54.659421')]\n"
     ]
    },
    {
     "name": "stderr",
     "output_type": "stream",
     "text": [
      "Some weights of VisionEncoderDecoderModel were not initialized from the model checkpoint at microsoft/trocr-base-printed and are newly initialized: ['encoder.pooler.dense.weight', 'encoder.pooler.dense.bias']\n",
      "You should probably TRAIN this model on a down-stream task to be able to use it for predictions and inference.\n",
      "Could not find image processor class in the image processor config or the model config. Loading based on pattern matching with the model's feature extractor configuration.\n"
     ]
    },
    {
     "name": "stdout",
     "output_type": "stream",
     "text": [
      "Departure Record Inserted - OK\n",
      "[('f241738fd523f634c02a6c62f1f7c04e', 128192, '2023-12-28 11:43:20.000000', '36_20231228T064320.jpg', '2023-12-29 22:51:01.389594')]\n"
     ]
    },
    {
     "name": "stderr",
     "output_type": "stream",
     "text": [
      "Some weights of VisionEncoderDecoderModel were not initialized from the model checkpoint at microsoft/trocr-base-printed and are newly initialized: ['encoder.pooler.dense.weight', 'encoder.pooler.dense.bias']\n",
      "You should probably TRAIN this model on a down-stream task to be able to use it for predictions and inference.\n",
      "Could not find image processor class in the image processor config or the model config. Loading based on pattern matching with the model's feature extractor configuration.\n"
     ]
    },
    {
     "name": "stdout",
     "output_type": "stream",
     "text": [
      "Departure Record Inserted - OK\n",
      "[('f5406fa6abe6ef79c2a923799a8a63b0', 0.77, '2023-12-26 12:14:09.000000', '75_20231226T071409.jpg', '2023-12-29 22:51:08.838567')]\n"
     ]
    },
    {
     "name": "stderr",
     "output_type": "stream",
     "text": [
      "Some weights of VisionEncoderDecoderModel were not initialized from the model checkpoint at microsoft/trocr-base-printed and are newly initialized: ['encoder.pooler.dense.weight', 'encoder.pooler.dense.bias']\n",
      "You should probably TRAIN this model on a down-stream task to be able to use it for predictions and inference.\n",
      "Could not find image processor class in the image processor config or the model config. Loading based on pattern matching with the model's feature extractor configuration.\n"
     ]
    },
    {
     "name": "stdout",
     "output_type": "stream",
     "text": [
      "Departure Record Inserted - OK\n",
      "[('ca38565e30851fbe0ed0f7e06d636d42', 'BELES', '2023-12-23 01:17:47.000000', '19_20231222T201747.jpg', '2023-12-29 22:51:15.582621')]\n"
     ]
    },
    {
     "name": "stderr",
     "output_type": "stream",
     "text": [
      "Some weights of VisionEncoderDecoderModel were not initialized from the model checkpoint at microsoft/trocr-base-printed and are newly initialized: ['encoder.pooler.dense.weight', 'encoder.pooler.dense.bias']\n",
      "You should probably TRAIN this model on a down-stream task to be able to use it for predictions and inference.\n",
      "Could not find image processor class in the image processor config or the model config. Loading based on pattern matching with the model's feature extractor configuration.\n"
     ]
    },
    {
     "name": "stdout",
     "output_type": "stream",
     "text": [
      "Departure Record Inserted - OK\n",
      "[('bb2c3d3301f2f192ff58a434449c4019', 'CO', '2023-12-23 16:47:32.000000', '74_20231223T114732.jpg', '2023-12-29 22:51:22.225564')]\n"
     ]
    },
    {
     "name": "stderr",
     "output_type": "stream",
     "text": [
      "Some weights of VisionEncoderDecoderModel were not initialized from the model checkpoint at microsoft/trocr-base-printed and are newly initialized: ['encoder.pooler.dense.weight', 'encoder.pooler.dense.bias']\n",
      "You should probably TRAIN this model on a down-stream task to be able to use it for predictions and inference.\n",
      "Could not find image processor class in the image processor config or the model config. Loading based on pattern matching with the model's feature extractor configuration.\n"
     ]
    },
    {
     "name": "stdout",
     "output_type": "stream",
     "text": [
      "Departure Record Inserted - OK\n",
      "[('2e5e1d55e0ae6b0012b5fafd37b7289e', 'GINGER BAKER', '2023-12-24 07:41:11.000000', '6_20231224T024111.jpg', '2023-12-29 22:51:29.530996')]\n"
     ]
    },
    {
     "name": "stderr",
     "output_type": "stream",
     "text": [
      "Some weights of VisionEncoderDecoderModel were not initialized from the model checkpoint at microsoft/trocr-base-printed and are newly initialized: ['encoder.pooler.dense.weight', 'encoder.pooler.dense.bias']\n",
      "You should probably TRAIN this model on a down-stream task to be able to use it for predictions and inference.\n",
      "Could not find image processor class in the image processor config or the model config. Loading based on pattern matching with the model's feature extractor configuration.\n"
     ]
    },
    {
     "name": "stdout",
     "output_type": "stream",
     "text": [
      "Departure Record Inserted - OK\n",
      "[('340de56c212cf4c8a545d57994296e59', 60160, '2023-12-24 07:02:32.000000', '82_20231224T020232.jpg', '2023-12-29 22:51:36.825935')]\n"
     ]
    },
    {
     "name": "stderr",
     "output_type": "stream",
     "text": [
      "Some weights of VisionEncoderDecoderModel were not initialized from the model checkpoint at microsoft/trocr-base-printed and are newly initialized: ['encoder.pooler.dense.weight', 'encoder.pooler.dense.bias']\n",
      "You should probably TRAIN this model on a down-stream task to be able to use it for predictions and inference.\n",
      "Could not find image processor class in the image processor config or the model config. Loading based on pattern matching with the model's feature extractor configuration.\n"
     ]
    },
    {
     "name": "stdout",
     "output_type": "stream",
     "text": [
      "Departure Record Inserted - OK\n",
      "[('8946fbb154f36a04b358be60c6544662', '$6.60', '2023-12-24 21:31:51.000000', '67_20231224T163151.jpg', '2023-12-29 22:51:43.811380')]\n"
     ]
    },
    {
     "name": "stderr",
     "output_type": "stream",
     "text": [
      "Some weights of VisionEncoderDecoderModel were not initialized from the model checkpoint at microsoft/trocr-base-printed and are newly initialized: ['encoder.pooler.dense.weight', 'encoder.pooler.dense.bias']\n",
      "You should probably TRAIN this model on a down-stream task to be able to use it for predictions and inference.\n",
      "Could not find image processor class in the image processor config or the model config. Loading based on pattern matching with the model's feature extractor configuration.\n"
     ]
    },
    {
     "name": "stdout",
     "output_type": "stream",
     "text": [
      "Departure Record Inserted - OK\n",
      "[('8516ae69b932ce49e4826d2f92d27026', '8440 GZ', '2023-12-27 11:47:31.000000', '27_20231227T064731.jpg', '2023-12-29 22:51:50.796917')]\n"
     ]
    },
    {
     "name": "stderr",
     "output_type": "stream",
     "text": [
      "Some weights of VisionEncoderDecoderModel were not initialized from the model checkpoint at microsoft/trocr-base-printed and are newly initialized: ['encoder.pooler.dense.weight', 'encoder.pooler.dense.bias']\n",
      "You should probably TRAIN this model on a down-stream task to be able to use it for predictions and inference.\n",
      "Could not find image processor class in the image processor config or the model config. Loading based on pattern matching with the model's feature extractor configuration.\n"
     ]
    },
    {
     "name": "stdout",
     "output_type": "stream",
     "text": [
      "Departure Record Inserted - OK\n",
      "[('339ed0691ac1ce0677cae00524cddfaf', '4378BW', '2023-12-28 22:33:22.000000', '54_20231228T173322.jpg', '2023-12-29 22:51:57.665062')]\n"
     ]
    },
    {
     "name": "stderr",
     "output_type": "stream",
     "text": [
      "Some weights of VisionEncoderDecoderModel were not initialized from the model checkpoint at microsoft/trocr-base-printed and are newly initialized: ['encoder.pooler.dense.weight', 'encoder.pooler.dense.bias']\n",
      "You should probably TRAIN this model on a down-stream task to be able to use it for predictions and inference.\n",
      "Could not find image processor class in the image processor config or the model config. Loading based on pattern matching with the model's feature extractor configuration.\n"
     ]
    },
    {
     "name": "stdout",
     "output_type": "stream",
     "text": [
      "Departure Record Inserted - OK\n",
      "[('81cbc7a9212d284269bda661691b71a1', '4214MP', '2023-12-28 10:53:25.000000', '50_20231228T055325.jpg', '2023-12-29 22:52:04.543512')]\n"
     ]
    },
    {
     "name": "stderr",
     "output_type": "stream",
     "text": [
      "Some weights of VisionEncoderDecoderModel were not initialized from the model checkpoint at microsoft/trocr-base-printed and are newly initialized: ['encoder.pooler.dense.weight', 'encoder.pooler.dense.bias']\n",
      "You should probably TRAIN this model on a down-stream task to be able to use it for predictions and inference.\n",
      "Could not find image processor class in the image processor config or the model config. Loading based on pattern matching with the model's feature extractor configuration.\n"
     ]
    },
    {
     "name": "stdout",
     "output_type": "stream",
     "text": [
      "Departure Record Inserted - OK\n",
      "[('bdaa57a84bc9d350ef7c1a5027772d96', 'U2 8367', '2023-12-29 03:58:18.000000', '83_20231228T225818.jpg', '2023-12-29 22:52:11.551307')]\n"
     ]
    },
    {
     "name": "stderr",
     "output_type": "stream",
     "text": [
      "Some weights of VisionEncoderDecoderModel were not initialized from the model checkpoint at microsoft/trocr-base-printed and are newly initialized: ['encoder.pooler.dense.weight', 'encoder.pooler.dense.bias']\n",
      "You should probably TRAIN this model on a down-stream task to be able to use it for predictions and inference.\n",
      "Could not find image processor class in the image processor config or the model config. Loading based on pattern matching with the model's feature extractor configuration.\n"
     ]
    },
    {
     "name": "stdout",
     "output_type": "stream",
     "text": [
      "Departure Record Inserted - OK\n",
      "[('c7d696f7282f86a0055b6d588fcf8572', 'RZ 0047', '2023-12-28 05:01:56.000000', '1_20231228T000156.jpg', '2023-12-29 22:52:18.449323')]\n"
     ]
    },
    {
     "name": "stderr",
     "output_type": "stream",
     "text": [
      "Some weights of VisionEncoderDecoderModel were not initialized from the model checkpoint at microsoft/trocr-base-printed and are newly initialized: ['encoder.pooler.dense.weight', 'encoder.pooler.dense.bias']\n",
      "You should probably TRAIN this model on a down-stream task to be able to use it for predictions and inference.\n",
      "Could not find image processor class in the image processor config or the model config. Loading based on pattern matching with the model's feature extractor configuration.\n"
     ]
    },
    {
     "name": "stdout",
     "output_type": "stream",
     "text": [
      "Departure Record Inserted - OK\n",
      "[('6d3dd229d86686ef32ee383e3963c99f', 565481, '2023-12-26 19:46:30.000000', '9_20231226T144630.jpg', '2023-12-29 22:52:25.140108')]\n"
     ]
    },
    {
     "name": "stderr",
     "output_type": "stream",
     "text": [
      "Some weights of VisionEncoderDecoderModel were not initialized from the model checkpoint at microsoft/trocr-base-printed and are newly initialized: ['encoder.pooler.dense.weight', 'encoder.pooler.dense.bias']\n",
      "You should probably TRAIN this model on a down-stream task to be able to use it for predictions and inference.\n",
      "Could not find image processor class in the image processor config or the model config. Loading based on pattern matching with the model's feature extractor configuration.\n"
     ]
    },
    {
     "name": "stdout",
     "output_type": "stream",
     "text": [
      "Departure Record Inserted - OK\n",
      "[('ecbea589bc4ff1e4d42e4f8b1c9ab776', 'NEWS', '2023-12-24 23:48:16.000000', '84_20231224T184816.jpg', '2023-12-29 22:52:31.802276')]\n"
     ]
    },
    {
     "name": "stderr",
     "output_type": "stream",
     "text": [
      "Some weights of VisionEncoderDecoderModel were not initialized from the model checkpoint at microsoft/trocr-base-printed and are newly initialized: ['encoder.pooler.dense.weight', 'encoder.pooler.dense.bias']\n",
      "You should probably TRAIN this model on a down-stream task to be able to use it for predictions and inference.\n",
      "Could not find image processor class in the image processor config or the model config. Loading based on pattern matching with the model's feature extractor configuration.\n"
     ]
    },
    {
     "name": "stdout",
     "output_type": "stream",
     "text": [
      "Departure Record Inserted - OK\n",
      "[('3609806f9c73aaf305ee23829e556d08', 'Y57727', '2023-12-26 13:37:36.000000', '46_20231226T083736.jpg', '2023-12-29 22:52:38.578891')]\n"
     ]
    },
    {
     "name": "stderr",
     "output_type": "stream",
     "text": [
      "Some weights of VisionEncoderDecoderModel were not initialized from the model checkpoint at microsoft/trocr-base-printed and are newly initialized: ['encoder.pooler.dense.weight', 'encoder.pooler.dense.bias']\n",
      "You should probably TRAIN this model on a down-stream task to be able to use it for predictions and inference.\n",
      "Could not find image processor class in the image processor config or the model config. Loading based on pattern matching with the model's feature extractor configuration.\n"
     ]
    },
    {
     "name": "stdout",
     "output_type": "stream",
     "text": [
      "Departure Record Inserted - OK\n",
      "[('85a10fb659f294580511dfba6296f872', 'DISIGN', '2023-12-25 14:00:09.000000', '2_20231225T090009.jpg', '2023-12-29 22:52:45.310617')]\n"
     ]
    },
    {
     "name": "stderr",
     "output_type": "stream",
     "text": [
      "Some weights of VisionEncoderDecoderModel were not initialized from the model checkpoint at microsoft/trocr-base-printed and are newly initialized: ['encoder.pooler.dense.weight', 'encoder.pooler.dense.bias']\n",
      "You should probably TRAIN this model on a down-stream task to be able to use it for predictions and inference.\n",
      "Could not find image processor class in the image processor config or the model config. Loading based on pattern matching with the model's feature extractor configuration.\n"
     ]
    },
    {
     "name": "stdout",
     "output_type": "stream",
     "text": [
      "Departure Record Inserted - OK\n",
      "[('4aaf4189e839293d07931871f42aa3d9', '4378BW', '2023-12-23 18:31:19.000000', '54_20231223T133119.jpg', '2023-12-29 22:52:52.139622')]\n"
     ]
    },
    {
     "name": "stderr",
     "output_type": "stream",
     "text": [
      "Some weights of VisionEncoderDecoderModel were not initialized from the model checkpoint at microsoft/trocr-base-printed and are newly initialized: ['encoder.pooler.dense.weight', 'encoder.pooler.dense.bias']\n",
      "You should probably TRAIN this model on a down-stream task to be able to use it for predictions and inference.\n",
      "Could not find image processor class in the image processor config or the model config. Loading based on pattern matching with the model's feature extractor configuration.\n"
     ]
    },
    {
     "name": "stdout",
     "output_type": "stream",
     "text": [
      "Departure Record Inserted - OK\n",
      "[('df3f99208cb21e45fe2a3e18de1e2f1b', 'MASENT,', '2023-12-23 10:12:51.000000', '21_20231223T051251.jpg', '2023-12-29 22:52:58.996889')]\n"
     ]
    },
    {
     "name": "stderr",
     "output_type": "stream",
     "text": [
      "Some weights of VisionEncoderDecoderModel were not initialized from the model checkpoint at microsoft/trocr-base-printed and are newly initialized: ['encoder.pooler.dense.weight', 'encoder.pooler.dense.bias']\n",
      "You should probably TRAIN this model on a down-stream task to be able to use it for predictions and inference.\n",
      "Could not find image processor class in the image processor config or the model config. Loading based on pattern matching with the model's feature extractor configuration.\n"
     ]
    },
    {
     "name": "stdout",
     "output_type": "stream",
     "text": [
      "Departure Record Inserted - OK\n",
      "[('fdd8425ebf4576d780ffaf4d20dfcca1', 'MG.9429', '2023-12-24 05:40:10.000000', '11_20231224T004010.jpg', '2023-12-29 22:53:05.919201')]\n"
     ]
    },
    {
     "name": "stderr",
     "output_type": "stream",
     "text": [
      "Some weights of VisionEncoderDecoderModel were not initialized from the model checkpoint at microsoft/trocr-base-printed and are newly initialized: ['encoder.pooler.dense.weight', 'encoder.pooler.dense.bias']\n",
      "You should probably TRAIN this model on a down-stream task to be able to use it for predictions and inference.\n",
      "Could not find image processor class in the image processor config or the model config. Loading based on pattern matching with the model's feature extractor configuration.\n"
     ]
    },
    {
     "name": "stdout",
     "output_type": "stream",
     "text": [
      "Departure Record Inserted - OK\n",
      "[('cf24ea14b78bf51e9745ca977049ff82', 60160, '2023-12-29 01:35:59.000000', '82_20231228T203559.jpg', '2023-12-29 22:53:12.697861')]\n"
     ]
    },
    {
     "name": "stderr",
     "output_type": "stream",
     "text": [
      "Some weights of VisionEncoderDecoderModel were not initialized from the model checkpoint at microsoft/trocr-base-printed and are newly initialized: ['encoder.pooler.dense.weight', 'encoder.pooler.dense.bias']\n",
      "You should probably TRAIN this model on a down-stream task to be able to use it for predictions and inference.\n",
      "Could not find image processor class in the image processor config or the model config. Loading based on pattern matching with the model's feature extractor configuration.\n"
     ]
    },
    {
     "name": "stdout",
     "output_type": "stream",
     "text": [
      "Departure Record Inserted - OK\n",
      "[('3fcb160aa2b59fdc58c417ec270aacf9', 128192, '2023-12-26 18:42:46.000000', '36_20231226T134246.jpg', '2023-12-29 22:53:19.414828')]\n"
     ]
    },
    {
     "name": "stderr",
     "output_type": "stream",
     "text": [
      "Some weights of VisionEncoderDecoderModel were not initialized from the model checkpoint at microsoft/trocr-base-printed and are newly initialized: ['encoder.pooler.dense.weight', 'encoder.pooler.dense.bias']\n",
      "You should probably TRAIN this model on a down-stream task to be able to use it for predictions and inference.\n",
      "Could not find image processor class in the image processor config or the model config. Loading based on pattern matching with the model's feature extractor configuration.\n"
     ]
    },
    {
     "name": "stdout",
     "output_type": "stream",
     "text": [
      "Departure Record Inserted - OK\n",
      "[('f365421c8c0bde51f4bd587246197288', 890598, '2023-12-25 03:25:04.000000', '69_20231224T222504.jpg', '2023-12-29 22:53:26.266834')]\n"
     ]
    },
    {
     "name": "stderr",
     "output_type": "stream",
     "text": [
      "Some weights of VisionEncoderDecoderModel were not initialized from the model checkpoint at microsoft/trocr-base-printed and are newly initialized: ['encoder.pooler.dense.weight', 'encoder.pooler.dense.bias']\n",
      "You should probably TRAIN this model on a down-stream task to be able to use it for predictions and inference.\n",
      "Could not find image processor class in the image processor config or the model config. Loading based on pattern matching with the model's feature extractor configuration.\n"
     ]
    },
    {
     "name": "stdout",
     "output_type": "stream",
     "text": [
      "Departure Record Inserted - OK\n",
      "[('f6fe018b9b7aa788c30c22c5dd477266', 'FZ7861', '2023-12-25 16:00:28.000000', '24_20231225T110028.jpg', '2023-12-29 22:53:33.236098')]\n"
     ]
    },
    {
     "name": "stderr",
     "output_type": "stream",
     "text": [
      "Some weights of VisionEncoderDecoderModel were not initialized from the model checkpoint at microsoft/trocr-base-printed and are newly initialized: ['encoder.pooler.dense.weight', 'encoder.pooler.dense.bias']\n",
      "You should probably TRAIN this model on a down-stream task to be able to use it for predictions and inference.\n",
      "Could not find image processor class in the image processor config or the model config. Loading based on pattern matching with the model's feature extractor configuration.\n"
     ]
    },
    {
     "name": "stdout",
     "output_type": "stream",
     "text": [
      "Departure Record Inserted - OK\n",
      "[('81bf1ca96cea87691862f4fd3c9ee3cd', 'A8 1904', '2023-12-23 07:59:21.000000', '70_20231223T025921.jpg', '2023-12-29 22:53:39.961799')]\n"
     ]
    },
    {
     "name": "stderr",
     "output_type": "stream",
     "text": [
      "Some weights of VisionEncoderDecoderModel were not initialized from the model checkpoint at microsoft/trocr-base-printed and are newly initialized: ['encoder.pooler.dense.weight', 'encoder.pooler.dense.bias']\n",
      "You should probably TRAIN this model on a down-stream task to be able to use it for predictions and inference.\n",
      "Could not find image processor class in the image processor config or the model config. Loading based on pattern matching with the model's feature extractor configuration.\n"
     ]
    },
    {
     "name": "stdout",
     "output_type": "stream",
     "text": [
      "Departure Record Inserted - OK\n",
      "[('50e18063ac57d2e3c2ccd5c5871a451b', 'U2 8367', '2023-12-23 16:29:48.000000', '83_20231223T112948.jpg', '2023-12-29 22:53:46.976162')]\n"
     ]
    },
    {
     "name": "stderr",
     "output_type": "stream",
     "text": [
      "Some weights of VisionEncoderDecoderModel were not initialized from the model checkpoint at microsoft/trocr-base-printed and are newly initialized: ['encoder.pooler.dense.weight', 'encoder.pooler.dense.bias']\n",
      "You should probably TRAIN this model on a down-stream task to be able to use it for predictions and inference.\n",
      "Could not find image processor class in the image processor config or the model config. Loading based on pattern matching with the model's feature extractor configuration.\n"
     ]
    },
    {
     "name": "stdout",
     "output_type": "stream",
     "text": [
      "Departure Record Inserted - OK\n",
      "[('c94ff4e7c938d0cffa902f789faa500b', 0.77, '2023-12-28 22:56:40.000000', '75_20231228T175640.jpg', '2023-12-29 22:53:53.693251')]\n"
     ]
    },
    {
     "name": "stderr",
     "output_type": "stream",
     "text": [
      "Some weights of VisionEncoderDecoderModel were not initialized from the model checkpoint at microsoft/trocr-base-printed and are newly initialized: ['encoder.pooler.dense.weight', 'encoder.pooler.dense.bias']\n",
      "You should probably TRAIN this model on a down-stream task to be able to use it for predictions and inference.\n",
      "Could not find image processor class in the image processor config or the model config. Loading based on pattern matching with the model's feature extractor configuration.\n"
     ]
    },
    {
     "name": "stdout",
     "output_type": "stream",
     "text": [
      "Departure Record Inserted - OK\n",
      "[('9d6e8bfdfb72dba87a64303ddfc864a8', 'T85625', '2023-12-23 08:49:20.000000', '61_20231223T034920.jpg', '2023-12-29 22:54:00.817148')]\n"
     ]
    },
    {
     "name": "stderr",
     "output_type": "stream",
     "text": [
      "Some weights of VisionEncoderDecoderModel were not initialized from the model checkpoint at microsoft/trocr-base-printed and are newly initialized: ['encoder.pooler.dense.weight', 'encoder.pooler.dense.bias']\n",
      "You should probably TRAIN this model on a down-stream task to be able to use it for predictions and inference.\n",
      "Could not find image processor class in the image processor config or the model config. Loading based on pattern matching with the model's feature extractor configuration.\n"
     ]
    },
    {
     "name": "stdout",
     "output_type": "stream",
     "text": [
      "Departure Record Inserted - OK\n",
      "[('2684b0dbdb2f39253fb4e39babbfad38', 50590, '2023-12-23 23:20:21.000000', '13_20231223T182021.jpg', '2023-12-29 22:54:07.488865')]\n"
     ]
    },
    {
     "name": "stderr",
     "output_type": "stream",
     "text": [
      "Some weights of VisionEncoderDecoderModel were not initialized from the model checkpoint at microsoft/trocr-base-printed and are newly initialized: ['encoder.pooler.dense.weight', 'encoder.pooler.dense.bias']\n",
      "You should probably TRAIN this model on a down-stream task to be able to use it for predictions and inference.\n",
      "Could not find image processor class in the image processor config or the model config. Loading based on pattern matching with the model's feature extractor configuration.\n"
     ]
    },
    {
     "name": "stdout",
     "output_type": "stream",
     "text": [
      "Departure Record Inserted - OK\n",
      "[('6c63650e8f1617a95206cf015b122cf8', 'FZ7861', '2023-12-28 08:30:13.000000', '24_20231228T033013.jpg', '2023-12-29 22:54:14.404503')]\n"
     ]
    },
    {
     "name": "stderr",
     "output_type": "stream",
     "text": [
      "Some weights of VisionEncoderDecoderModel were not initialized from the model checkpoint at microsoft/trocr-base-printed and are newly initialized: ['encoder.pooler.dense.weight', 'encoder.pooler.dense.bias']\n",
      "You should probably TRAIN this model on a down-stream task to be able to use it for predictions and inference.\n",
      "Could not find image processor class in the image processor config or the model config. Loading based on pattern matching with the model's feature extractor configuration.\n"
     ]
    },
    {
     "name": "stdout",
     "output_type": "stream",
     "text": [
      "Departure Record Inserted - OK\n",
      "[('fa9c17e8d30b712abbb2957856ac56f2', 890598, '2023-12-27 07:07:47.000000', '69_20231227T020747.jpg', '2023-12-29 22:54:21.228897')]\n"
     ]
    },
    {
     "name": "stderr",
     "output_type": "stream",
     "text": [
      "Some weights of VisionEncoderDecoderModel were not initialized from the model checkpoint at microsoft/trocr-base-printed and are newly initialized: ['encoder.pooler.dense.weight', 'encoder.pooler.dense.bias']\n",
      "You should probably TRAIN this model on a down-stream task to be able to use it for predictions and inference.\n",
      "Could not find image processor class in the image processor config or the model config. Loading based on pattern matching with the model's feature extractor configuration.\n"
     ]
    },
    {
     "name": "stdout",
     "output_type": "stream",
     "text": [
      "Departure Record Inserted - OK\n",
      "[('5f4e061cf52aad019505952d193f5d8e', 'HS 6927', '2023-12-28 10:54:18.000000', '85_20231228T055418.jpg', '2023-12-29 22:54:28.096298')]\n"
     ]
    },
    {
     "name": "stderr",
     "output_type": "stream",
     "text": [
      "Some weights of VisionEncoderDecoderModel were not initialized from the model checkpoint at microsoft/trocr-base-printed and are newly initialized: ['encoder.pooler.dense.weight', 'encoder.pooler.dense.bias']\n",
      "You should probably TRAIN this model on a down-stream task to be able to use it for predictions and inference.\n",
      "Could not find image processor class in the image processor config or the model config. Loading based on pattern matching with the model's feature extractor configuration.\n"
     ]
    },
    {
     "name": "stdout",
     "output_type": "stream",
     "text": [
      "Departure Record Inserted - OK\n",
      "[('90f6c917035e888c99662e94a9288bc9', '$6.60', '2023-12-27 05:39:19.000000', '67_20231227T003919.jpg', '2023-12-29 22:54:35.117870')]\n"
     ]
    },
    {
     "name": "stderr",
     "output_type": "stream",
     "text": [
      "Some weights of VisionEncoderDecoderModel were not initialized from the model checkpoint at microsoft/trocr-base-printed and are newly initialized: ['encoder.pooler.dense.weight', 'encoder.pooler.dense.bias']\n",
      "You should probably TRAIN this model on a down-stream task to be able to use it for predictions and inference.\n"
     ]
    },
    {
     "name": "stdout",
     "output_type": "stream",
     "text": [
      "Departure Record Inserted - OK\n",
      "[('da6c728b5223d1d9695413361551b9c8', 'MG.9429', '2023-12-27 00:05:40.000000', '11_20231226T190540.jpg', '2023-12-29 22:54:42.073401')]\n"
     ]
    },
    {
     "name": "stderr",
     "output_type": "stream",
     "text": [
      "Could not find image processor class in the image processor config or the model config. Loading based on pattern matching with the model's feature extractor configuration.\n",
      "Some weights of VisionEncoderDecoderModel were not initialized from the model checkpoint at microsoft/trocr-base-printed and are newly initialized: ['encoder.pooler.dense.weight', 'encoder.pooler.dense.bias']\n",
      "You should probably TRAIN this model on a down-stream task to be able to use it for predictions and inference.\n",
      "Could not find image processor class in the image processor config or the model config. Loading based on pattern matching with the model's feature extractor configuration.\n"
     ]
    },
    {
     "name": "stdout",
     "output_type": "stream",
     "text": [
      "Departure Record Inserted - OK\n",
      "[('8db659c9481b6d35117aaa4c601a62c0', 'GINGER BAKER', '2023-12-28 23:35:30.000000', '6_20231228T183530.jpg', '2023-12-29 22:54:49.695679')]\n"
     ]
    },
    {
     "name": "stderr",
     "output_type": "stream",
     "text": [
      "Some weights of VisionEncoderDecoderModel were not initialized from the model checkpoint at microsoft/trocr-base-printed and are newly initialized: ['encoder.pooler.dense.weight', 'encoder.pooler.dense.bias']\n",
      "You should probably TRAIN this model on a down-stream task to be able to use it for predictions and inference.\n",
      "Could not find image processor class in the image processor config or the model config. Loading based on pattern matching with the model's feature extractor configuration.\n"
     ]
    },
    {
     "name": "stdout",
     "output_type": "stream",
     "text": [
      "Departure Record Inserted - OK\n",
      "[('b9e64b059d6becb6ce7a89546722982e', 'FZ7861', '2023-12-22 22:47:12.000000', '24_20231222T174712.jpg', '2023-12-29 22:54:56.563916')]\n"
     ]
    },
    {
     "name": "stderr",
     "output_type": "stream",
     "text": [
      "Some weights of VisionEncoderDecoderModel were not initialized from the model checkpoint at microsoft/trocr-base-printed and are newly initialized: ['encoder.pooler.dense.weight', 'encoder.pooler.dense.bias']\n",
      "You should probably TRAIN this model on a down-stream task to be able to use it for predictions and inference.\n",
      "Could not find image processor class in the image processor config or the model config. Loading based on pattern matching with the model's feature extractor configuration.\n"
     ]
    },
    {
     "name": "stdout",
     "output_type": "stream",
     "text": [
      "Departure Record Inserted - OK\n",
      "[('3ef240f5a577db0a22aef3fffd169274', '396TF', '2023-12-22 19:08:23.000000', '60_20231222T140823.jpg', '2023-12-29 22:55:03.287866')]\n"
     ]
    },
    {
     "name": "stderr",
     "output_type": "stream",
     "text": [
      "Some weights of VisionEncoderDecoderModel were not initialized from the model checkpoint at microsoft/trocr-base-printed and are newly initialized: ['encoder.pooler.dense.weight', 'encoder.pooler.dense.bias']\n",
      "You should probably TRAIN this model on a down-stream task to be able to use it for predictions and inference.\n",
      "Could not find image processor class in the image processor config or the model config. Loading based on pattern matching with the model's feature extractor configuration.\n"
     ]
    },
    {
     "name": "stdout",
     "output_type": "stream",
     "text": [
      "Departure Record Inserted - OK\n",
      "[('654ba7d48b1371a5c38d9daef8ac4df1', 37557, '2023-12-28 23:45:37.000000', '72_20231228T184537.jpg', '2023-12-29 22:55:10.034526')]\n"
     ]
    },
    {
     "name": "stderr",
     "output_type": "stream",
     "text": [
      "Some weights of VisionEncoderDecoderModel were not initialized from the model checkpoint at microsoft/trocr-base-printed and are newly initialized: ['encoder.pooler.dense.weight', 'encoder.pooler.dense.bias']\n",
      "You should probably TRAIN this model on a down-stream task to be able to use it for predictions and inference.\n",
      "Could not find image processor class in the image processor config or the model config. Loading based on pattern matching with the model's feature extractor configuration.\n"
     ]
    },
    {
     "name": "stdout",
     "output_type": "stream",
     "text": [
      "Departure Record Inserted - OK\n",
      "[('76b075d3f13be304d12c15c28716c0e9', 565481, '2023-12-28 08:15:36.000000', '9_20231228T031536.jpg', '2023-12-29 22:55:17.059847')]\n"
     ]
    },
    {
     "name": "stderr",
     "output_type": "stream",
     "text": [
      "Some weights of VisionEncoderDecoderModel were not initialized from the model checkpoint at microsoft/trocr-base-printed and are newly initialized: ['encoder.pooler.dense.weight', 'encoder.pooler.dense.bias']\n",
      "You should probably TRAIN this model on a down-stream task to be able to use it for predictions and inference.\n",
      "Could not find image processor class in the image processor config or the model config. Loading based on pattern matching with the model's feature extractor configuration.\n"
     ]
    },
    {
     "name": "stdout",
     "output_type": "stream",
     "text": [
      "Departure Record Inserted - OK\n",
      "[('31798779b1bb40518d0598f5a99e55f6', 'A8 1904', '2023-12-24 18:45:01.000000', '70_20231224T134501.jpg', '2023-12-29 22:55:23.801030')]\n"
     ]
    },
    {
     "name": "stderr",
     "output_type": "stream",
     "text": [
      "Some weights of VisionEncoderDecoderModel were not initialized from the model checkpoint at microsoft/trocr-base-printed and are newly initialized: ['encoder.pooler.dense.weight', 'encoder.pooler.dense.bias']\n",
      "You should probably TRAIN this model on a down-stream task to be able to use it for predictions and inference.\n",
      "Could not find image processor class in the image processor config or the model config. Loading based on pattern matching with the model's feature extractor configuration.\n"
     ]
    },
    {
     "name": "stdout",
     "output_type": "stream",
     "text": [
      "Departure Record Inserted - OK\n",
      "[('0629b56cb0678ffccd5412e3778a14ca', '6519FL', '2023-12-28 03:30:45.000000', '30_20231227T223045.jpg', '2023-12-29 22:55:30.509387')]\n"
     ]
    },
    {
     "name": "stderr",
     "output_type": "stream",
     "text": [
      "Some weights of VisionEncoderDecoderModel were not initialized from the model checkpoint at microsoft/trocr-base-printed and are newly initialized: ['encoder.pooler.dense.weight', 'encoder.pooler.dense.bias']\n",
      "You should probably TRAIN this model on a down-stream task to be able to use it for predictions and inference.\n",
      "Could not find image processor class in the image processor config or the model config. Loading based on pattern matching with the model's feature extractor configuration.\n"
     ]
    },
    {
     "name": "stdout",
     "output_type": "stream",
     "text": [
      "Departure Record Inserted - OK\n",
      "[('0b55e29917deab1833a0d912ac23a74b', 'MASENT,', '2023-12-27 14:40:18.000000', '21_20231227T094018.jpg', '2023-12-29 22:55:37.489299')]\n"
     ]
    },
    {
     "name": "stderr",
     "output_type": "stream",
     "text": [
      "Some weights of VisionEncoderDecoderModel were not initialized from the model checkpoint at microsoft/trocr-base-printed and are newly initialized: ['encoder.pooler.dense.weight', 'encoder.pooler.dense.bias']\n",
      "You should probably TRAIN this model on a down-stream task to be able to use it for predictions and inference.\n",
      "Could not find image processor class in the image processor config or the model config. Loading based on pattern matching with the model's feature extractor configuration.\n"
     ]
    },
    {
     "name": "stdout",
     "output_type": "stream",
     "text": [
      "Departure Record Inserted - OK\n",
      "[('fae279cffdfa52cfea6d4a2f92f60359', '$6.60', '2023-12-23 23:21:38.000000', '67_20231223T182138.jpg', '2023-12-29 22:55:44.485855')]\n"
     ]
    },
    {
     "name": "stderr",
     "output_type": "stream",
     "text": [
      "Some weights of VisionEncoderDecoderModel were not initialized from the model checkpoint at microsoft/trocr-base-printed and are newly initialized: ['encoder.pooler.dense.weight', 'encoder.pooler.dense.bias']\n",
      "You should probably TRAIN this model on a down-stream task to be able to use it for predictions and inference.\n",
      "Could not find image processor class in the image processor config or the model config. Loading based on pattern matching with the model's feature extractor configuration.\n"
     ]
    },
    {
     "name": "stdout",
     "output_type": "stream",
     "text": [
      "Departure Record Inserted - OK\n",
      "[('51e4ba0d212794000ed321658800b0fb', 'BELES', '2023-12-28 21:07:51.000000', '19_20231228T160751.jpg', '2023-12-29 22:55:51.314545')]\n"
     ]
    },
    {
     "name": "stderr",
     "output_type": "stream",
     "text": [
      "Some weights of VisionEncoderDecoderModel were not initialized from the model checkpoint at microsoft/trocr-base-printed and are newly initialized: ['encoder.pooler.dense.weight', 'encoder.pooler.dense.bias']\n",
      "You should probably TRAIN this model on a down-stream task to be able to use it for predictions and inference.\n",
      "Could not find image processor class in the image processor config or the model config. Loading based on pattern matching with the model's feature extractor configuration.\n"
     ]
    },
    {
     "name": "stdout",
     "output_type": "stream",
     "text": [
      "Departure Record Inserted - OK\n",
      "[('d656046d49784421d4a7372ab41d7e83', '5214MG', '2023-12-22 09:37:23.000000', '34_20231222T043723.jpg', '2023-12-29 22:55:58.209258')]\n"
     ]
    },
    {
     "name": "stderr",
     "output_type": "stream",
     "text": [
      "Some weights of VisionEncoderDecoderModel were not initialized from the model checkpoint at microsoft/trocr-base-printed and are newly initialized: ['encoder.pooler.dense.weight', 'encoder.pooler.dense.bias']\n",
      "You should probably TRAIN this model on a down-stream task to be able to use it for predictions and inference.\n",
      "Could not find image processor class in the image processor config or the model config. Loading based on pattern matching with the model's feature extractor configuration.\n"
     ]
    },
    {
     "name": "stdout",
     "output_type": "stream",
     "text": [
      "Departure Record Inserted - OK\n",
      "[('2e9010fd9b7b4727e9b5c867aed42e3d', 'MASENT,', '2023-12-22 07:49:13.000000', '21_20231222T024913.jpg', '2023-12-29 22:56:05.137237')]\n"
     ]
    },
    {
     "name": "stderr",
     "output_type": "stream",
     "text": [
      "Some weights of VisionEncoderDecoderModel were not initialized from the model checkpoint at microsoft/trocr-base-printed and are newly initialized: ['encoder.pooler.dense.weight', 'encoder.pooler.dense.bias']\n",
      "You should probably TRAIN this model on a down-stream task to be able to use it for predictions and inference.\n",
      "Could not find image processor class in the image processor config or the model config. Loading based on pattern matching with the model's feature extractor configuration.\n"
     ]
    },
    {
     "name": "stdout",
     "output_type": "stream",
     "text": [
      "Departure Record Inserted - OK\n",
      "[('fefe387cdcbc40eff286f259de13d53f', 'DISIGN', '2023-12-22 12:50:28.000000', '2_20231222T075028.jpg', '2023-12-29 22:56:11.835176')]\n"
     ]
    },
    {
     "name": "stderr",
     "output_type": "stream",
     "text": [
      "Some weights of VisionEncoderDecoderModel were not initialized from the model checkpoint at microsoft/trocr-base-printed and are newly initialized: ['encoder.pooler.dense.weight', 'encoder.pooler.dense.bias']\n",
      "You should probably TRAIN this model on a down-stream task to be able to use it for predictions and inference.\n",
      "Could not find image processor class in the image processor config or the model config. Loading based on pattern matching with the model's feature extractor configuration.\n"
     ]
    },
    {
     "name": "stdout",
     "output_type": "stream",
     "text": [
      "Departure Record Inserted - OK\n",
      "[('0509b3eb87bd0ef6adcb7548c6ee7b07', '5807AF', '2023-12-28 00:48:15.000000', '26_20231227T194815.jpg', '2023-12-29 22:56:18.717968')]\n"
     ]
    },
    {
     "name": "stderr",
     "output_type": "stream",
     "text": [
      "Some weights of VisionEncoderDecoderModel were not initialized from the model checkpoint at microsoft/trocr-base-printed and are newly initialized: ['encoder.pooler.dense.weight', 'encoder.pooler.dense.bias']\n",
      "You should probably TRAIN this model on a down-stream task to be able to use it for predictions and inference.\n",
      "Could not find image processor class in the image processor config or the model config. Loading based on pattern matching with the model's feature extractor configuration.\n"
     ]
    },
    {
     "name": "stdout",
     "output_type": "stream",
     "text": [
      "Departure Record Inserted - OK\n",
      "[('7561033d0ef57244c54784323e89f4e1', 'CO', '2023-12-28 21:23:06.000000', '74_20231228T162306.jpg', '2023-12-29 22:56:25.325613')]\n"
     ]
    },
    {
     "name": "stderr",
     "output_type": "stream",
     "text": [
      "Some weights of VisionEncoderDecoderModel were not initialized from the model checkpoint at microsoft/trocr-base-printed and are newly initialized: ['encoder.pooler.dense.weight', 'encoder.pooler.dense.bias']\n",
      "You should probably TRAIN this model on a down-stream task to be able to use it for predictions and inference.\n",
      "Could not find image processor class in the image processor config or the model config. Loading based on pattern matching with the model's feature extractor configuration.\n"
     ]
    },
    {
     "name": "stdout",
     "output_type": "stream",
     "text": [
      "Departure Record Inserted - OK\n",
      "[('f57cb981b19d6fd222084599be285285', 'TAX', '2023-12-26 11:52:51.000000', '47_20231226T065251.jpg', '2023-12-29 22:56:32.111933')]\n"
     ]
    },
    {
     "name": "stderr",
     "output_type": "stream",
     "text": [
      "Some weights of VisionEncoderDecoderModel were not initialized from the model checkpoint at microsoft/trocr-base-printed and are newly initialized: ['encoder.pooler.dense.weight', 'encoder.pooler.dense.bias']\n",
      "You should probably TRAIN this model on a down-stream task to be able to use it for predictions and inference.\n",
      "Could not find image processor class in the image processor config or the model config. Loading based on pattern matching with the model's feature extractor configuration.\n"
     ]
    },
    {
     "name": "stdout",
     "output_type": "stream",
     "text": [
      "Departure Record Inserted - OK\n",
      "[('63c9afd42f3a3a6d474a3f890414a105', 37557, '2023-12-27 01:12:28.000000', '72_20231226T201228.jpg', '2023-12-29 22:56:38.886264')]\n"
     ]
    },
    {
     "name": "stderr",
     "output_type": "stream",
     "text": [
      "Some weights of VisionEncoderDecoderModel were not initialized from the model checkpoint at microsoft/trocr-base-printed and are newly initialized: ['encoder.pooler.dense.weight', 'encoder.pooler.dense.bias']\n",
      "You should probably TRAIN this model on a down-stream task to be able to use it for predictions and inference.\n",
      "Could not find image processor class in the image processor config or the model config. Loading based on pattern matching with the model's feature extractor configuration.\n"
     ]
    },
    {
     "name": "stdout",
     "output_type": "stream",
     "text": [
      "Departure Record Inserted - OK\n",
      "[('ce38cf4ea9cbfa0535cf76c5ffdd36b3', 'YS 4710', '2023-12-28 01:49:39.000000', '40_20231227T204939.jpg', '2023-12-29 22:56:45.723855')]\n"
     ]
    },
    {
     "name": "stderr",
     "output_type": "stream",
     "text": [
      "Some weights of VisionEncoderDecoderModel were not initialized from the model checkpoint at microsoft/trocr-base-printed and are newly initialized: ['encoder.pooler.dense.weight', 'encoder.pooler.dense.bias']\n",
      "You should probably TRAIN this model on a down-stream task to be able to use it for predictions and inference.\n",
      "Could not find image processor class in the image processor config or the model config. Loading based on pattern matching with the model's feature extractor configuration.\n"
     ]
    },
    {
     "name": "stdout",
     "output_type": "stream",
     "text": [
      "Departure Record Inserted - OK\n",
      "[('77b9584dda76506a05f43e742963afb7', '4214MP', '2023-12-26 14:41:52.000000', '50_20231226T094152.jpg', '2023-12-29 22:56:52.613509')]\n"
     ]
    },
    {
     "name": "stderr",
     "output_type": "stream",
     "text": [
      "Some weights of VisionEncoderDecoderModel were not initialized from the model checkpoint at microsoft/trocr-base-printed and are newly initialized: ['encoder.pooler.dense.weight', 'encoder.pooler.dense.bias']\n",
      "You should probably TRAIN this model on a down-stream task to be able to use it for predictions and inference.\n",
      "Could not find image processor class in the image processor config or the model config. Loading based on pattern matching with the model's feature extractor configuration.\n"
     ]
    },
    {
     "name": "stdout",
     "output_type": "stream",
     "text": [
      "Departure Record Inserted - OK\n",
      "[('cc13ef68bda2aee46582d6bdcb3b1a40', 'Y57727', '2023-12-28 14:47:15.000000', '46_20231228T094715.jpg', '2023-12-29 22:56:59.532441')]\n"
     ]
    },
    {
     "name": "stderr",
     "output_type": "stream",
     "text": [
      "Some weights of VisionEncoderDecoderModel were not initialized from the model checkpoint at microsoft/trocr-base-printed and are newly initialized: ['encoder.pooler.dense.weight', 'encoder.pooler.dense.bias']\n",
      "You should probably TRAIN this model on a down-stream task to be able to use it for predictions and inference.\n",
      "Could not find image processor class in the image processor config or the model config. Loading based on pattern matching with the model's feature extractor configuration.\n"
     ]
    },
    {
     "name": "stdout",
     "output_type": "stream",
     "text": [
      "Departure Record Inserted - OK\n",
      "[('4aebc97d5f15b9387294c65d8faff04a', '7842KD', '2023-12-26 20:40:32.000000', '33_20231226T154032.jpg', '2023-12-29 22:57:06.504474')]\n"
     ]
    },
    {
     "name": "stderr",
     "output_type": "stream",
     "text": [
      "Some weights of VisionEncoderDecoderModel were not initialized from the model checkpoint at microsoft/trocr-base-printed and are newly initialized: ['encoder.pooler.dense.weight', 'encoder.pooler.dense.bias']\n",
      "You should probably TRAIN this model on a down-stream task to be able to use it for predictions and inference.\n",
      "Could not find image processor class in the image processor config or the model config. Loading based on pattern matching with the model's feature extractor configuration.\n"
     ]
    },
    {
     "name": "stdout",
     "output_type": "stream",
     "text": [
      "Departure Record Inserted - OK\n",
      "[('3e1fd0fbba2522e853d16f315866910d', '9425-AD', '2023-12-29 04:00:11.000000', '80_20231228T230011.jpg', '2023-12-29 22:57:13.460367')]\n"
     ]
    },
    {
     "name": "stderr",
     "output_type": "stream",
     "text": [
      "Some weights of VisionEncoderDecoderModel were not initialized from the model checkpoint at microsoft/trocr-base-printed and are newly initialized: ['encoder.pooler.dense.weight', 'encoder.pooler.dense.bias']\n",
      "You should probably TRAIN this model on a down-stream task to be able to use it for predictions and inference.\n",
      "Could not find image processor class in the image processor config or the model config. Loading based on pattern matching with the model's feature extractor configuration.\n"
     ]
    },
    {
     "name": "stdout",
     "output_type": "stream",
     "text": [
      "Departure Record Inserted - OK\n",
      "[('e92e8366e45d4913a0f7027115b60f35', 'MG.9429', '2023-12-28 09:57:14.000000', '11_20231228T045714.jpg', '2023-12-29 22:57:20.538795')]\n"
     ]
    },
    {
     "name": "stderr",
     "output_type": "stream",
     "text": [
      "Some weights of VisionEncoderDecoderModel were not initialized from the model checkpoint at microsoft/trocr-base-printed and are newly initialized: ['encoder.pooler.dense.weight', 'encoder.pooler.dense.bias']\n",
      "You should probably TRAIN this model on a down-stream task to be able to use it for predictions and inference.\n",
      "Could not find image processor class in the image processor config or the model config. Loading based on pattern matching with the model's feature extractor configuration.\n"
     ]
    },
    {
     "name": "stdout",
     "output_type": "stream",
     "text": [
      "Departure Record Inserted - OK\n",
      "[('ee0f70c951da6cfc608fd4103c28dede', 37557, '2023-12-22 23:07:54.000000', '72_20231222T180754.jpg', '2023-12-29 22:57:27.303147')]\n"
     ]
    },
    {
     "name": "stderr",
     "output_type": "stream",
     "text": [
      "Some weights of VisionEncoderDecoderModel were not initialized from the model checkpoint at microsoft/trocr-base-printed and are newly initialized: ['encoder.pooler.dense.weight', 'encoder.pooler.dense.bias']\n",
      "You should probably TRAIN this model on a down-stream task to be able to use it for predictions and inference.\n",
      "Could not find image processor class in the image processor config or the model config. Loading based on pattern matching with the model's feature extractor configuration.\n"
     ]
    },
    {
     "name": "stdout",
     "output_type": "stream",
     "text": [
      "Departure Record Inserted - OK\n",
      "[('0ea48fc3158b2e626526ef064ec57f2a', '8893XA', '2023-12-27 15:02:32.000000', '73_20231227T100232.jpg', '2023-12-29 22:57:34.335618')]\n"
     ]
    },
    {
     "name": "stderr",
     "output_type": "stream",
     "text": [
      "Some weights of VisionEncoderDecoderModel were not initialized from the model checkpoint at microsoft/trocr-base-printed and are newly initialized: ['encoder.pooler.dense.weight', 'encoder.pooler.dense.bias']\n",
      "You should probably TRAIN this model on a down-stream task to be able to use it for predictions and inference.\n",
      "Could not find image processor class in the image processor config or the model config. Loading based on pattern matching with the model's feature extractor configuration.\n"
     ]
    },
    {
     "name": "stdout",
     "output_type": "stream",
     "text": [
      "Departure Record Inserted - OK\n",
      "[('2a392c365565eafb8a00c1cceb02381f', 'HS 6927', '2023-12-23 13:30:20.000000', '85_20231223T083020.jpg', '2023-12-29 22:57:41.155065')]\n"
     ]
    },
    {
     "name": "stderr",
     "output_type": "stream",
     "text": [
      "Some weights of VisionEncoderDecoderModel were not initialized from the model checkpoint at microsoft/trocr-base-printed and are newly initialized: ['encoder.pooler.dense.weight', 'encoder.pooler.dense.bias']\n",
      "You should probably TRAIN this model on a down-stream task to be able to use it for predictions and inference.\n",
      "Could not find image processor class in the image processor config or the model config. Loading based on pattern matching with the model's feature extractor configuration.\n"
     ]
    },
    {
     "name": "stdout",
     "output_type": "stream",
     "text": [
      "Departure Record Inserted - OK\n",
      "[('3fd5e2a3b51907fbbc24c77e1cce0f33', 'MY5459', '2023-12-25 06:28:34.000000', '18_20231225T012834.jpg', '2023-12-29 22:57:47.880632')]\n"
     ]
    },
    {
     "name": "stderr",
     "output_type": "stream",
     "text": [
      "Some weights of VisionEncoderDecoderModel were not initialized from the model checkpoint at microsoft/trocr-base-printed and are newly initialized: ['encoder.pooler.dense.weight', 'encoder.pooler.dense.bias']\n",
      "You should probably TRAIN this model on a down-stream task to be able to use it for predictions and inference.\n",
      "Could not find image processor class in the image processor config or the model config. Loading based on pattern matching with the model's feature extractor configuration.\n"
     ]
    },
    {
     "name": "stdout",
     "output_type": "stream",
     "text": [
      "Departure Record Inserted - OK\n",
      "[('5f33d366ead79e4d7740fbfd80efc657', 'MASENT,', '2023-12-29 01:51:45.000000', '21_20231228T205145.jpg', '2023-12-29 22:57:54.674013')]\n"
     ]
    },
    {
     "name": "stderr",
     "output_type": "stream",
     "text": [
      "Some weights of VisionEncoderDecoderModel were not initialized from the model checkpoint at microsoft/trocr-base-printed and are newly initialized: ['encoder.pooler.dense.weight', 'encoder.pooler.dense.bias']\n",
      "You should probably TRAIN this model on a down-stream task to be able to use it for predictions and inference.\n",
      "Could not find image processor class in the image processor config or the model config. Loading based on pattern matching with the model's feature extractor configuration.\n"
     ]
    },
    {
     "name": "stdout",
     "output_type": "stream",
     "text": [
      "Departure Record Inserted - OK\n",
      "[('90cf5f752a8eaacba309eb3324bbdd4d', 'FZ7861', '2023-12-24 22:00:53.000000', '24_20231224T170053.jpg', '2023-12-29 22:58:01.660474')]\n"
     ]
    },
    {
     "name": "stderr",
     "output_type": "stream",
     "text": [
      "Some weights of VisionEncoderDecoderModel were not initialized from the model checkpoint at microsoft/trocr-base-printed and are newly initialized: ['encoder.pooler.dense.weight', 'encoder.pooler.dense.bias']\n",
      "You should probably TRAIN this model on a down-stream task to be able to use it for predictions and inference.\n",
      "Could not find image processor class in the image processor config or the model config. Loading based on pattern matching with the model's feature extractor configuration.\n"
     ]
    },
    {
     "name": "stdout",
     "output_type": "stream",
     "text": [
      "Departure Record Inserted - OK\n",
      "[('ab95728d2a356b20646486ce70a61eb9', 'DISCOUNT', '2023-12-23 21:14:54.000000', '12_20231223T161454.jpg', '2023-12-29 22:58:08.561160')]\n"
     ]
    },
    {
     "name": "stderr",
     "output_type": "stream",
     "text": [
      "Some weights of VisionEncoderDecoderModel were not initialized from the model checkpoint at microsoft/trocr-base-printed and are newly initialized: ['encoder.pooler.dense.weight', 'encoder.pooler.dense.bias']\n",
      "You should probably TRAIN this model on a down-stream task to be able to use it for predictions and inference.\n",
      "Could not find image processor class in the image processor config or the model config. Loading based on pattern matching with the model's feature extractor configuration.\n"
     ]
    },
    {
     "name": "stdout",
     "output_type": "stream",
     "text": [
      "Departure Record Inserted - OK\n",
      "[('5ba052778acaff397520012db8dde9b5', 565481, '2023-12-24 07:44:46.000000', '9_20231224T024446.jpg', '2023-12-29 22:58:15.318634')]\n"
     ]
    },
    {
     "name": "stderr",
     "output_type": "stream",
     "text": [
      "Some weights of VisionEncoderDecoderModel were not initialized from the model checkpoint at microsoft/trocr-base-printed and are newly initialized: ['encoder.pooler.dense.weight', 'encoder.pooler.dense.bias']\n",
      "You should probably TRAIN this model on a down-stream task to be able to use it for predictions and inference.\n",
      "Could not find image processor class in the image processor config or the model config. Loading based on pattern matching with the model's feature extractor configuration.\n"
     ]
    },
    {
     "name": "stdout",
     "output_type": "stream",
     "text": [
      "Departure Record Inserted - OK\n",
      "[('a00e93380d3b31b23dd37ed6a06cf1fc', 128192, '2023-12-22 15:29:29.000000', '36_20231222T102929.jpg', '2023-12-29 22:58:22.137781')]\n"
     ]
    },
    {
     "name": "stderr",
     "output_type": "stream",
     "text": [
      "Some weights of VisionEncoderDecoderModel were not initialized from the model checkpoint at microsoft/trocr-base-printed and are newly initialized: ['encoder.pooler.dense.weight', 'encoder.pooler.dense.bias']\n",
      "You should probably TRAIN this model on a down-stream task to be able to use it for predictions and inference.\n",
      "Could not find image processor class in the image processor config or the model config. Loading based on pattern matching with the model's feature extractor configuration.\n"
     ]
    },
    {
     "name": "stdout",
     "output_type": "stream",
     "text": [
      "Departure Record Inserted - OK\n",
      "[('dae1bf1bcc2cc65284f7a7087d13d931', 565481, '2023-12-22 16:01:39.000000', '9_20231222T110139.jpg', '2023-12-29 22:58:29.109370')]\n"
     ]
    },
    {
     "name": "stderr",
     "output_type": "stream",
     "text": [
      "Some weights of VisionEncoderDecoderModel were not initialized from the model checkpoint at microsoft/trocr-base-printed and are newly initialized: ['encoder.pooler.dense.weight', 'encoder.pooler.dense.bias']\n",
      "You should probably TRAIN this model on a down-stream task to be able to use it for predictions and inference.\n",
      "Could not find image processor class in the image processor config or the model config. Loading based on pattern matching with the model's feature extractor configuration.\n"
     ]
    },
    {
     "name": "stdout",
     "output_type": "stream",
     "text": [
      "Departure Record Inserted - OK\n",
      "[('01f3d552c155fe8b9ac8be46c458741e', 'PJ867A', '2023-12-26 04:32:33.000000', '38_20231225T233233.jpg', '2023-12-29 22:58:36.342674')]\n"
     ]
    },
    {
     "name": "stderr",
     "output_type": "stream",
     "text": [
      "Some weights of VisionEncoderDecoderModel were not initialized from the model checkpoint at microsoft/trocr-base-printed and are newly initialized: ['encoder.pooler.dense.weight', 'encoder.pooler.dense.bias']\n",
      "You should probably TRAIN this model on a down-stream task to be able to use it for predictions and inference.\n",
      "Could not find image processor class in the image processor config or the model config. Loading based on pattern matching with the model's feature extractor configuration.\n"
     ]
    },
    {
     "name": "stdout",
     "output_type": "stream",
     "text": [
      "Departure Record Inserted - OK\n",
      "[('aa758989e0cba03200879a6c52f93764', 'NR 7965', '2023-12-25 17:29:54.000000', '5_20231225T122954.jpg', '2023-12-29 22:58:43.208150')]\n"
     ]
    },
    {
     "name": "stderr",
     "output_type": "stream",
     "text": [
      "Some weights of VisionEncoderDecoderModel were not initialized from the model checkpoint at microsoft/trocr-base-printed and are newly initialized: ['encoder.pooler.dense.weight', 'encoder.pooler.dense.bias']\n",
      "You should probably TRAIN this model on a down-stream task to be able to use it for predictions and inference.\n",
      "Could not find image processor class in the image processor config or the model config. Loading based on pattern matching with the model's feature extractor configuration.\n"
     ]
    },
    {
     "name": "stdout",
     "output_type": "stream",
     "text": [
      "Departure Record Inserted - OK\n",
      "[('0447386f17465e00062e7fa102d7ba61', '5214MG', '2023-12-25 04:36:29.000000', '34_20231224T233629.jpg', '2023-12-29 22:58:50.101338')]\n"
     ]
    },
    {
     "name": "stderr",
     "output_type": "stream",
     "text": [
      "Some weights of VisionEncoderDecoderModel were not initialized from the model checkpoint at microsoft/trocr-base-printed and are newly initialized: ['encoder.pooler.dense.weight', 'encoder.pooler.dense.bias']\n",
      "You should probably TRAIN this model on a down-stream task to be able to use it for predictions and inference.\n",
      "Could not find image processor class in the image processor config or the model config. Loading based on pattern matching with the model's feature extractor configuration.\n"
     ]
    },
    {
     "name": "stdout",
     "output_type": "stream",
     "text": [
      "Departure Record Inserted - OK\n",
      "[('7ab8fee51a650ce1cdfe6f1cafaa3ccf', 60160, '2023-12-25 07:43:19.000000', '82_20231225T024319.jpg', '2023-12-29 22:58:56.832747')]\n"
     ]
    },
    {
     "name": "stderr",
     "output_type": "stream",
     "text": [
      "Some weights of VisionEncoderDecoderModel were not initialized from the model checkpoint at microsoft/trocr-base-printed and are newly initialized: ['encoder.pooler.dense.weight', 'encoder.pooler.dense.bias']\n",
      "You should probably TRAIN this model on a down-stream task to be able to use it for predictions and inference.\n",
      "Could not find image processor class in the image processor config or the model config. Loading based on pattern matching with the model's feature extractor configuration.\n"
     ]
    },
    {
     "name": "stdout",
     "output_type": "stream",
     "text": [
      "Departure Record Inserted - OK\n",
      "[('b82f3a685b7c8ebebea1856cc30bdf1f', 50590, '2023-12-22 22:07:09.000000', '13_20231222T170709.jpg', '2023-12-29 22:59:03.685502')]\n"
     ]
    },
    {
     "name": "stderr",
     "output_type": "stream",
     "text": [
      "Some weights of VisionEncoderDecoderModel were not initialized from the model checkpoint at microsoft/trocr-base-printed and are newly initialized: ['encoder.pooler.dense.weight', 'encoder.pooler.dense.bias']\n",
      "You should probably TRAIN this model on a down-stream task to be able to use it for predictions and inference.\n",
      "Could not find image processor class in the image processor config or the model config. Loading based on pattern matching with the model's feature extractor configuration.\n"
     ]
    },
    {
     "name": "stdout",
     "output_type": "stream",
     "text": [
      "Departure Record Inserted - OK\n",
      "[('ed80cbde1ac71692ca7f74f8f5fb5e1b', 'MY5459', '2023-12-22 17:40:59.000000', '18_20231222T124059.jpg', '2023-12-29 22:59:10.410374')]\n"
     ]
    },
    {
     "name": "stderr",
     "output_type": "stream",
     "text": [
      "Some weights of VisionEncoderDecoderModel were not initialized from the model checkpoint at microsoft/trocr-base-printed and are newly initialized: ['encoder.pooler.dense.weight', 'encoder.pooler.dense.bias']\n",
      "You should probably TRAIN this model on a down-stream task to be able to use it for predictions and inference.\n",
      "Could not find image processor class in the image processor config or the model config. Loading based on pattern matching with the model's feature extractor configuration.\n"
     ]
    },
    {
     "name": "stdout",
     "output_type": "stream",
     "text": [
      "Departure Record Inserted - OK\n",
      "[('dda394a99a5abf32c813867f0eef2124', 'GINGER BAKER', '2023-12-25 11:54:03.000000', '6_20231225T065403.jpg', '2023-12-29 22:59:17.597897')]\n"
     ]
    },
    {
     "name": "stderr",
     "output_type": "stream",
     "text": [
      "Some weights of VisionEncoderDecoderModel were not initialized from the model checkpoint at microsoft/trocr-base-printed and are newly initialized: ['encoder.pooler.dense.weight', 'encoder.pooler.dense.bias']\n",
      "You should probably TRAIN this model on a down-stream task to be able to use it for predictions and inference.\n",
      "Could not find image processor class in the image processor config or the model config. Loading based on pattern matching with the model's feature extractor configuration.\n"
     ]
    },
    {
     "name": "stdout",
     "output_type": "stream",
     "text": [
      "Departure Record Inserted - OK\n",
      "[('627ffb0901a3d73e68b489c948e66e36', 'RT:7178', '2023-12-29 00:18:57.000000', '28_20231228T191857.jpg', '2023-12-29 22:59:24.591503')]\n"
     ]
    },
    {
     "name": "stderr",
     "output_type": "stream",
     "text": [
      "Some weights of VisionEncoderDecoderModel were not initialized from the model checkpoint at microsoft/trocr-base-printed and are newly initialized: ['encoder.pooler.dense.weight', 'encoder.pooler.dense.bias']\n",
      "You should probably TRAIN this model on a down-stream task to be able to use it for predictions and inference.\n",
      "Could not find image processor class in the image processor config or the model config. Loading based on pattern matching with the model's feature extractor configuration.\n"
     ]
    },
    {
     "name": "stdout",
     "output_type": "stream",
     "text": [
      "Departure Record Inserted - OK\n",
      "[('fb3af797960d4f9403d88e0f3b27911f', 'TAX', '2023-12-23 07:23:43.000000', '47_20231223T022343.jpg', '2023-12-29 22:59:31.311276')]\n"
     ]
    },
    {
     "name": "stderr",
     "output_type": "stream",
     "text": [
      "Some weights of VisionEncoderDecoderModel were not initialized from the model checkpoint at microsoft/trocr-base-printed and are newly initialized: ['encoder.pooler.dense.weight', 'encoder.pooler.dense.bias']\n",
      "You should probably TRAIN this model on a down-stream task to be able to use it for predictions and inference.\n",
      "Could not find image processor class in the image processor config or the model config. Loading based on pattern matching with the model's feature extractor configuration.\n"
     ]
    },
    {
     "name": "stdout",
     "output_type": "stream",
     "text": [
      "Departure Record Inserted - OK\n",
      "[('75c5380d7076a80e709378e0f4f2e957', 'UBIAN', '2023-12-26 14:45:17.000000', '37_20231226T094517.jpg', '2023-12-29 22:59:38.088277')]\n"
     ]
    },
    {
     "name": "stderr",
     "output_type": "stream",
     "text": [
      "Some weights of VisionEncoderDecoderModel were not initialized from the model checkpoint at microsoft/trocr-base-printed and are newly initialized: ['encoder.pooler.dense.weight', 'encoder.pooler.dense.bias']\n",
      "You should probably TRAIN this model on a down-stream task to be able to use it for predictions and inference.\n",
      "Could not find image processor class in the image processor config or the model config. Loading based on pattern matching with the model's feature extractor configuration.\n"
     ]
    },
    {
     "name": "stdout",
     "output_type": "stream",
     "text": [
      "Departure Record Inserted - OK\n",
      "[('cc38d1d4d53d411331aa2ee2cdebb119', 'NR 7965', '2023-12-23 19:32:09.000000', '5_20231223T143209.jpg', '2023-12-29 22:59:45.021396')]\n"
     ]
    },
    {
     "name": "stderr",
     "output_type": "stream",
     "text": [
      "Some weights of VisionEncoderDecoderModel were not initialized from the model checkpoint at microsoft/trocr-base-printed and are newly initialized: ['encoder.pooler.dense.weight', 'encoder.pooler.dense.bias']\n",
      "You should probably TRAIN this model on a down-stream task to be able to use it for predictions and inference.\n",
      "Could not find image processor class in the image processor config or the model config. Loading based on pattern matching with the model's feature extractor configuration.\n"
     ]
    },
    {
     "name": "stdout",
     "output_type": "stream",
     "text": [
      "Departure Record Inserted - OK\n",
      "[('9552be3bc70826efc5e3120afada06e2', 'V9.5246', '2023-12-23 02:51:10.000000', '10_20231222T215110.jpg', '2023-12-29 22:59:52.032999')]\n"
     ]
    },
    {
     "name": "stderr",
     "output_type": "stream",
     "text": [
      "Some weights of VisionEncoderDecoderModel were not initialized from the model checkpoint at microsoft/trocr-base-printed and are newly initialized: ['encoder.pooler.dense.weight', 'encoder.pooler.dense.bias']\n",
      "You should probably TRAIN this model on a down-stream task to be able to use it for predictions and inference.\n",
      "Could not find image processor class in the image processor config or the model config. Loading based on pattern matching with the model's feature extractor configuration.\n"
     ]
    },
    {
     "name": "stdout",
     "output_type": "stream",
     "text": [
      "Departure Record Inserted - OK\n",
      "[('1ad3c9de0d9abb25e01479e8a835ff4e', 'T85625', '2023-12-27 04:52:07.000000', '61_20231226T235207.jpg', '2023-12-29 22:59:59.032447')]\n"
     ]
    },
    {
     "name": "stderr",
     "output_type": "stream",
     "text": [
      "Some weights of VisionEncoderDecoderModel were not initialized from the model checkpoint at microsoft/trocr-base-printed and are newly initialized: ['encoder.pooler.dense.weight', 'encoder.pooler.dense.bias']\n",
      "You should probably TRAIN this model on a down-stream task to be able to use it for predictions and inference.\n",
      "Could not find image processor class in the image processor config or the model config. Loading based on pattern matching with the model's feature extractor configuration.\n"
     ]
    },
    {
     "name": "stdout",
     "output_type": "stream",
     "text": [
      "Departure Record Inserted - OK\n",
      "[('aafa2ace44e6a324830850aefbb63652', 'HS 6927', '2023-12-26 10:58:43.000000', '85_20231226T055843.jpg', '2023-12-29 23:00:05.780858')]\n"
     ]
    },
    {
     "name": "stderr",
     "output_type": "stream",
     "text": [
      "Some weights of VisionEncoderDecoderModel were not initialized from the model checkpoint at microsoft/trocr-base-printed and are newly initialized: ['encoder.pooler.dense.weight', 'encoder.pooler.dense.bias']\n",
      "You should probably TRAIN this model on a down-stream task to be able to use it for predictions and inference.\n",
      "Could not find image processor class in the image processor config or the model config. Loading based on pattern matching with the model's feature extractor configuration.\n"
     ]
    },
    {
     "name": "stdout",
     "output_type": "stream",
     "text": [
      "Departure Record Inserted - OK\n",
      "[('22847f6ff7edd6142559b8c496874ab6', 'GINGER BAKER', '2023-12-27 15:43:01.000000', '6_20231227T104301.jpg', '2023-12-29 23:00:12.903021')]\n"
     ]
    },
    {
     "name": "stderr",
     "output_type": "stream",
     "text": [
      "Some weights of VisionEncoderDecoderModel were not initialized from the model checkpoint at microsoft/trocr-base-printed and are newly initialized: ['encoder.pooler.dense.weight', 'encoder.pooler.dense.bias']\n",
      "You should probably TRAIN this model on a down-stream task to be able to use it for predictions and inference.\n",
      "Could not find image processor class in the image processor config or the model config. Loading based on pattern matching with the model's feature extractor configuration.\n"
     ]
    },
    {
     "name": "stdout",
     "output_type": "stream",
     "text": [
      "Departure Record Inserted - OK\n",
      "[('a23be2e20f8727239ef9f2e13d8a63a9', 'PJ867A', '2023-12-27 08:07:19.000000', '38_20231227T030719.jpg', '2023-12-29 23:00:19.919223')]\n"
     ]
    },
    {
     "name": "stderr",
     "output_type": "stream",
     "text": [
      "Some weights of VisionEncoderDecoderModel were not initialized from the model checkpoint at microsoft/trocr-base-printed and are newly initialized: ['encoder.pooler.dense.weight', 'encoder.pooler.dense.bias']\n",
      "You should probably TRAIN this model on a down-stream task to be able to use it for predictions and inference.\n",
      "Could not find image processor class in the image processor config or the model config. Loading based on pattern matching with the model's feature extractor configuration.\n"
     ]
    },
    {
     "name": "stdout",
     "output_type": "stream",
     "text": [
      "Departure Record Inserted - OK\n",
      "[('06a7a9425086b413076d3574d3bacb2e', 'YS 4710', '2023-12-28 11:38:46.000000', '40_20231228T063846.jpg', '2023-12-29 23:00:27.088341')]\n"
     ]
    },
    {
     "name": "stderr",
     "output_type": "stream",
     "text": [
      "Some weights of VisionEncoderDecoderModel were not initialized from the model checkpoint at microsoft/trocr-base-printed and are newly initialized: ['encoder.pooler.dense.weight', 'encoder.pooler.dense.bias']\n",
      "You should probably TRAIN this model on a down-stream task to be able to use it for predictions and inference.\n",
      "Could not find image processor class in the image processor config or the model config. Loading based on pattern matching with the model's feature extractor configuration.\n"
     ]
    },
    {
     "name": "stdout",
     "output_type": "stream",
     "text": [
      "Departure Record Inserted - OK\n",
      "[('0b334a0d2da4399b6660e8e76459f32b', 60160, '2023-12-23 07:09:46.000000', '82_20231223T020946.jpg', '2023-12-29 23:00:34.149197')]\n"
     ]
    },
    {
     "name": "stderr",
     "output_type": "stream",
     "text": [
      "Some weights of VisionEncoderDecoderModel were not initialized from the model checkpoint at microsoft/trocr-base-printed and are newly initialized: ['encoder.pooler.dense.weight', 'encoder.pooler.dense.bias']\n",
      "You should probably TRAIN this model on a down-stream task to be able to use it for predictions and inference.\n",
      "Could not find image processor class in the image processor config or the model config. Loading based on pattern matching with the model's feature extractor configuration.\n"
     ]
    },
    {
     "name": "stdout",
     "output_type": "stream",
     "text": [
      "Departure Record Inserted - OK\n",
      "[('ca2b172971b04fad7303e23b41b11ae3', '5214MG', '2023-12-23 20:01:40.000000', '34_20231223T150140.jpg', '2023-12-29 23:00:40.917205')]\n"
     ]
    },
    {
     "name": "stderr",
     "output_type": "stream",
     "text": [
      "Some weights of VisionEncoderDecoderModel were not initialized from the model checkpoint at microsoft/trocr-base-printed and are newly initialized: ['encoder.pooler.dense.weight', 'encoder.pooler.dense.bias']\n",
      "You should probably TRAIN this model on a down-stream task to be able to use it for predictions and inference.\n",
      "Could not find image processor class in the image processor config or the model config. Loading based on pattern matching with the model's feature extractor configuration.\n"
     ]
    },
    {
     "name": "stdout",
     "output_type": "stream",
     "text": [
      "Departure Record Inserted - OK\n",
      "[('3c6681bdc6c8dd7b291dc7e3c345525f', 'GINGER BAKER', '2023-12-25 04:39:17.000000', '6_20231224T233917.jpg', '2023-12-29 23:00:48.191951')]\n"
     ]
    },
    {
     "name": "stderr",
     "output_type": "stream",
     "text": [
      "Some weights of VisionEncoderDecoderModel were not initialized from the model checkpoint at microsoft/trocr-base-printed and are newly initialized: ['encoder.pooler.dense.weight', 'encoder.pooler.dense.bias']\n",
      "You should probably TRAIN this model on a down-stream task to be able to use it for predictions and inference.\n"
     ]
    },
    {
     "name": "stdout",
     "output_type": "stream",
     "text": [
      "Departure Record Inserted - OK\n",
      "[('614f79b98ee9f3315f00cf4b737088fa', 'RC.0038', '2023-12-26 09:06:30.000000', '66_20231226T040630.jpg', '2023-12-29 23:00:55.129144')]\n"
     ]
    },
    {
     "name": "stderr",
     "output_type": "stream",
     "text": [
      "Could not find image processor class in the image processor config or the model config. Loading based on pattern matching with the model's feature extractor configuration.\n",
      "Some weights of VisionEncoderDecoderModel were not initialized from the model checkpoint at microsoft/trocr-base-printed and are newly initialized: ['encoder.pooler.dense.weight', 'encoder.pooler.dense.bias']\n",
      "You should probably TRAIN this model on a down-stream task to be able to use it for predictions and inference.\n",
      "Could not find image processor class in the image processor config or the model config. Loading based on pattern matching with the model's feature extractor configuration.\n"
     ]
    },
    {
     "name": "stdout",
     "output_type": "stream",
     "text": [
      "Departure Record Inserted - OK\n",
      "[('a859f37ae8c7811b598840552851904b', 'RT:7178', '2023-12-26 04:55:47.000000', '28_20231225T235547.jpg', '2023-12-29 23:01:02.238634')]\n"
     ]
    },
    {
     "name": "stderr",
     "output_type": "stream",
     "text": [
      "Some weights of VisionEncoderDecoderModel were not initialized from the model checkpoint at microsoft/trocr-base-printed and are newly initialized: ['encoder.pooler.dense.weight', 'encoder.pooler.dense.bias']\n",
      "You should probably TRAIN this model on a down-stream task to be able to use it for predictions and inference.\n"
     ]
    },
    {
     "name": "stdout",
     "output_type": "stream",
     "text": [
      "Departure Record Inserted - OK\n",
      "[('71b92b1f632161085232596014b42ad2', 'MY5459', '2023-12-24 01:53:27.000000', '18_20231223T205327.jpg', '2023-12-29 23:01:09.137905')]\n"
     ]
    }
   ],
   "source": [
    "# License plate images from new departures written to staging sub-folder\n",
    "new_departures = os.listdir(os.path.join(departures_path, 'staging'))\n",
    "# If there are new departures in the staging folder, add them to the database\n",
    "if len(new_departures) > 0:\n",
    "    # TO DO - add batch processing option for scalable backfilling\n",
    "    for departure_image in new_departures:\n",
    "        # ignore non-JPG files\n",
    "        if departure_image.endswith('.jpg'):\n",
    "            # Extract license plate number from image using PyTorch model\n",
    "            image_path = os.path.join(departures_path, 'staging', departure_image)\n",
    "            license_plate_number = extract_license_plate_number(image_path)\n",
    "            # Get departure timestamp - assumed equal to the creation timestamp of the image file\n",
    "            departure_ts_utc = datetime.strftime(datetime.fromtimestamp(os.path.getmtime(image_path), timezone.utc), '%Y-%m-%d %H:%M:%S.%f')\n",
    "            # Get timestamp the departure record was created at (now)\n",
    "            departure_created_at_utc = datetime.strftime(datetime.utcnow(), '%Y-%m-%d %H:%M:%S.%f')\n",
    "            with sqlite3.connect(db_path) as db_conn:\n",
    "                db_cur = db_conn.cursor()\n",
    "\n",
    "                # Get the last recorded arrival_record_id prior to the creation of the departure image\n",
    "                # TO DO - update to handle edge cases where arrival records are missing or delayed due to camera or network issues\n",
    "                arrival_record_id = db_cur.execute(\n",
    "                f\"\"\"\n",
    "                select arrival_record_id, arrival_ts_utc\n",
    "                from arrivals\n",
    "                where license_plate_number = '{license_plate_number}'\n",
    "                    and arrival_ts_utc < '{departure_ts_utc}'\n",
    "                order by arrival_ts_utc desc\n",
    "                \"\"\"\n",
    "                ).fetchone()[0]\n",
    "\n",
    "                # Write the record to the departures database\n",
    "                res = db_cur.execute(\n",
    "                f\"\"\"\n",
    "                insert into departures (arrival_record_id, license_plate_number, departure_ts_utc, departure_comment, departure_created_at_utc)\n",
    "                values('{arrival_record_id}', '{license_plate_number}', '{departure_ts_utc}', '{departure_image}', '{departure_created_at_utc}')\n",
    "                \"\"\"\n",
    "                )\n",
    "                # Check whether write process was successful\n",
    "                res = db_cur.execute(f\"select * from departures where arrival_record_id = '{arrival_record_id}'\").fetchall()\n",
    "                if len(res) > 0:\n",
    "                    print('Departure Record Inserted - OK')\n",
    "                    print(res)\n",
    "                    # If successful, move processed image from staging to production\n",
    "                    os.rename(\n",
    "                        os.path.join(departures_path, 'staging', departure_image),\n",
    "                        os.path.join(departures_path, 'production', departure_image)\n",
    "                    )\n",
    "                else:\n",
    "                    print('Departure Record Inserted - FAIL')\n",
    "                    print(departure_image)"
   ]
  },
  {
   "cell_type": "markdown",
   "id": "726015fd-dda5-47df-8596-4ada227f5985",
   "metadata": {},
   "source": [
    "# Analysis Example"
   ]
  },
  {
   "cell_type": "code",
   "execution_count": 156,
   "id": "3b05d25f-9b39-4020-96b0-2c29722e6554",
   "metadata": {},
   "outputs": [
    {
     "data": {
      "text/html": [
       "<div>\n",
       "<style scoped>\n",
       "    .dataframe tbody tr th:only-of-type {\n",
       "        vertical-align: middle;\n",
       "    }\n",
       "\n",
       "    .dataframe tbody tr th {\n",
       "        vertical-align: top;\n",
       "    }\n",
       "\n",
       "    .dataframe thead th {\n",
       "        text-align: right;\n",
       "    }\n",
       "</style>\n",
       "<table border=\"1\" class=\"dataframe\">\n",
       "  <thead>\n",
       "    <tr style=\"text-align: right;\">\n",
       "      <th></th>\n",
       "      <th>date</th>\n",
       "      <th>total_visitors</th>\n",
       "      <th>unq_visitors</th>\n",
       "      <th>avg_visit_length_minutes</th>\n",
       "      <th>avg_visits_per_unq_visitor</th>\n",
       "    </tr>\n",
       "  </thead>\n",
       "  <tbody>\n",
       "    <tr>\n",
       "      <th>0</th>\n",
       "      <td>2023-12-22</td>\n",
       "      <td>18</td>\n",
       "      <td>18</td>\n",
       "      <td>156.241667</td>\n",
       "      <td>1.000000</td>\n",
       "    </tr>\n",
       "    <tr>\n",
       "      <th>1</th>\n",
       "      <td>2023-12-23</td>\n",
       "      <td>24</td>\n",
       "      <td>24</td>\n",
       "      <td>155.009722</td>\n",
       "      <td>1.000000</td>\n",
       "    </tr>\n",
       "    <tr>\n",
       "      <th>2</th>\n",
       "      <td>2023-12-24</td>\n",
       "      <td>17</td>\n",
       "      <td>16</td>\n",
       "      <td>148.649020</td>\n",
       "      <td>1.062500</td>\n",
       "    </tr>\n",
       "    <tr>\n",
       "      <th>3</th>\n",
       "      <td>2023-12-25</td>\n",
       "      <td>14</td>\n",
       "      <td>12</td>\n",
       "      <td>145.578572</td>\n",
       "      <td>1.166667</td>\n",
       "    </tr>\n",
       "    <tr>\n",
       "      <th>4</th>\n",
       "      <td>2023-12-26</td>\n",
       "      <td>23</td>\n",
       "      <td>23</td>\n",
       "      <td>123.883333</td>\n",
       "      <td>1.000000</td>\n",
       "    </tr>\n",
       "    <tr>\n",
       "      <th>5</th>\n",
       "      <td>2023-12-27</td>\n",
       "      <td>19</td>\n",
       "      <td>19</td>\n",
       "      <td>164.612281</td>\n",
       "      <td>1.000000</td>\n",
       "    </tr>\n",
       "    <tr>\n",
       "      <th>6</th>\n",
       "      <td>2023-12-28</td>\n",
       "      <td>25</td>\n",
       "      <td>23</td>\n",
       "      <td>108.116667</td>\n",
       "      <td>1.086957</td>\n",
       "    </tr>\n",
       "    <tr>\n",
       "      <th>7</th>\n",
       "      <td>2023-12-29</td>\n",
       "      <td>6</td>\n",
       "      <td>6</td>\n",
       "      <td>113.191667</td>\n",
       "      <td>1.000000</td>\n",
       "    </tr>\n",
       "  </tbody>\n",
       "</table>\n",
       "</div>"
      ],
      "text/plain": [
       "         date  total_visitors  unq_visitors  avg_visit_length_minutes  \\\n",
       "0  2023-12-22              18            18                156.241667   \n",
       "1  2023-12-23              24            24                155.009722   \n",
       "2  2023-12-24              17            16                148.649020   \n",
       "3  2023-12-25              14            12                145.578572   \n",
       "4  2023-12-26              23            23                123.883333   \n",
       "5  2023-12-27              19            19                164.612281   \n",
       "6  2023-12-28              25            23                108.116667   \n",
       "7  2023-12-29               6             6                113.191667   \n",
       "\n",
       "   avg_visits_per_unq_visitor  \n",
       "0                    1.000000  \n",
       "1                    1.000000  \n",
       "2                    1.062500  \n",
       "3                    1.166667  \n",
       "4                    1.000000  \n",
       "5                    1.000000  \n",
       "6                    1.086957  \n",
       "7                    1.000000  "
      ]
     },
     "execution_count": 156,
     "metadata": {},
     "output_type": "execute_result"
    }
   ],
   "source": [
    "with sqlite3.connect(db_path) as db_conn:\n",
    "    db_cur = db_conn.cursor()\n",
    "    df = pd.DataFrame(db_cur.execute(\"\"\"\n",
    "    select date(arrival_ts_utc) as date,\n",
    "        count(*) as total_visitors,\n",
    "        count(distinct license_plate_number) as unq_visitors,\n",
    "        sum(visit_duration_minutes)/count(*) as avg_visit_length_minutes,\n",
    "        count(*)*1.0/count(distinct license_plate_number) as avg_visits_per_unq_visitor\n",
    "    from (\n",
    "        select a.arrival_record_id,\n",
    "            a.license_plate_number,\n",
    "            a.arrival_ts_utc,\n",
    "            b.departure_ts_utc,\n",
    "            (julianday(departure_ts_utc) - julianday(arrival_ts_utc))*24*60 as visit_duration_minutes\n",
    "        from arrivals a\n",
    "            left join departures b on a.arrival_record_id = b.arrival_record_id\n",
    "    )\n",
    "    group by 1\n",
    "    \"\"\").fetchall(),columns=['date', 'total_visitors', 'unq_visitors', 'avg_visit_length_minutes', 'avg_visits_per_unq_visitor'])\n",
    "df.head(10)"
   ]
  },
  {
   "cell_type": "code",
   "execution_count": 157,
   "id": "5838e680-6fd2-499f-9542-4764b1b40ce3",
   "metadata": {},
   "outputs": [
    {
     "data": {
      "text/plain": [
       "[array(['82.jpg', '28.jpg', '11.jpg', '40.jpg', '25.jpg', '72.jpg',\n",
       "        '74.jpg', '85.jpg', '6.jpg', '23.jpg', '54.jpg', '9.jpg', '46.jpg',\n",
       "        '19.jpg', '18.jpg', '34.jpg', '75.jpg', '36.jpg', '83.jpg',\n",
       "        '80.jpg', '70.jpg', '24.jpg', '21.jpg', '.DS_Store', '30.jpg',\n",
       "        '50.jpg', '68.jpg'], dtype='<U9'),\n",
       " array(['8.jpg', '13.jpg', '73.jpg', '9.jpg', '26.jpg', '61.jpg', '6.jpg',\n",
       "        '33.jpg', '38.jpg', '24.jpg', '83.jpg', '40.jpg', '27.jpg',\n",
       "        '1.jpg', '21.jpg', '30.jpg'], dtype='<U9'),\n",
       " array(['47.jpg', '50.jpg', '75.jpg', '69.jpg', '33.jpg', '61.jpg',\n",
       "        '28.jpg', '72.jpg', '66.jpg', '80.jpg', '85.jpg', '11.jpg',\n",
       "        '46.jpg', '36.jpg', '.DS_Store', '67.jpg', '12.jpg', '9.jpg',\n",
       "        '18.jpg', '24.jpg', '37.jpg', '71.jpg', '60.jpg', '84.jpg'],\n",
       "       dtype='<U9'),\n",
       " array(['75.jpg', '23.jpg', '38.jpg', '5.jpg', '82.jpg', '24.jpg',\n",
       "        '18.jpg', '28.jpg', '.DS_Store', '2.jpg', '6.jpg'], dtype='<U9'),\n",
       " array(['84.jpg', '24.jpg', '27.jpg', '5.jpg', '50.jpg', '19.jpg', '6.jpg',\n",
       "        '46.jpg', '23.jpg', '70.jpg', '34.jpg', '79.jpg', '69.jpg',\n",
       "        '67.jpg', '.DS_Store', '38.jpg'], dtype='<U9'),\n",
       " array(['71.jpg', '76.jpg', '2.jpg', '21.jpg', '74.jpg', '61.jpg', '9.jpg',\n",
       "        '40.jpg', '6.jpg', '13.jpg', '54.jpg', '12.jpg', '84.jpg',\n",
       "        '85.jpg', '5.jpg', '25.jpg', '67.jpg', '33.jpg', '18.jpg',\n",
       "        '83.jpg', '11.jpg', '34.jpg', '1.jpg', '82.jpg', '19.jpg'],\n",
       "       dtype='<U9'),\n",
       " array(['10.jpg', '1.jpg', '24.jpg', '36.jpg', '82.jpg', '21.jpg',\n",
       "        '46.jpg', '63.jpg', '9.jpg', '72.jpg', '19.jpg', '27.jpg',\n",
       "        '83.jpg', '23.jpg', '60.jpg', '18.jpg', '33.jpg', '25.jpg',\n",
       "        '47.jpg', '13.jpg', '34.jpg', '70.jpg', '2.jpg'], dtype='<U9')]"
      ]
     },
     "execution_count": 157,
     "metadata": {},
     "output_type": "execute_result"
    }
   ],
   "source": [
    "daily_visitors"
   ]
  },
  {
   "cell_type": "code",
   "execution_count": null,
   "id": "6cab20b6-b509-460b-9b76-98aa86d7b251",
   "metadata": {},
   "outputs": [],
   "source": []
  }
 ],
 "metadata": {
  "kernelspec": {
   "display_name": "Python 3 (ipykernel)",
   "language": "python",
   "name": "python3"
  },
  "language_info": {
   "codemirror_mode": {
    "name": "ipython",
    "version": 3
   },
   "file_extension": ".py",
   "mimetype": "text/x-python",
   "name": "python",
   "nbconvert_exporter": "python",
   "pygments_lexer": "ipython3",
   "version": "3.9.6"
  }
 },
 "nbformat": 4,
 "nbformat_minor": 5
}
