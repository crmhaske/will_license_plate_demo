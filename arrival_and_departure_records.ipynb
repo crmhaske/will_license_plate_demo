{
 "cells": [
  {
   "cell_type": "markdown",
   "id": "99dea5a5-679d-482b-9727-a73838eef3ed",
   "metadata": {},
   "source": [
    "# Setup"
   ]
  },
  {
   "cell_type": "code",
   "execution_count": 6,
   "id": "460d01e2-db08-4220-a01e-c7481a791eb4",
   "metadata": {},
   "outputs": [],
   "source": [
    "import os, yaml, sqlite3, hashlib\n",
    "from datetime import datetime, timezone\n",
    "\n",
    "from utils import extract_license_plate_number\n",
    "\n",
    "# Load and extract configuration variables\n",
    "with open('config.yml', 'r') as f:\n",
    "    config = yaml.safe_load(f)\n",
    "arrivals_path = config['file_paths']['arrivals']\n",
    "departures_path = config['file_paths']['departures']\n",
    "db_path = os.path.join(config['database']['location'], config['database']['name']+'.db')\n",
    "\n",
    "# Connect to the database (database is created if it does not already exist)\n",
    "with sqlite3.connect(db_path) as db_conn:\n",
    "    db_cur = db_conn.cursor()  # cursor to execute SQL statements on db_conn\n",
    "    \n",
    "    # Create tables if they do not already exist\n",
    "    ## Arrivals\n",
    "    # res = db_cur.execute('drop table arrivals')\n",
    "    res = db_cur.execute(\n",
    "    \"\"\"create table if not exists arrivals(\n",
    "        arrival_record_id string, license_plate_number string, arrival_ts_utc timestamp, arrival_comment string, arrival_created_at_utc timestamp\n",
    "    )\"\"\")\n",
    "    ## Departures\n",
    "    # res = db_cur.execute('drop table departures')\n",
    "    res = db_cur.execute(\n",
    "    \"\"\"create table if not exists departures(\n",
    "        arrival_record_id string, license_plate_number string, departure_ts_utc timestamp, departure_comment string, departure_created_at_utc timestamp\n",
    "    )\"\"\")\n",
    "    \n",
    "    # Create join view if it does not already exist\n",
    "    # res = db_cur.execute('drop view records_view')\n",
    "    res = db_cur.execute(\n",
    "    \"\"\"\n",
    "    create view if not exists records_view as\n",
    "    select a.*, b.departure_ts_utc, b.departure_comment, b.departure_created_at_utc\n",
    "    from arrivals a\n",
    "       left join departures b on a.arrival_record_id = b.arrival_record_id\n",
    "           and a.license_plate_number = b.license_plate_number\n",
    "           and a.arrival_ts_utc < b.departure_ts_utc\n",
    "    \"\"\"\n",
    "    )"
   ]
  },
  {
   "cell_type": "markdown",
   "id": "99bc1fa3-43cd-4e54-aa56-c5622dcb3309",
   "metadata": {},
   "source": [
    "# Arrivals"
   ]
  },
  {
   "cell_type": "code",
   "execution_count": 15,
   "id": "2c79f40b-bacd-4e33-95a4-a5e879b04aa1",
   "metadata": {},
   "outputs": [
    {
     "name": "stderr",
     "output_type": "stream",
     "text": [
      "Could not find image processor class in the image processor config or the model config. Loading based on pattern matching with the model's feature extractor configuration.\n",
      "Some weights of VisionEncoderDecoderModel were not initialized from the model checkpoint at microsoft/trocr-base-printed and are newly initialized: ['encoder.pooler.dense.bias', 'encoder.pooler.dense.weight']\n",
      "You should probably TRAIN this model on a down-stream task to be able to use it for predictions and inference.\n"
     ]
    },
    {
     "name": "stdout",
     "output_type": "stream",
     "text": [
      "Arrival Record Inserted - OK\n",
      "[('e240792e33bfb393df39c7858e55bde7', 'BPNW-958', '2023-12-29 19:05:50.942569', '1997_Ontario_license_plate_BPNW♔958.png', '2023-12-29 19:16:29.774401')]\n"
     ]
    }
   ],
   "source": [
    "new_arrivals = os.listdir(os.path.join(arrivals_path, 'staging'))\n",
    "# If there are new arrivals in the staging folder, add them to the database\n",
    "if len(new_arrivals) > 0:\n",
    "    for arrival_image in new_arrivals:\n",
    "        image_path = os.path.join(arrivals_path, 'staging', arrival_image)\n",
    "        license_plate_number = extract_license_plate_number(image_path)\n",
    "        arrival_ts_utc = datetime.strftime(datetime.fromtimestamp(os.path.getctime(image_path), timezone.utc), '%Y-%m-%d %H:%M:%S.%f')\n",
    "        arrival_created_at_utc = datetime.strftime(datetime.utcnow(), '%Y-%m-%d %H:%M:%S.%f')\n",
    "        arrival_comment = arrival_image\n",
    "        arrival_record_id = hashlib.md5(f'{arrival_image};{arrival_ts_utc}'.encode('utf-8')).hexdigest()\n",
    "\n",
    "        with sqlite3.connect(db_path) as db_conn:\n",
    "            db_cur = db_conn.cursor()  # cursor to execute SQL statements on db_conn\n",
    "            res = db_cur.execute(\n",
    "            f\"\"\"\n",
    "            insert into arrivals (arrival_record_id, license_plate_number, arrival_ts_utc, arrival_comment, arrival_created_at_utc)\n",
    "            values('{arrival_record_id}', '{license_plate_number}', '{arrival_ts_utc}', '{arrival_comment}', '{arrival_created_at_utc}')\n",
    "            \"\"\"\n",
    "            )\n",
    "            res = db_cur.execute(f\"select * from arrivals where arrival_record_id = '{arrival_record_id}'\").fetchall()\n",
    "            if len(res) > 0:\n",
    "                print('Arrival Record Inserted - OK')\n",
    "                print(res)\n",
    "                os.rename(\n",
    "                    os.path.join(arrivals_path, 'staging', arrival_image),\n",
    "                    os.path.join(arrivals_path, 'production', arrival_image)\n",
    "                )\n",
    "            else:\n",
    "                print('Arrival Record Inserted - FAIL')\n",
    "                print(arrival_image)"
   ]
  },
  {
   "cell_type": "markdown",
   "id": "0fd5a6be-8058-4ba2-91e6-39efe0121199",
   "metadata": {},
   "source": [
    "# Departures"
   ]
  },
  {
   "cell_type": "code",
   "execution_count": null,
   "id": "9d1c613c-d3e1-4b95-8c94-e9503804f8ed",
   "metadata": {},
   "outputs": [],
   "source": [
    "# If there are new departures in the staging folder, add them to the database\n",
    "new_departures = os.listdir(os.path.join(departures_path, 'staging'))"
   ]
  },
  {
   "cell_type": "code",
   "execution_count": null,
   "id": "8bdf5d40-14fe-4e75-b96f-d83b39338009",
   "metadata": {},
   "outputs": [],
   "source": []
  }
 ],
 "metadata": {
  "kernelspec": {
   "display_name": "Python 3 (ipykernel)",
   "language": "python",
   "name": "python3"
  },
  "language_info": {
   "codemirror_mode": {
    "name": "ipython",
    "version": 3
   },
   "file_extension": ".py",
   "mimetype": "text/x-python",
   "name": "python",
   "nbconvert_exporter": "python",
   "pygments_lexer": "ipython3",
   "version": "3.9.6"
  }
 },
 "nbformat": 4,
 "nbformat_minor": 5
}
